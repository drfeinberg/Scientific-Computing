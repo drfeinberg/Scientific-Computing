{
 "cells": [
  {
   "cell_type": "markdown",
   "metadata": {
    "slideshow": {
     "slide_type": "slide"
    }
   },
   "source": [
    "# Coding Labs\n",
    "\n",
    "Welcome to the first coding lab!\n",
    "\n",
    "CodingLab labs are meant to be interactive.  Coding is something that you can do on your own or with other people. So, depending on your style, you can find another person to work with in labs, or you can go your own way.  If you want to work with someone, but can't find a partner, let me know.  I can find you a partner. Regardless, you should always be submitting your own work.  Having a partner doesn't mean copying someone else's work, it means helping each other.\n",
    "\n",
    "\n",
    "CodingLabs are also meant to be exploratory. There are broad questions in the notebook that you should explore, and try to answer - but you are also very much encouraged to explore other related ideas as you go! \n",
    "\n",
    "If you have a question about how something works / what something does - try it out, and see what happens!"
   ]
  },
  {
   "cell_type": "markdown",
   "metadata": {
    "slideshow": {
     "slide_type": "slide"
    }
   },
   "source": [
    "# <center><font color=green>Installing</font></center>\n",
    "\n",
    "<center><img src=\"img/anaconda.png\" width=\"200px\"></center>"
   ]
  },
  {
   "cell_type": "markdown",
   "metadata": {
    "slideshow": {
     "slide_type": "subslide"
    }
   },
   "source": [
    "<div class=\"alert alert-info\">\n",
    "Download Anaconda 3.7 from:\n",
    "<a href=\"https://www.anaconda.com/distribution/#download-section\" class=\"alert-link\">here.</a><br>\n",
    "    \n",
    "<font color=red>__**Make sure you know where you are saving the file so you can install the software!**__</font>\n",
    "</div>\n",
    "\n",
    "- To install Anaconda on OSX:\n",
    "<a href=\"https://www.datacamp.com/community/tutorials/installing-anaconda-mac-os-x\" class=\"aler-link\">follow these instructions.</a><br>\n",
    "\n",
    "- To install Anaconda on Windows\n",
    "<a href=\"https://www.datacamp.com/community/tutorials/installing-anaconda-windows\" class=\"aler-link\">follow these instructions.</a><br>\n",
    "</div>\n",
    "\n",
    "- If you need help installing Anaconda on Linux, raise your hand.\n",
    "\n",
    "- Make sure you select the Anaconda 3.7, 64-bit graphical installer.\n",
    "\n",
    "- After it's done installing, to run a Jupyter Notebook, follow the instructions <a href=\"https://jupyter-notebook-beginner-guide.readthedocs.io/en/latest/execute.html\" class=\"alert-link\"> here.</a><br>\n",
    "\n",
    "- Once you have set up Anaconda, you may begin working on Coding Lab 01.\n",
    "\n",
    "- If you need help installing Anaconda, raise your hand and we will help.\n",
    "\n",
    "\n"
   ]
  }
 ],
 "metadata": {
  "celltoolbar": "Slideshow",
  "kernelspec": {
   "display_name": "Python 3",
   "language": "python",
   "name": "python3"
  },
  "language_info": {
   "codemirror_mode": {
    "name": "ipython",
    "version": 3
   },
   "file_extension": ".py",
   "mimetype": "text/x-python",
   "name": "python",
   "nbconvert_exporter": "python",
   "pygments_lexer": "ipython3",
   "version": "3.7.3"
  },
  "toc": {
   "base_numbering": 1,
   "nav_menu": {},
   "number_sections": false,
   "sideBar": false,
   "skip_h1_title": false,
   "title_cell": "Table of Contents",
   "title_sidebar": "Contents",
   "toc_cell": false,
   "toc_position": {},
   "toc_section_display": false,
   "toc_window_display": false
  }
 },
 "nbformat": 4,
 "nbformat_minor": 2
}
