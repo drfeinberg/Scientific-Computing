{
 "cells": [
  {
   "cell_type": "markdown",
   "metadata": {},
   "source": [
    "# Coding Lab 2: Conditionals, Data Types, and Loops\n",
    "\n",
    "Welcome to the second coding lab!\n",
    "\n",
    "CodingLab labs are meant to be interactive - so you should find another person to work together with on this notebook. For this lab, you can either work together on one notebook, or work together but each fill out your own notebook, if you prefer. \n",
    "\n",
    "CodingLabs are also meant to be exploratory. There are broad questions in the notebook that you should explore, and try to answer - but you are also very much encouraged to explore other related ideas as you go! \n",
    "\n",
    "If you have a question about how something works / what something does - try it out, and see what happens!"
   ]
  },
  {
   "cell_type": "markdown",
   "metadata": {},
   "source": [
    "## Part 1: Collection types\n",
    "\n",
    "Collections are Python variable types than can store a 'collection' of items."
   ]
  },
  {
   "cell_type": "markdown",
   "metadata": {},
   "source": [
    "### Collection Questions\n",
    "\n",
    "Create a list with a names of the 7 major neurotransmitters.\n",
    "    - Glutamate\n",
    "    - Gamma-aminobutyric acid (GABBA)\n",
    "    - Serotonin\n",
    "    - Acetylcholine\n",
    "    - Dopamine\n",
    "    - Norepinephrine\n",
    "\n",
    "Call the list `neurotransmitters`."
   ]
  },
  {
   "cell_type": "code",
   "execution_count": null,
   "metadata": {
    "collapsed": true
   },
   "outputs": [],
   "source": [
    "## YOUR CODE HERE\n"
   ]
  },
  {
   "cell_type": "markdown",
   "metadata": {},
   "source": [
    "Use the following cells to check the types of the variables you write are as expected"
   ]
  },
  {
   "cell_type": "code",
   "execution_count": null,
   "metadata": {
    "collapsed": true
   },
   "outputs": [],
   "source": [
    "type(neurotransmitters)"
   ]
  },
  {
   "cell_type": "markdown",
   "metadata": {},
   "source": [
    "### Indexing\n",
    "\n",
    "Let's use the `neurotransmitters` list we created above.\n",
    "\n",
    "Given the neurotransmitters list, do the following operations:\n",
    "- Get the length of the list of neurotransmitters (assign this to a variable `number_of_neurotransmitters`)\n",
    "- Get the 1st element of the list (call the selection `neurotransmitter_1`)\n",
    "- Get the last element of the list (call the selection `neurotransmitter_2`)\n",
    "- Get the second to the fourth element of the list (call the selection `neurotransmitter_3`)\n",
    "- Get from the fifth element, to the end of the list (call the selection `end_of_list`)\n",
    "- Get every second element of the list, starting at the first element (call the selection `odd_number_neurotransmitters`)\n",
    "- Get every second element of the list, starting at the second element (call the selection `even_number_neurotransmitters`)\n",
    "\n"
   ]
  },
  {
   "cell_type": "code",
   "execution_count": 1,
   "metadata": {},
   "outputs": [],
   "source": [
    "# YOUR CODE HERE\n"
   ]
  },
  {
   "cell_type": "markdown",
   "metadata": {},
   "source": [
    "### Index Challenge\n",
    "- Use `neurotransmitters.append()` to add `Oxytocin` to the list of neurotransmitters\n",
    "- use `del` to remove `Oxytocin` from the list of neurotransmitters"
   ]
  },
  {
   "cell_type": "code",
   "execution_count": 2,
   "metadata": {},
   "outputs": [],
   "source": [
    "# YOUR CODE HERE\n"
   ]
  },
  {
   "cell_type": "markdown",
   "metadata": {},
   "source": [
    "## Part 2: Conditionals\n",
    "\n",
    "Conditionals a form of control flow for executing certain code if a specific condition is met. "
   ]
  },
  {
   "cell_type": "markdown",
   "metadata": {},
   "source": [
    "### Conditional Questions\n",
    "\n",
    "In this part, we will re-visit some questions about conditionals, and start combining them together with collections. \n",
    "\n",
    "Make sure you can use if/elif/else statements to control which code blocks are run."
   ]
  },
  {
   "cell_type": "markdown",
   "metadata": {},
   "source": [
    "#### Controlling Output With Conditionals\n",
    "\n",
    "You do something depending on whether an item is in a list by typing `if item in list:`  \n",
    "\n",
    "You can check if it's not in the list by typing `if not item in list:`\n",
    "\n",
    "Remember our list of neurotransmitters?\n",
    "- In the cell below, write a statent to check if `Oxytocin` is in the list of neurotransmitters. \n",
    "- If `Oxytocin` is in the list of neurotransmitters, print a statement telling the user that their list is incorrect, and that `Oxytocin` is a neuropeptide, not a neurotransmitter.\n",
    "    - Then delete `Oxytocin` from the list of neurotransmitters\n",
    "    - Then check how many neurotransmitters there are in the list\n",
    "        - If there are 7 neurotransmitters, use the `continue` statement to keep going.\n",
    "        - If there are not 7 neurotransmitters, tell the user to fix their list of neurotransmitters.\n",
    "    - Otherwise, if `Oxytocin` is not in the list of neurotransmitters, tell the user that their list doesn't have `Oxytocin` in it.\n",
    "    - Otherwise, if `Glutamate` and `Serotonin` are both in the list of neurotransmitters, tell the user they have a pretty good list there.\n",
    "    - Otherwise, tell the user something went wrong"
   ]
  },
  {
   "cell_type": "code",
   "execution_count": 1,
   "metadata": {},
   "outputs": [],
   "source": [
    "# YOUR CODE HERE"
   ]
  },
  {
   "cell_type": "markdown",
   "metadata": {},
   "source": [
    "### Operator Explorations\n",
    "\n",
    "For each of the following questions, start by writing out a guess of what you think it might do. \n",
    "\n",
    "Then, test out each one by writing out some code. \n",
    "\n",
    "Finally, once you have answered the question, using some code, add a comment in the markdown here with the answer. \n",
    "\n",
    "Questions:\n",
    "- Can you include multiple conditions in an if statement?\n",
    "    - If think so, write an if statement that tests multiple conditions.\n",
    "- What happens if you put an if statement inside an if statement? When would such a statement run?\n",
    "    - To explore this, write an if statement that has an embedded if statement in it. \n"
   ]
  },
  {
   "cell_type": "code",
   "execution_count": null,
   "metadata": {
    "collapsed": true
   },
   "outputs": [],
   "source": [
    "## YOUR EXPLORATIONS HERE\n",
    "\n"
   ]
  },
  {
   "cell_type": "markdown",
   "metadata": {},
   "source": [
    "## Part 3: Loops\n",
    "\n",
    "We will now explore two ways to iterate over data in Python - `for` and `while` loops. \n",
    "\n",
    "Each type of loop performs its respective code block until certain conditions are met. Here, we will explore what those conditions are. \n",
    "\n",
    "Note: \"iterate\" means to perform an action repeatedly \n",
    "\n",
    "Note: Sometimes, we accidentally make loops that never end. \n",
    "- If that happens, \"break\" the cell by selecting it and then pressing \"ctrl+c\". Alternatively, press the \"stop\" button (square icon) in the Jupyter toolbar. "
   ]
  },
  {
   "cell_type": "markdown",
   "metadata": {},
   "source": [
    "#### Loops Q1\n",
    "\n",
    "\n",
    "Let's suppose we are writing a program to count the number of times a mouse presses a lever to get a food reward.\n",
    "\n",
    "First, declare a variable called `number_of_presses` that has type int and value zero.\n",
    "\n",
    "Then write a for loop that runs 10 times and use `number_of_presses` to track how many times the loop runs. "
   ]
  },
  {
   "cell_type": "code",
   "execution_count": null,
   "metadata": {
    "collapsed": true
   },
   "outputs": [],
   "source": [
    "## YOUR CODE HERE\n"
   ]
  },
  {
   "cell_type": "markdown",
   "metadata": {},
   "source": [
    "#### Infinite Loops\n",
    "\n",
    "The while loop below will run indefinitely unless someone puts a stop to it! \n",
    "\n",
    "Add your own code that causes the loop to exit when the `number_of_presses` variable reaches 10. You can use `break` to do this. \n",
    "\n",
    "Note: Sometimes, we accidentally make loops that never end - try that by running the cell below before adding \n",
    "\n",
    "If that happens, interrupt the cell by selecting it and then pressing \"ctrl+c\". Alternatively, press the \"stop\" button (square icon) in the Jupyter toolbar. "
   ]
  },
  {
   "cell_type": "code",
   "execution_count": 4,
   "metadata": {},
   "outputs": [
    {
     "name": "stdout",
     "output_type": "stream",
     "text": [
      "the value of 'number_of_presses' = 0\n",
      "the value of 'number_of_presses' = 0\n",
      "the value of 'number_of_presses' = 0\n",
      "the value of 'number_of_presses' = 0\n",
      "the value of 'number_of_presses' = 0\n",
      "the value of 'number_of_presses' = 0\n",
      "the value of 'number_of_presses' = 0\n",
      "the value of 'number_of_presses' = 0\n",
      "the value of 'number_of_presses' = 0\n",
      "the value of 'number_of_presses' = 0\n"
     ]
    }
   ],
   "source": [
    "number_of_presses = 0\n",
    "\n",
    "while True:\n",
    "    \n",
    "    print(\"the value of 'number_of_presses' = {}\".format(counter))\n",
    "    number_of_presses +=1\n",
    "    \n",
    "    ## YOUR CODE HERE\n"
   ]
  },
  {
   "cell_type": "markdown",
   "metadata": {},
   "source": [
    "###  Loop Explorations\n",
    "\n",
    "- Write these combinations: \n",
    "    - a `for` loop with a `break`, a `for` loop with a `continue`\n",
    "    - a `while` loop with a `break`, a `for` loop with a `continue`\n",
    "- Write some loops that loop across lists:\n",
    "    - Write a loop that loops across, and prints out, all the elements of a list\n",
    "    - Write a loop that loops across, and prints out, every second element of a list\n",
    "    - Write a loop that loops across, and prints out, every element of a list in reverse order\n",
    "    - Write a loop that loops across, and prints out, the first half of a list\n",
    "- Write a loop with a conditional inside it.\n",
    "- Can you have loops inside loops? If you think so, try and write a nested loop. "
   ]
  },
  {
   "cell_type": "markdown",
   "metadata": {},
   "source": [
    "1) What happens if you use 'break' all by itself?"
   ]
  },
  {
   "cell_type": "code",
   "execution_count": 6,
   "metadata": {},
   "outputs": [],
   "source": [
    "# YOUR CODE HERE\n"
   ]
  },
  {
   "cell_type": "markdown",
   "metadata": {},
   "source": [
    "2) Using our list of `neurotransmitters` from above, write a `for` loop and `print` out each item in the list."
   ]
  },
  {
   "cell_type": "code",
   "execution_count": null,
   "metadata": {},
   "outputs": [],
   "source": [
    "# YOUR CODE HERE\n"
   ]
  },
  {
   "cell_type": "markdown",
   "metadata": {},
   "source": [
    "3) Define tuple named `dopaminergic_peptides` containing 3 dopaminergic neuropeptides: cholecystokinin, neurotensin, and glucagon-like peptide-1.  Use the type function to demonstrate that it is indeed a tuple."
   ]
  },
  {
   "cell_type": "code",
   "execution_count": 11,
   "metadata": {},
   "outputs": [
    {
     "data": {
      "text/plain": [
       "tuple"
      ]
     },
     "execution_count": 11,
     "metadata": {},
     "output_type": "execute_result"
    }
   ],
   "source": [
    "# YOUR CODE HERE\n"
   ]
  },
  {
   "cell_type": "markdown",
   "metadata": {},
   "source": [
    "4) Write a `for` loop that iterates through the `dopaminergic_peptides` tuple, if the current tuple is `neurotensin`, `continue` the loop."
   ]
  },
  {
   "cell_type": "code",
   "execution_count": null,
   "metadata": {},
   "outputs": [],
   "source": [
    "# YOUR CODE HERE\n"
   ]
  },
  {
   "cell_type": "markdown",
   "metadata": {},
   "source": [
    "5) Write a `for` loop that iterates through the `dopaminergic_peptides` tuple, if the current tuple is `neurotensin`, `break` the loop."
   ]
  },
  {
   "cell_type": "code",
   "execution_count": null,
   "metadata": {},
   "outputs": [],
   "source": [
    "# YOUR CODE HERE\n"
   ]
  },
  {
   "cell_type": "markdown",
   "metadata": {},
   "source": [
    "6) Using our list of `neurotransmitters` from above, write a `for` loop that loops across, and prints out, every second element of the list\n"
   ]
  },
  {
   "cell_type": "code",
   "execution_count": 12,
   "metadata": {},
   "outputs": [],
   "source": [
    "# YOUR CODE HERE\n"
   ]
  },
  {
   "cell_type": "markdown",
   "metadata": {},
   "source": [
    "7) Using our list of `neurotransmitters` from above, write a `for` loop that loops across, and prints out, every element of the list in reverse order\n"
   ]
  },
  {
   "cell_type": "code",
   "execution_count": null,
   "metadata": {},
   "outputs": [],
   "source": [
    "# YOUR CODE HERE\n"
   ]
  },
  {
   "cell_type": "markdown",
   "metadata": {},
   "source": [
    "8) Using our list of `neurotransmitters` from above, write a `for`  loop that loops across, and prints out only the first half of the list"
   ]
  },
  {
   "cell_type": "code",
   "execution_count": null,
   "metadata": {},
   "outputs": [],
   "source": [
    "# YOUR CODE HERE\n"
   ]
  }
 ],
 "metadata": {
  "kernelspec": {
   "display_name": "Python 3",
   "language": "python",
   "name": "python3"
  },
  "language_info": {
   "codemirror_mode": {
    "name": "ipython",
    "version": 3
   },
   "file_extension": ".py",
   "mimetype": "text/x-python",
   "name": "python",
   "nbconvert_exporter": "python",
   "pygments_lexer": "ipython3",
   "version": "3.7.3"
  },
  "toc": {
   "base_numbering": 1,
   "nav_menu": {},
   "number_sections": false,
   "sideBar": false,
   "skip_h1_title": false,
   "title_cell": "Table of Contents",
   "title_sidebar": "Contents",
   "toc_cell": false,
   "toc_position": {},
   "toc_section_display": false,
   "toc_window_display": false
  }
 },
 "nbformat": 4,
 "nbformat_minor": 2
}
