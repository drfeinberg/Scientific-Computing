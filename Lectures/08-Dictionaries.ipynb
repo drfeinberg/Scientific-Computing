{
 "cells": [
  {
   "cell_type": "markdown",
   "metadata": {
    "slideshow": {
     "slide_type": "slide"
    }
   },
   "source": [
    "# Dictionaries"
   ]
  },
  {
   "cell_type": "markdown",
   "metadata": {
    "slideshow": {
     "slide_type": "fragment"
    }
   },
   "source": [
    "<div class=\"alert alert-success\">\n",
    "A dictionary is mutable collection of items, that can be of mixed-type, that are stored as key-value pairs. \n",
    "</div>"
   ]
  },
  {
   "cell_type": "markdown",
   "metadata": {},
   "source": [
    "For our dictionary example, let's think of a participant and their data.  We'll need to store the participant ID number so we can keep their data together.  We'll also need to store all of their responses and remember which response goes with which stimulus.  So here, let's imagine we are rating a set of faces for how happy they look on a 1-7 scale (1=very unhappy; 7=very happy).\n",
    "\n",
    "<img src=\"img/happy-sad.jpg\" width=25%>\n",
    "\n"
   ]
  },
  {
   "cell_type": "markdown",
   "metadata": {},
   "source": [
    "### Dictionaries as Key-Value Collections"
   ]
  },
  {
   "cell_type": "code",
   "execution_count": 12,
   "metadata": {
    "slideshow": {
     "slide_type": "fragment"
    }
   },
   "outputs": [],
   "source": [
    "# Create a dictionary\n",
    "dictionary = {'participant_ID' : 1331, \n",
    "              'face_1_happiness_rating' : 2, \n",
    "              'face_2_happiness_rating': 4,\n",
    "              'face_3_happiness_rating': 5,\n",
    "              'face_4_happiness_rating': 1,\n",
    "              'face_5_happiness_rating': 7,\n",
    "              'face_6_happiness_rating': 6,\n",
    "             }"
   ]
  },
  {
   "cell_type": "code",
   "execution_count": 13,
   "metadata": {
    "slideshow": {
     "slide_type": "fragment"
    }
   },
   "outputs": [
    {
     "name": "stdout",
     "output_type": "stream",
     "text": [
      "{'participant_ID': 1331, 'face_1_happiness_rating': 2, 'face_2_happiness_rating': 4, 'face_3_happiness_rating': 5, 'face_4_happiness_rating': 1, 'face_5_happiness_rating': 7, 'face_6_happiness_rating': 6}\n"
     ]
    }
   ],
   "source": [
    "# Check the contents of the dictionary\n",
    "print(dictionary)"
   ]
  },
  {
   "cell_type": "code",
   "execution_count": 14,
   "metadata": {
    "slideshow": {
     "slide_type": "fragment"
    }
   },
   "outputs": [
    {
     "data": {
      "text/plain": [
       "dict"
      ]
     },
     "execution_count": 14,
     "metadata": {},
     "output_type": "execute_result"
    }
   ],
   "source": [
    "# Check the type of the dictionary\n",
    "type(dictionary)"
   ]
  },
  {
   "cell_type": "code",
   "execution_count": 15,
   "metadata": {
    "slideshow": {
     "slide_type": "fragment"
    }
   },
   "outputs": [
    {
     "data": {
      "text/plain": [
       "7"
      ]
     },
     "execution_count": 15,
     "metadata": {},
     "output_type": "execute_result"
    }
   ],
   "source": [
    "# Dictionaries also have a length\n",
    "len(dictionary)"
   ]
  },
  {
   "cell_type": "markdown",
   "metadata": {
    "collapsed": true,
    "slideshow": {
     "slide_type": "slide"
    }
   },
   "source": [
    "### Dictionaries: Indexing & Looping"
   ]
  },
  {
   "cell_type": "code",
   "execution_count": 16,
   "metadata": {
    "slideshow": {
     "slide_type": "fragment"
    }
   },
   "outputs": [
    {
     "data": {
      "text/plain": [
       "1331"
      ]
     },
     "execution_count": 16,
     "metadata": {},
     "output_type": "execute_result"
    }
   ],
   "source": [
    "# Dictionaries are indexed using their keys\n",
    "dictionary['participant_ID']"
   ]
  },
  {
   "cell_type": "code",
   "execution_count": 17,
   "metadata": {},
   "outputs": [
    {
     "data": {
      "text/plain": [
       "2"
      ]
     },
     "execution_count": 17,
     "metadata": {},
     "output_type": "execute_result"
    }
   ],
   "source": [
    "dictionary['face_1_happiness_rating']"
   ]
  },
  {
   "cell_type": "code",
   "execution_count": 18,
   "metadata": {
    "slideshow": {
     "slide_type": "fragment"
    }
   },
   "outputs": [
    {
     "name": "stdout",
     "output_type": "stream",
     "text": [
      "Loop Iteration\n",
      "\tKey:\t participant_ID\n",
      "\tValue:\t 1331\n",
      "Loop Iteration\n",
      "\tKey:\t face_1_happiness_rating\n",
      "\tValue:\t 2\n",
      "Loop Iteration\n",
      "\tKey:\t face_2_happiness_rating\n",
      "\tValue:\t 4\n",
      "Loop Iteration\n",
      "\tKey:\t face_3_happiness_rating\n",
      "\tValue:\t 5\n",
      "Loop Iteration\n",
      "\tKey:\t face_4_happiness_rating\n",
      "\tValue:\t 1\n",
      "Loop Iteration\n",
      "\tKey:\t face_5_happiness_rating\n",
      "\tValue:\t 7\n",
      "Loop Iteration\n",
      "\tKey:\t face_6_happiness_rating\n",
      "\tValue:\t 6\n"
     ]
    }
   ],
   "source": [
    "# Loop over a dictionary loops across the keys\n",
    "#   Inside the loop, you can use the key to access the associated value\n",
    "for item in dictionary:\n",
    "    print('Loop Iteration')\n",
    "    print('\\tKey:\\t', item)\n",
    "    print('\\tValue:\\t', dictionary[item])"
   ]
  },
  {
   "cell_type": "markdown",
   "metadata": {},
   "source": [
    "## Combining concepts\n",
    "### A list of dictionaries\n",
    "\n",
    "You could create a list of dictionaries like the example above.  Here, each participant would get their own dictionary that would be stored as an item in the list.  Then you would have a complete data-set.  Like this...\n",
    "\n",
    "`my_data = [participant_1331_data, participant_1332_data, etc....]`"
   ]
  },
  {
   "cell_type": "markdown",
   "metadata": {
    "slideshow": {
     "slide_type": "slide"
    }
   },
   "source": [
    "### Example Dictionaries"
   ]
  },
  {
   "cell_type": "code",
   "execution_count": 7,
   "metadata": {
    "slideshow": {
     "slide_type": "fragment"
    }
   },
   "outputs": [],
   "source": [
    "student_emails = {\n",
    "    'Betty Jennings' : 'bjennings@eniac.org',\n",
    "    'Ada Lovelace': 'ada@analyticengine.com',\n",
    "    'Alan Turing' : 'aturing@thebomb.gov',\n",
    "    'Grace Hopper' : 'ghopper@navy.usa'\n",
    "}"
   ]
  },
  {
   "cell_type": "code",
   "execution_count": 8,
   "metadata": {
    "slideshow": {
     "slide_type": "fragment"
    }
   },
   "outputs": [],
   "source": [
    "completed_coding_lab = {\n",
    "    'A1234' : True,\n",
    "    'A5678' : False,\n",
    "    'A9123' : True\n",
    "}"
   ]
  },
  {
   "cell_type": "code",
   "execution_count": 9,
   "metadata": {
    "slideshow": {
     "slide_type": "fragment"
    }
   },
   "outputs": [],
   "source": [
    "mixed_types = {\n",
    "    True  : [1, 2, 3],  \n",
    "    False : None\n",
    "}"
   ]
  },
  {
   "cell_type": "markdown",
   "metadata": {
    "slideshow": {
     "slide_type": "slide"
    }
   },
   "source": [
    "## Clicker Question #2\n",
    "\n",
    "What will the value of result be after this code has run?"
   ]
  },
  {
   "cell_type": "code",
   "execution_count": 10,
   "metadata": {
    "slideshow": {
     "slide_type": "fragment"
    }
   },
   "outputs": [
    {
     "name": "stdout",
     "output_type": "stream",
     "text": [
      "alpha\n"
     ]
    }
   ],
   "source": [
    "dictionary = {'alpha' : [8, 12], 'beta'  : [13, 30], 'theta' : [4, 8]}\n",
    "\n",
    "check = 10\n",
    "for item in dictionary:\n",
    "    temp = dictionary[item]\n",
    "    if temp[0] <= check <= temp[1]:\n",
    "        result = item\n",
    "        \n",
    "print(result)"
   ]
  },
  {
   "cell_type": "markdown",
   "metadata": {
    "slideshow": {
     "slide_type": "fragment"
    }
   },
   "source": [
    "A) alpha | B) [8, 12] | C) beta | D) theta | E) None"
   ]
  }
 ],
 "metadata": {
  "kernelspec": {
   "display_name": "Python 3",
   "language": "python",
   "name": "python3"
  },
  "language_info": {
   "codemirror_mode": {
    "name": "ipython",
    "version": 3
   },
   "file_extension": ".py",
   "mimetype": "text/x-python",
   "name": "python",
   "nbconvert_exporter": "python",
   "pygments_lexer": "ipython3",
   "version": "3.7.3"
  },
  "toc": {
   "base_numbering": 1,
   "nav_menu": {},
   "number_sections": false,
   "sideBar": false,
   "skip_h1_title": false,
   "title_cell": "Table of Contents",
   "title_sidebar": "Contents",
   "toc_cell": false,
   "toc_position": {},
   "toc_section_display": false,
   "toc_window_display": false
  }
 },
 "nbformat": 4,
 "nbformat_minor": 2
}
