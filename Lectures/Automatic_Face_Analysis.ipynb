{
  "nbformat": 4,
  "nbformat_minor": 0,
  "metadata": {
    "kernelspec": {
      "name": "python3",
      "display_name": "Python 3"
    },
    "language_info": {
      "codemirror_mode": {
        "name": "ipython",
        "version": 3
      },
      "file_extension": ".py",
      "mimetype": "text/x-python",
      "name": "python",
      "nbconvert_exporter": "python",
      "pygments_lexer": "ipython3",
      "version": "3.6.10"
    },
    "varInspector": {
      "cols": {
        "lenName": 16,
        "lenType": 16,
        "lenVar": 40
      },
      "kernels_config": {
        "python": {
          "delete_cmd_postfix": "",
          "delete_cmd_prefix": "del ",
          "library": "var_list.py",
          "varRefreshCmd": "print(var_dic_list())"
        },
        "r": {
          "delete_cmd_postfix": ") ",
          "delete_cmd_prefix": "rm(",
          "library": "var_list.r",
          "varRefreshCmd": "cat(var_dic_list()) "
        }
      },
      "types_to_exclude": [
        "module",
        "function",
        "builtin_function_or_method",
        "instance",
        "_Feature"
      ],
      "window_display": false
    },
    "colab": {
      "name": "Automatic Face Analysis.ipynb",
      "provenance": [],
      "collapsed_sections": [],
      "include_colab_link": true
    },
    "accelerator": "GPU"
  },
  "cells": [
    {
      "cell_type": "markdown",
      "metadata": {
        "id": "view-in-github",
        "colab_type": "text"
      },
      "source": [
        "<a href=\"https://colab.research.google.com/github/drfeinberg/Scientific-Computing/blob/master/Lectures/Automatic_Face_Analysis.ipynb\" target=\"_parent\"><img src=\"https://colab.research.google.com/assets/colab-badge.svg\" alt=\"Open In Colab\"/></a>"
      ]
    },
    {
      "cell_type": "markdown",
      "metadata": {
        "id": "IAxcV-bVfJ-v",
        "colab_type": "text"
      },
      "source": [
        "# Automatic and manual landmarks for face perception research\n",
        "Cartesian coordinate landmarks are an essential component of face perception research. These landmarks delinate the shape of faces, and allow for a range of operations on this important social stimulus, such as averaging, warping, anatomical measurements, or complex analysis like principal components analysis. \n",
        "\n",
        "However, landmarks are expensive to generate, taking many human-hours of work to produce. Given that interest in face research has led to a collection of many large databases, from which many insights stand to be unearthed, researchers face the daunting task of manually delineating these appearances. Worse still, once delineation has begun, for the sake of consistency and to minimise error, it is recommended a single person complete the whole set and it be double checked by another.\n",
        "\n",
        "The advent of modern deep learning frameworks have resulted in neural networks that can recognise faces with close to perfect accuracy. An initial stumbling block in this area was the rapid and automatic detection of facial landmarks that could be used for analysis. Despite having being solved close to 20 years ago, face perception researchers have either shown mistrust over these landmarks in favour of manual delineation, or are unaware that computers are now capable of accurately and reproducibly delineating faces.\n",
        "\n",
        "\n",
        "These measures are of:\n",
        "- Symmetry, from both vector measures (e.g. Holzleitner et al, 2019; Jones & Jaeger, 2019) \n",
        "- Distinctiveness or averageness, from vector measures (e.g. Holzleitner et al, 2019; Jones & Jaeger, 2019)\n",
        "- Sexual dimorphism (e.g. Holzleitner et al, 2019; Jones & Jaeger, 2019) using the multivariate regression approach of Mitteroecker et al (2015).\n",
        "- Facial width-to-height ratio (Lefevre et al., 2015)."
      ]
    },
    {
      "cell_type": "markdown",
      "metadata": {
        "id": "dHLiP4dqo1UV",
        "colab_type": "text"
      },
      "source": [
        "### First, make sure you chage runtime type to gpu in the Runtime menu"
      ]
    },
    {
      "cell_type": "markdown",
      "metadata": {
        "id": "eucR9K5BmSRb",
        "colab_type": "text"
      },
      "source": [
        "## Install missing modules"
      ]
    },
    {
      "cell_type": "code",
      "metadata": {
        "id": "9WUIlOQviHLi",
        "colab_type": "code",
        "colab": {
          "base_uri": "https://localhost:8080/",
          "height": 1000
        },
        "outputId": "e0ae5e5b-c61a-4b07-af9a-4de7fe8accef"
      },
      "source": [
        "!pip install CMake\n",
        "!pip install face_recognition\n",
        "!pip install pingouin\n",
        "!pip install pythonfaceregressor"
      ],
      "execution_count": 1,
      "outputs": [
        {
          "output_type": "stream",
          "text": [
            "Requirement already satisfied: CMake in /usr/local/lib/python3.6/dist-packages (3.12.0)\n",
            "Collecting face_recognition\n",
            "  Downloading https://files.pythonhosted.org/packages/1e/95/f6c9330f54ab07bfa032bf3715c12455a381083125d8880c43cbe76bb3d0/face_recognition-1.3.0-py2.py3-none-any.whl\n",
            "Requirement already satisfied: numpy in /usr/local/lib/python3.6/dist-packages (from face_recognition) (1.18.2)\n",
            "Requirement already satisfied: Pillow in /usr/local/lib/python3.6/dist-packages (from face_recognition) (7.0.0)\n",
            "Requirement already satisfied: Click>=6.0 in /usr/local/lib/python3.6/dist-packages (from face_recognition) (7.1.1)\n",
            "Collecting face-recognition-models>=0.3.0\n",
            "\u001b[?25l  Downloading https://files.pythonhosted.org/packages/cf/3b/4fd8c534f6c0d1b80ce0973d01331525538045084c73c153ee6df20224cf/face_recognition_models-0.3.0.tar.gz (100.1MB)\n",
            "\u001b[K     |████████████████████████████████| 100.2MB 44kB/s \n",
            "\u001b[?25hRequirement already satisfied: dlib>=19.7 in /usr/local/lib/python3.6/dist-packages (from face_recognition) (19.18.0)\n",
            "Building wheels for collected packages: face-recognition-models\n",
            "  Building wheel for face-recognition-models (setup.py) ... \u001b[?25l\u001b[?25hdone\n",
            "  Created wheel for face-recognition-models: filename=face_recognition_models-0.3.0-py2.py3-none-any.whl size=100566172 sha256=c85c5691de9d1003edbf4ad84cdb89d2fb0954ccdf324852c57e309d924d74d9\n",
            "  Stored in directory: /root/.cache/pip/wheels/d2/99/18/59c6c8f01e39810415c0e63f5bede7d83dfb0ffc039865465f\n",
            "Successfully built face-recognition-models\n",
            "Installing collected packages: face-recognition-models, face-recognition\n",
            "Successfully installed face-recognition-1.3.0 face-recognition-models-0.3.0\n",
            "Collecting pingouin\n",
            "\u001b[?25l  Downloading https://files.pythonhosted.org/packages/1c/dd/ad367a19a50d3eb00de595bf7b2bd205bf40b9d6129ef405d48de14714a1/pingouin-0.3.3.tar.gz (216kB)\n",
            "\u001b[K     |████████████████████████████████| 225kB 6.3MB/s \n",
            "\u001b[?25hRequirement already satisfied: numpy>=1.15 in /usr/local/lib/python3.6/dist-packages (from pingouin) (1.18.2)\n",
            "Requirement already satisfied: scipy>=1.3 in /usr/local/lib/python3.6/dist-packages (from pingouin) (1.4.1)\n",
            "Requirement already satisfied: pandas>=0.24 in /usr/local/lib/python3.6/dist-packages (from pingouin) (1.0.3)\n",
            "Requirement already satisfied: matplotlib>=3.0.2 in /usr/local/lib/python3.6/dist-packages (from pingouin) (3.2.1)\n",
            "Requirement already satisfied: seaborn>=0.9.0 in /usr/local/lib/python3.6/dist-packages (from pingouin) (0.10.0)\n",
            "Requirement already satisfied: statsmodels>=0.10.0 in /usr/local/lib/python3.6/dist-packages (from pingouin) (0.10.2)\n",
            "Collecting pandas_flavor>=0.1.2\n",
            "  Downloading https://files.pythonhosted.org/packages/9a/57/7fbcff4c0961ed190ac5fcb0bd8194152ee1ee6487edf64fdbae16e2bc4b/pandas_flavor-0.2.0-py2.py3-none-any.whl\n",
            "Collecting outdated\n",
            "  Downloading https://files.pythonhosted.org/packages/86/70/2f166266438a30e94140f00c99c0eac1c45807981052a1d4c123660e1323/outdated-0.2.0.tar.gz\n",
            "Requirement already satisfied: pytz>=2017.2 in /usr/local/lib/python3.6/dist-packages (from pandas>=0.24->pingouin) (2018.9)\n",
            "Requirement already satisfied: python-dateutil>=2.6.1 in /usr/local/lib/python3.6/dist-packages (from pandas>=0.24->pingouin) (2.8.1)\n",
            "Requirement already satisfied: cycler>=0.10 in /usr/local/lib/python3.6/dist-packages (from matplotlib>=3.0.2->pingouin) (0.10.0)\n",
            "Requirement already satisfied: kiwisolver>=1.0.1 in /usr/local/lib/python3.6/dist-packages (from matplotlib>=3.0.2->pingouin) (1.2.0)\n",
            "Requirement already satisfied: pyparsing!=2.0.4,!=2.1.2,!=2.1.6,>=2.0.1 in /usr/local/lib/python3.6/dist-packages (from matplotlib>=3.0.2->pingouin) (2.4.7)\n",
            "Requirement already satisfied: patsy>=0.4.0 in /usr/local/lib/python3.6/dist-packages (from statsmodels>=0.10.0->pingouin) (0.5.1)\n",
            "Requirement already satisfied: xarray in /usr/local/lib/python3.6/dist-packages (from pandas_flavor>=0.1.2->pingouin) (0.15.1)\n",
            "Collecting littleutils\n",
            "  Downloading https://files.pythonhosted.org/packages/4e/b1/bb4e06f010947d67349f863b6a2ad71577f85590180a935f60543f622652/littleutils-0.2.2.tar.gz\n",
            "Requirement already satisfied: requests in /usr/local/lib/python3.6/dist-packages (from outdated->pingouin) (2.21.0)\n",
            "Requirement already satisfied: six>=1.5 in /usr/local/lib/python3.6/dist-packages (from python-dateutil>=2.6.1->pandas>=0.24->pingouin) (1.12.0)\n",
            "Requirement already satisfied: setuptools>=41.2 in /usr/local/lib/python3.6/dist-packages (from xarray->pandas_flavor>=0.1.2->pingouin) (46.1.3)\n",
            "Requirement already satisfied: idna<2.9,>=2.5 in /usr/local/lib/python3.6/dist-packages (from requests->outdated->pingouin) (2.8)\n",
            "Requirement already satisfied: urllib3<1.25,>=1.21.1 in /usr/local/lib/python3.6/dist-packages (from requests->outdated->pingouin) (1.24.3)\n",
            "Requirement already satisfied: certifi>=2017.4.17 in /usr/local/lib/python3.6/dist-packages (from requests->outdated->pingouin) (2020.4.5.1)\n",
            "Requirement already satisfied: chardet<3.1.0,>=3.0.2 in /usr/local/lib/python3.6/dist-packages (from requests->outdated->pingouin) (3.0.4)\n",
            "Building wheels for collected packages: pingouin, outdated, littleutils\n",
            "  Building wheel for pingouin (setup.py) ... \u001b[?25l\u001b[?25hdone\n",
            "  Created wheel for pingouin: filename=pingouin-0.3.3-cp36-none-any.whl size=215457 sha256=e37e78f84f54bac82252d5ac2186e4a8ed48d93e4d31fb8a8ca67648dc4a8b67\n",
            "  Stored in directory: /root/.cache/pip/wheels/bd/c9/67/c6862bf7e72786f3d578d59b4096c9a6003bd01c9fe0c16aa1\n",
            "  Building wheel for outdated (setup.py) ... \u001b[?25l\u001b[?25hdone\n",
            "  Created wheel for outdated: filename=outdated-0.2.0-cp36-none-any.whl size=4962 sha256=f7237a42ee90b291ce48e93c2dc2a89c994a4c5d4c6b04c30bef32e76df48fab\n",
            "  Stored in directory: /root/.cache/pip/wheels/fd/7c/ef/814f514d31197310872b5abf353feb8fef9d67ee658e1e7e39\n",
            "  Building wheel for littleutils (setup.py) ... \u001b[?25l\u001b[?25hdone\n",
            "  Created wheel for littleutils: filename=littleutils-0.2.2-cp36-none-any.whl size=7049 sha256=9549c96ef5829dc855575deeb2abaf62d1efee1f62f2dd976d7e60a3929058b5\n",
            "  Stored in directory: /root/.cache/pip/wheels/53/16/9f/ac67d15c40243754fd73f620e1b9b6dedc20492ecc19a2bae1\n",
            "Successfully built pingouin outdated littleutils\n",
            "Installing collected packages: pandas-flavor, littleutils, outdated, pingouin\n",
            "Successfully installed littleutils-0.2.2 outdated-0.2.0 pandas-flavor-0.2.0 pingouin-0.3.3\n",
            "Collecting pythonfaceregressor\n",
            "  Downloading https://files.pythonhosted.org/packages/a5/15/56f6f59770b907b3fab8292ffdd6c9cdd1101357e655d7c7ff33fc1b70aa/pythonfaceregressor-7.0.tar.gz\n",
            "Building wheels for collected packages: pythonfaceregressor\n",
            "  Building wheel for pythonfaceregressor (setup.py) ... \u001b[?25l\u001b[?25hdone\n",
            "  Created wheel for pythonfaceregressor: filename=pythonfaceregressor-7.0-cp36-none-any.whl size=23481 sha256=3bd7f6870fbf76fb4afadff1283622876b3ddac866c9cd26e73764d7cdf5d511\n",
            "  Stored in directory: /root/.cache/pip/wheels/16/69/3a/61c362ac7fb121cda3b3459f85a0acaaeaa367e01bfcb10a5c\n",
            "Successfully built pythonfaceregressor\n",
            "Installing collected packages: pythonfaceregressor\n",
            "Successfully installed pythonfaceregressor-7.0\n"
          ],
          "name": "stdout"
        }
      ]
    },
    {
      "cell_type": "markdown",
      "metadata": {
        "id": "jWaE3bzqnvsa",
        "colab_type": "text"
      },
      "source": [
        "## Automatically demarkate faces"
      ]
    },
    {
      "cell_type": "markdown",
      "metadata": {
        "id": "tQ0Ls8NWonbR",
        "colab_type": "text"
      },
      "source": [
        "#### Import Relevant Modules"
      ]
    },
    {
      "cell_type": "code",
      "metadata": {
        "id": "wW9sF9RynyzU",
        "colab_type": "code",
        "colab": {}
      },
      "source": [
        "import glob\n",
        "import os\n",
        "import face_recognition as fr"
      ],
      "execution_count": 0,
      "outputs": []
    },
    {
      "cell_type": "markdown",
      "metadata": {
        "id": "5Suq3e9YopuD",
        "colab_type": "text"
      },
      "source": [
        "#### Create Function to write template files"
      ]
    },
    {
      "cell_type": "code",
      "metadata": {
        "id": "AHJhVjzDoZTP",
        "colab_type": "code",
        "colab": {}
      },
      "source": [
        "def lms2tem(filename, points_list):\n",
        "    \n",
        "    # Open file \n",
        "    with open(filename + '.tem', 'w') as tem_file:\n",
        "        \n",
        "        # First work out the number of points and write it\n",
        "        n_pts = len(points_list)\n",
        "        tem_file.write('%s\\n' % n_pts)\n",
        "        \n",
        "        # Iterate over the points list of tuples and write it\n",
        "        for points in points_list:\n",
        "            \n",
        "            # Unpack the tuple of points\n",
        "            x, y = points\n",
        "            \n",
        "            # Write each pair of points to the file\n",
        "            tem_file.write(f'{x} {y}\\n')\n",
        "            \n",
        "        # Write the extra line specifying 'zero lines' for Psychomorph\n",
        "        tem_file.write('0\\n ')\n",
        "        \n",
        "    return None"
      ],
      "execution_count": 0,
      "outputs": []
    },
    {
      "cell_type": "markdown",
      "metadata": {
        "id": "MPUQD2y7oueP",
        "colab_type": "text"
      },
      "source": [
        "#### Create dictionary to store demarkation points"
      ]
    },
    {
      "cell_type": "code",
      "metadata": {
        "id": "o1Eo3Qy4oZrm",
        "colab_type": "code",
        "colab": {}
      },
      "source": [
        "lm_dict = {}"
      ],
      "execution_count": 0,
      "outputs": []
    },
    {
      "cell_type": "markdown",
      "metadata": {
        "id": "PJMBxje1peKE",
        "colab_type": "text"
      },
      "source": [
        "#### Make sure google drive is mounted"
      ]
    },
    {
      "cell_type": "code",
      "metadata": {
        "id": "zcZl4SmDpYB6",
        "colab_type": "code",
        "colab": {
          "base_uri": "https://localhost:8080/",
          "height": 124
        },
        "outputId": "f8440e2b-5348-4109-901b-0427712abd63"
      },
      "source": [
        "from google.colab import drive\n",
        "drive.mount('/content/drive')"
      ],
      "execution_count": 5,
      "outputs": [
        {
          "output_type": "stream",
          "text": [
            "Go to this URL in a browser: https://accounts.google.com/o/oauth2/auth?client_id=947318989803-6bn6qk8qdgf4n4g3pfee6491hc0brc4i.apps.googleusercontent.com&redirect_uri=urn%3aietf%3awg%3aoauth%3a2.0%3aoob&response_type=code&scope=email%20https%3a%2f%2fwww.googleapis.com%2fauth%2fdocs.test%20https%3a%2f%2fwww.googleapis.com%2fauth%2fdrive%20https%3a%2f%2fwww.googleapis.com%2fauth%2fdrive.photos.readonly%20https%3a%2f%2fwww.googleapis.com%2fauth%2fpeopleapi.readonly\n",
            "\n",
            "Enter your authorization code:\n",
            "··········\n",
            "Mounted at /content/drive\n"
          ],
          "name": "stdout"
        }
      ]
    },
    {
      "cell_type": "code",
      "metadata": {
        "id": "vrTT8A-kobt7",
        "colab_type": "code",
        "colab": {
          "base_uri": "https://localhost:8080/",
          "height": 434
        },
        "outputId": "8e76eeb3-22f8-4dc0-8f61-53421322a054"
      },
      "source": [
        "for face in glob.glob('/content/drive/My Drive/Colab Notebooks/Scientific Computing/Lectures/Automatic Faces/*.jpg'):\n",
        "    \n",
        "    # Parse name and extension\n",
        "    fname, ext = os.path.splitext(face)\n",
        "    \n",
        "    # Generate the landmarks with face_rec #\n",
        "    # Read in the face\n",
        "    face_im = fr.load_image_file(face)\n",
        "    \n",
        "    # Detect the landmarks, extract just the first face (there is only one in the image!)\n",
        "    lms = fr.face_landmarks(face_im)[0]\n",
        "    \n",
        "    # Parse the dictionary into a single array\n",
        "    auto_lms = [pt for feature in lms.values() for pt in feature]\n",
        "    \n",
        "    # Save the template\n",
        "    lms2tem(fname, auto_lms)\n",
        "    \n",
        "    # Convert to a str vector and store in a dictionary\n",
        "    lm_dict[face] = [str(pt) for xy in auto_lms for pt in xy]\n",
        "    \n",
        "    print('Finished face {}!'.format(fname))"
      ],
      "execution_count": 10,
      "outputs": [
        {
          "output_type": "stream",
          "text": [
            "Finished face /content/drive/My Drive/Colab Notebooks/Scientific Computing/Lectures/Automatic Faces/01-01-01-01-01-01-03!\n",
            "Finished face /content/drive/My Drive/Colab Notebooks/Scientific Computing/Lectures/Automatic Faces/01-01-01-01-01-01-01!\n",
            "Finished face /content/drive/My Drive/Colab Notebooks/Scientific Computing/Lectures/Automatic Faces/01-01-01-01-01-01-02!\n",
            "Finished face /content/drive/My Drive/Colab Notebooks/Scientific Computing/Lectures/Automatic Faces/01-01-01-01-01-01-04!\n",
            "Finished face /content/drive/My Drive/Colab Notebooks/Scientific Computing/Lectures/Automatic Faces/01-01-01-01-01-01-07!\n",
            "Finished face /content/drive/My Drive/Colab Notebooks/Scientific Computing/Lectures/Automatic Faces/01-01-01-01-01-01-08!\n",
            "Finished face /content/drive/My Drive/Colab Notebooks/Scientific Computing/Lectures/Automatic Faces/01-01-01-01-01-01-09!\n",
            "Finished face /content/drive/My Drive/Colab Notebooks/Scientific Computing/Lectures/Automatic Faces/01-01-01-01-01-01-10!\n",
            "Finished face /content/drive/My Drive/Colab Notebooks/Scientific Computing/Lectures/Automatic Faces/01-01-01-01-01-01-06!\n",
            "Finished face /content/drive/My Drive/Colab Notebooks/Scientific Computing/Lectures/Automatic Faces/01-01-01-01-01-01-11!\n",
            "Finished face /content/drive/My Drive/Colab Notebooks/Scientific Computing/Lectures/Automatic Faces/01-01-01-01-01-01-13!\n",
            "Finished face /content/drive/My Drive/Colab Notebooks/Scientific Computing/Lectures/Automatic Faces/01-01-01-01-01-01-15!\n",
            "Finished face /content/drive/My Drive/Colab Notebooks/Scientific Computing/Lectures/Automatic Faces/01-01-01-01-01-01-12!\n",
            "Finished face /content/drive/My Drive/Colab Notebooks/Scientific Computing/Lectures/Automatic Faces/01-01-01-01-01-01-16!\n",
            "Finished face /content/drive/My Drive/Colab Notebooks/Scientific Computing/Lectures/Automatic Faces/01-01-01-01-01-01-05!\n",
            "Finished face /content/drive/My Drive/Colab Notebooks/Scientific Computing/Lectures/Automatic Faces/01-01-01-01-01-01-14!\n",
            "Finished face /content/drive/My Drive/Colab Notebooks/Scientific Computing/Lectures/Automatic Faces/01-01-01-01-01-01-24!\n",
            "Finished face /content/drive/My Drive/Colab Notebooks/Scientific Computing/Lectures/Automatic Faces/01-01-01-01-01-01-17!\n",
            "Finished face /content/drive/My Drive/Colab Notebooks/Scientific Computing/Lectures/Automatic Faces/01-01-01-01-01-01-19!\n",
            "Finished face /content/drive/My Drive/Colab Notebooks/Scientific Computing/Lectures/Automatic Faces/01-01-01-01-01-01-23!\n",
            "Finished face /content/drive/My Drive/Colab Notebooks/Scientific Computing/Lectures/Automatic Faces/01-01-01-01-01-01-21!\n",
            "Finished face /content/drive/My Drive/Colab Notebooks/Scientific Computing/Lectures/Automatic Faces/01-01-01-01-01-01-20!\n",
            "Finished face /content/drive/My Drive/Colab Notebooks/Scientific Computing/Lectures/Automatic Faces/01-01-01-01-01-01-22!\n",
            "Finished face /content/drive/My Drive/Colab Notebooks/Scientific Computing/Lectures/Automatic Faces/01-01-01-01-01-01-18!\n"
          ],
          "name": "stdout"
        }
      ]
    },
    {
      "cell_type": "code",
      "metadata": {
        "id": "NCkCJmGeomOc",
        "colab_type": "code",
        "colab": {}
      },
      "source": [
        "# Open the file for writing.\n",
        "with open('Landmark Representations Full Set.txt', 'w') as output:\n",
        "    \n",
        "    # Grab dimensions of landmarks\n",
        "    dims = len(auto_lms)\n",
        "    \n",
        "    # First create column names\n",
        "    cols = ['ID'] + [title for pt in range(0, dims) for title in ['pt{}_X'.format(pt), 'pt{}_Y'.format(pt)]]\n",
        "    \n",
        "    # Write to file\n",
        "    output.write('\\t'.join(cols) + '\\n')\n",
        "    \n",
        "    # Write out vector representation\n",
        "    for fid, vector in lm_dict.items():\n",
        "        \n",
        "        # Write filename\n",
        "        output.write('{}\\t'.format(fid))\n",
        "        \n",
        "        # Now write the vector\n",
        "        output.write('\\t'.join(vector) + '\\n')\n",
        "        "
      ],
      "execution_count": 0,
      "outputs": []
    },
    {
      "cell_type": "markdown",
      "metadata": {
        "id": "t0iGsQPdnzZy",
        "colab_type": "text"
      },
      "source": [
        "## Automatically analyze faces"
      ]
    },
    {
      "cell_type": "markdown",
      "metadata": {
        "id": "a_3m4NNJmWnU",
        "colab_type": "text"
      },
      "source": [
        "### Import needed modules\n"
      ]
    },
    {
      "cell_type": "code",
      "metadata": {
        "id": "cCbfsbuPfJ-x",
        "colab_type": "code",
        "colab": {
          "base_uri": "https://localhost:8080/",
          "height": 72
        },
        "outputId": "e489d4ac-baba-49de-960f-baf981f5cd1a"
      },
      "source": [
        "import numpy as np\n",
        "import pandas as pd\n",
        "import pingouin as pg\n",
        "\n",
        "import matplotlib.pyplot as plt\n",
        "import pythonfaceregressor as pfr\n",
        "import seaborn as sns\n",
        "\n",
        "import scipy.stats as stats\n",
        "import statsmodels.api as sm\n",
        "import statsmodels.formula.api as smf\n",
        "\n",
        "from functools import reduce\n",
        "\n",
        "np.random.seed(31)\n",
        "pd.set_option('display.max.columns', 9999)"
      ],
      "execution_count": 12,
      "outputs": [
        {
          "output_type": "stream",
          "text": [
            "/usr/local/lib/python3.6/dist-packages/statsmodels/tools/_testing.py:19: FutureWarning: pandas.util.testing is deprecated. Use the functions in the public API at pandas.testing instead.\n",
            "  import pandas.util.testing as tm\n"
          ],
          "name": "stderr"
        }
      ]
    },
    {
      "cell_type": "markdown",
      "metadata": {
        "id": "DETetk4rfJ-7",
        "colab_type": "text"
      },
      "source": [
        "### 1. Defining Measurements\n",
        "Before analysing any face data, is it necessary to measure the faces. Below, a class is defined that measure distinctiveness, symmetry, dimorphism using vector methods, and fWHR using the classical approach of computing distances between landmarks. This class, `ComputeMeasures` takes an array of shapes (each face is a rows, with columns as x and y coordinates). They also need a vector describing whether the face is female or male, as this is needed in some calculations. The class will return a DataFrame of measures for each face when `.fit()` is called on it.\n",
        "\n",
        "For more details on the vector methods, see the following open code and papers.\n",
        "- Vector methods: [Holzleitner et al., (2019)](https://osf.io/vhc5k); [Jones & Jaeger (2019)](https://osf.io/uyzmj/)"
      ]
    },
    {
      "cell_type": "code",
      "metadata": {
        "id": "xDoKqYSAfJ-_",
        "colab_type": "code",
        "colab": {}
      },
      "source": [
        "# Vector measures\n",
        "class ComputeMeasures():\n",
        "    \n",
        "    # Initialise\n",
        "    def __init__(self, shape_array, data, fit_type=None):\n",
        "        \n",
        "        # Attach the rest of the data to the class\n",
        "        self.shape_array = shape_array\n",
        "        self.data = data\n",
        "        self.fit_type = fit_type # Lets us know whether the landmarks are automatic or manual\n",
        "        \n",
        "        return None\n",
        "    \n",
        "    def averageness(self):\n",
        "        \n",
        "        # Pointer, easier typing\n",
        "        data = self.data.copy()\n",
        "        \n",
        "        # Slice the data to get the female and male faces out\n",
        "        females = data[data['face_sex'] == 1]\n",
        "        males = data[data['face_sex'] == 0]\n",
        "        \n",
        "        # Get the shapes\n",
        "        female_shapes = self.shape_array.loc[females.index, :]\n",
        "        male_shapes = self.shape_array.loc[males.index, :]\n",
        "        \n",
        "        # Compute the averages\n",
        "        female_average = female_shapes.mean(0)\n",
        "        male_average = male_shapes.mean(0)\n",
        "        \n",
        "        # Compute the Euclidean distance of each face from its sex-fixed average\n",
        "        fem_dist = female_shapes.apply(lambda x: np.linalg.norm(x - female_average), axis=1)\n",
        "        male_dist = male_shapes.apply(lambda x: np.linalg.norm(x - male_average), axis=1)\n",
        "        \n",
        "        # Concat & name\n",
        "        average = pd.concat((fem_dist, male_dist))\n",
        "        average.name = 'distinctiveness'\n",
        "        \n",
        "        # Give back\n",
        "        return average\n",
        "    \n",
        "    def symmetry(self):\n",
        "        \n",
        "        # This can be done over the whole set\n",
        "        reflections = self.shape_array.copy()\n",
        "        \n",
        "        # Multiply X by minus one\n",
        "        reflections.loc[:, reflections.columns.str.contains('X')] *= -1\n",
        "        \n",
        "        # Compute shape differences, name\n",
        "        symmetry = (self.shape_array - reflections).apply(np.linalg.norm, axis=1)\n",
        "        symmetry.name = 'symmetry'\n",
        "        \n",
        "        # Give back\n",
        "        return symmetry\n",
        "        \n",
        "    def dimorphism(self):\n",
        "        \n",
        "        # Shape\n",
        "        shapes = self.shape_array.copy()\n",
        "        sex = self.data[['face_sex']]\n",
        "        \n",
        "        # Add constant\n",
        "        sex.insert(0, 'const', 1)\n",
        "        \n",
        "        # Compute the least squares solution\n",
        "        axis, _, _, _ = np.linalg.lstsq(sex, shapes, rcond=-1)\n",
        "        \n",
        "        # Extract dimorphism axis\n",
        "        dimorphism = axis[1,:]\n",
        "        \n",
        "        # Project each face onto this using a short custom function\n",
        "        def proj(a, b):\n",
        "            \n",
        "            # Compute dot prod \n",
        "            dot = np.dot(a, b)\n",
        "            \n",
        "            # Magnitude of b\n",
        "            mag = np.linalg.norm(b)\n",
        "            \n",
        "            # Normalise\n",
        "            projection = dot/mag\n",
        "            \n",
        "            return projection\n",
        "        \n",
        "        # Apply the projection & name\n",
        "        sexdim = shapes.apply(lambda x: proj(x, dimorphism), axis=1)\n",
        "        sexdim.name = 'dimorphism'\n",
        "        \n",
        "        # Return\n",
        "        return sexdim\n",
        "    \n",
        "    def fwhr(self, face_vector):\n",
        "\n",
        "        # Convert the vector back to 2D space\n",
        "        face_shape = face_vector.values.reshape(-1, 2)\n",
        "\n",
        "        if self.fit_type == 'Manual':\n",
        "\n",
        "            # Top heights\n",
        "            top_left_height, top_right_height = face_shape[73,:], face_shape[80,:]\n",
        "\n",
        "            # Get lower height points, of the lips\n",
        "            bottom_left_height, bottom_right_height = face_shape[89,:], face_shape[91,:]\n",
        "\n",
        "            # Take mean of these upper and lower heights to make a line\n",
        "            top_height = np.vstack((top_left_height, top_right_height)).mean(0)\n",
        "            bottom_height = np.vstack((bottom_left_height, bottom_right_height)).mean(0)\n",
        "\n",
        "            # Get width\n",
        "            left_width, right_width = face_shape[160,:], face_shape[162,:]\n",
        "            \n",
        "        \n",
        "        # Derive measures based on the landmark type\n",
        "        elif self.fit_type == 'Auto':\n",
        "\n",
        "            # Get upper height points using eyebrow, as per Schild et al\n",
        "            # I am using 19 and 24, different from de Kok - these points are HIGHER not sure why he used the lower ones\n",
        "            top_left_height, top_right_height = face_shape[19,:], face_shape[24,:]\n",
        "\n",
        "            # Get lower height points, of the lips\n",
        "            bottom_left_height, bottom_right_height = face_shape[50,:], face_shape[52,:]\n",
        "\n",
        "            # Take mean of these upper and lower heights to make a line\n",
        "            top_height = np.vstack((top_left_height, top_right_height)).mean(0)\n",
        "            bottom_height = np.vstack((bottom_left_height, bottom_right_height)).mean(0)\n",
        "\n",
        "            # Get width\n",
        "            left_width, right_width = face_shape[0,:], face_shape[16,:]\n",
        "\n",
        "        # Compute distances\n",
        "        height = np.linalg.norm(top_height - bottom_height)\n",
        "        width = np.linalg.norm(left_width - right_width)\n",
        "\n",
        "        # Divide and return\n",
        "        whr = width/height\n",
        "\n",
        "        return whr\n",
        "    \n",
        "    def fit(self):\n",
        "        \n",
        "        # Apply all functions\n",
        "        avg = self.averageness()\n",
        "        sym = self.symmetry()\n",
        "        dimo = self.dimorphism()\n",
        "        fwhr_ = self.shape_array.apply(self.fwhr, axis=1)\n",
        "        fwhr_.name = 'fwhr'\n",
        "        \n",
        "        # Merge\n",
        "        combined = pd.concat((avg, sym, dimo, fwhr_), axis=1, sort=True)\n",
        "        \n",
        "        # Return\n",
        "        return combined"
      ],
      "execution_count": 0,
      "outputs": []
    },
    {
      "cell_type": "markdown",
      "metadata": {
        "id": "ndCY88ljfJ_F",
        "colab_type": "text"
      },
      "source": [
        "### 2. Read in the data\n",
        "Next, read in the file lists and prepare the data analysis. They will need to be formatted and copied; one for the manual and automatic landmark sets. This will require four dataframes. \n",
        "\n",
        "Important note - the folder structure for this analysis assumes the notebook is in a higher level folder with the following branches available to it:\n",
        "\n",
        "```\n",
        "+ London\n",
        "-- Automatic Faces\n",
        "-- Manual Faces\n",
        "-- london_faces_info.csv\n",
        "-- lonon_faces_ratings.csv\n",
        "+ ThreeDSK\n",
        "-- Automatic Faces\n",
        "-- Manual Faces\n",
        "-- Corrected Auto\n",
        "-- threedsk_faces.txt\n",
        "```\n",
        "\n",
        "The manual and automatic faces contain the photographs and respective landmarks to be analysed, and the text or csv files contain the basic demographics of the faces. "
      ]
    },
    {
      "cell_type": "code",
      "metadata": {
        "id": "Y7V4nYcDfJ_I",
        "colab_type": "code",
        "colab": {
          "base_uri": "https://localhost:8080/",
          "height": 121
        },
        "outputId": "e0d78c7c-c1d6-4e4d-ae21-23fa194b52e4"
      },
      "source": [
        "our_data = pd.read_csv('/content/drive/My Drive/Colab Notebooks/Scientific Computing/Lectures/Automatic Faces/Landmark Representations_faces_info_EDIT.csv')\n",
        "print(our_data.head())\n",
        "\n",
        "# Recode sex in each dataframe to a dummy variable, 0 = male\n",
        "\n",
        "\n",
        "# Set the index to the face_id column\n",
        "our_data.set_index('face_id', inplace=True)\n",
        "#three.set_index('face_id', inplace=True)"
      ],
      "execution_count": 14,
      "outputs": [
        {
          "output_type": "stream",
          "text": [
            "                face_id  face_sex\n",
            "0  01-01-01-01-01-01-01         0\n",
            "1  01-01-01-01-01-01-02         1\n",
            "2  01-01-01-01-01-01-03         0\n",
            "3  01-01-01-01-01-01-04         1\n",
            "4  01-01-01-01-01-01-05         0\n"
          ],
          "name": "stdout"
        }
      ]
    },
    {
      "cell_type": "code",
      "metadata": {
        "id": "JrlhqgN_fJ_O",
        "colab_type": "code",
        "colab": {}
      },
      "source": [
        "# Generate two copies of each dataframe that have the correct index location pointing to the images\n",
        "def replace_index(frame, path):\n",
        "    \n",
        "    # Generate appender\n",
        "    if 'Auto' in path:\n",
        "        appender = ''\n",
        "    elif 'Manual' in path:\n",
        "        appender = '_manual'\n",
        "        \n",
        "    # Copy\n",
        "    frame_ = frame.copy()\n",
        "    \n",
        "    # Set path\n",
        "    frame_.index = [path + ind + appender for ind in frame_.index]\n",
        "    #frame_.index = [path + ind for ind in frame_.index]\n",
        "    return frame_\n",
        "\n",
        "# Use the function\n",
        "path = \"/content/drive/My Drive/Colab Notebooks/Scientific Computing/Lectures/\"\n",
        "our_data = replace_index(our_data, '/content/drive/My Drive/Colab Notebooks/Scientific Computing/Lectures/Automatic Faces/')\n"
      ],
      "execution_count": 0,
      "outputs": []
    },
    {
      "cell_type": "markdown",
      "metadata": {
        "id": "Rnwuovu2fJ_U",
        "colab_type": "text"
      },
      "source": [
        "### 3.Use the face regressor to read in, parse, and flatten the arrays\n",
        "Reading in all the face landmarks can be a bit onerous. Thankfully the `pythonfaceregressor` module does that for us without any trouble, and we can access the data as a DataFrame. In the cells below we create some objects that will average the faces for us and retrieve the landmarks, for both image sets."
      ]
    },
    {
      "cell_type": "code",
      "metadata": {
        "id": "5Pj1jM21fJ_V",
        "colab_type": "code",
        "colab": {}
      },
      "source": [
        "# Gather the data\n",
        "our_data_auto_data = pfr.Modeller(our_data).gather_data()"
      ],
      "execution_count": 0,
      "outputs": []
    },
    {
      "cell_type": "markdown",
      "metadata": {
        "id": "IY3C6jeTfJ_b",
        "colab_type": "text"
      },
      "source": [
        "### 4. Derive the measurements for the faces\n",
        "Pass the faces to the new measurement class. Some data wrangling involved here."
      ]
    },
    {
      "cell_type": "code",
      "metadata": {
        "id": "F0jfwUFVfJ_c",
        "colab_type": "code",
        "colab": {}
      },
      "source": [
        "# First, ask the face regressor objects to give back the data in the correct format for analysis\n",
        "our_data_auto_shapes, _, our_data_auto_predictors = our_data_auto_data.return_arrays(as_frame=True)\n"
      ],
      "execution_count": 0,
      "outputs": []
    },
    {
      "cell_type": "code",
      "metadata": {
        "id": "1cQla27dfJ_g",
        "colab_type": "code",
        "colab": {
          "base_uri": "https://localhost:8080/",
          "height": 927
        },
        "outputId": "6d6226e2-b9a2-40ec-f567-896482081c46"
      },
      "source": [
        "# PLOT FIGURE 1 - Make the average shapes!\n",
        "auto_average_shape = our_data_auto_shapes.mean(0).values.reshape(-1, 2)\n",
        "\n",
        "# Show\n",
        "fig1, ax = plt.subplots(1, 1, figsize=(12, 16))\n",
        "#for axis, data in ax, auto_average_shape:\n",
        "    \n",
        "# Plot\n",
        "ax.scatter(auto_average_shape[:,0], auto_average_shape[:,1], marker='+', color='k', s=65)\n",
        "    \n",
        "# Enumerate\n",
        "for n, pt in enumerate(auto_average_shape, start=1):\n",
        "    ax.text(pt[0], pt[1], str(n), fontsize=17, color='black')\n",
        "\n",
        "# Fix\n",
        "ax.axis('off')\n",
        "\n",
        "ax.set_title('Automatic Landmarks', fontsize=26)\n",
        "ax.invert_yaxis()\n",
        "fig1.savefig('Figure 1.png', dpi=300, bbox_inches='tight')"
      ],
      "execution_count": 19,
      "outputs": [
        {
          "output_type": "display_data",
          "data": {
            "image/png": "[encoded data removed]",
            "text/plain": [
              "<Figure size 864x1152 with 1 Axes>"
            ]
          },
          "metadata": {
            "tags": []
          }
        }
      ]
    },
    {
      "cell_type": "code",
      "metadata": {
        "id": "j1pJtdYxfJ_l",
        "colab_type": "code",
        "colab": {
          "base_uri": "https://localhost:8080/",
          "height": 293
        },
        "outputId": "781f3ec2-eb85-484c-b85c-4848ac0c5f69"
      },
      "source": [
        "# Use the class to measure the faces\n",
        "auto_measures_our_data = ComputeMeasures(our_data_auto_shapes, our_data_auto_predictors, fit_type='Auto').fit()\n",
        "auto_measures_our_data.head()"
      ],
      "execution_count": 20,
      "outputs": [
        {
          "output_type": "execute_result",
          "data": {
            "text/html": [
              "<div>\n",
              "<style scoped>\n",
              "    .dataframe tbody tr th:only-of-type {\n",
              "        vertical-align: middle;\n",
              "    }\n",
              "\n",
              "    .dataframe tbody tr th {\n",
              "        vertical-align: top;\n",
              "    }\n",
              "\n",
              "    .dataframe thead th {\n",
              "        text-align: right;\n",
              "    }\n",
              "</style>\n",
              "<table border=\"1\" class=\"dataframe\">\n",
              "  <thead>\n",
              "    <tr style=\"text-align: right;\">\n",
              "      <th></th>\n",
              "      <th>distinctiveness</th>\n",
              "      <th>symmetry</th>\n",
              "      <th>dimorphism</th>\n",
              "      <th>fwhr</th>\n",
              "    </tr>\n",
              "  </thead>\n",
              "  <tbody>\n",
              "    <tr>\n",
              "      <th>/content/drive/My Drive/Colab Notebooks/Scientific Computing/Lectures/Automatic Faces/01-01-01-01-01-01-01</th>\n",
              "      <td>243.006044</td>\n",
              "      <td>10935.767920</td>\n",
              "      <td>-1462.068839</td>\n",
              "      <td>1.725981</td>\n",
              "    </tr>\n",
              "    <tr>\n",
              "      <th>/content/drive/My Drive/Colab Notebooks/Scientific Computing/Lectures/Automatic Faces/01-01-01-01-01-01-02</th>\n",
              "      <td>165.541410</td>\n",
              "      <td>10944.594830</td>\n",
              "      <td>-1191.680502</td>\n",
              "      <td>1.716924</td>\n",
              "    </tr>\n",
              "    <tr>\n",
              "      <th>/content/drive/My Drive/Colab Notebooks/Scientific Computing/Lectures/Automatic Faces/01-01-01-01-01-01-03</th>\n",
              "      <td>254.632947</td>\n",
              "      <td>11245.195596</td>\n",
              "      <td>-1322.631561</td>\n",
              "      <td>1.723632</td>\n",
              "    </tr>\n",
              "    <tr>\n",
              "      <th>/content/drive/My Drive/Colab Notebooks/Scientific Computing/Lectures/Automatic Faces/01-01-01-01-01-01-04</th>\n",
              "      <td>204.743234</td>\n",
              "      <td>10865.833976</td>\n",
              "      <td>-1386.014649</td>\n",
              "      <td>1.521363</td>\n",
              "    </tr>\n",
              "    <tr>\n",
              "      <th>/content/drive/My Drive/Colab Notebooks/Scientific Computing/Lectures/Automatic Faces/01-01-01-01-01-01-05</th>\n",
              "      <td>125.451601</td>\n",
              "      <td>11184.541475</td>\n",
              "      <td>-1443.839344</td>\n",
              "      <td>1.608995</td>\n",
              "    </tr>\n",
              "  </tbody>\n",
              "</table>\n",
              "</div>"
            ],
            "text/plain": [
              "                                                    distinctiveness  \\\n",
              "/content/drive/My Drive/Colab Notebooks/Scienti...       243.006044   \n",
              "/content/drive/My Drive/Colab Notebooks/Scienti...       165.541410   \n",
              "/content/drive/My Drive/Colab Notebooks/Scienti...       254.632947   \n",
              "/content/drive/My Drive/Colab Notebooks/Scienti...       204.743234   \n",
              "/content/drive/My Drive/Colab Notebooks/Scienti...       125.451601   \n",
              "\n",
              "                                                        symmetry   dimorphism  \\\n",
              "/content/drive/My Drive/Colab Notebooks/Scienti...  10935.767920 -1462.068839   \n",
              "/content/drive/My Drive/Colab Notebooks/Scienti...  10944.594830 -1191.680502   \n",
              "/content/drive/My Drive/Colab Notebooks/Scienti...  11245.195596 -1322.631561   \n",
              "/content/drive/My Drive/Colab Notebooks/Scienti...  10865.833976 -1386.014649   \n",
              "/content/drive/My Drive/Colab Notebooks/Scienti...  11184.541475 -1443.839344   \n",
              "\n",
              "                                                        fwhr  \n",
              "/content/drive/My Drive/Colab Notebooks/Scienti...  1.725981  \n",
              "/content/drive/My Drive/Colab Notebooks/Scienti...  1.716924  \n",
              "/content/drive/My Drive/Colab Notebooks/Scienti...  1.723632  \n",
              "/content/drive/My Drive/Colab Notebooks/Scienti...  1.521363  \n",
              "/content/drive/My Drive/Colab Notebooks/Scienti...  1.608995  "
            ]
          },
          "metadata": {
            "tags": []
          },
          "execution_count": 20
        }
      ]
    },
    {
      "cell_type": "code",
      "metadata": {
        "id": "p8qkRe7BfJ_q",
        "colab_type": "code",
        "colab": {
          "base_uri": "https://localhost:8080/",
          "height": 496
        },
        "outputId": "37d0c3cc-eb8b-4437-ccd1-9d5f3cea3e4b"
      },
      "source": [
        "# Merge with original data\n",
        "auto_measures_final = pd.merge(left=our_data_auto_predictors, right=auto_measures_our_data, left_index=True, right_index=True)\n",
        "auto_measures_final.to_csv('corrected_auto_measures.csv')\n",
        "\n",
        "# Visualise\n",
        "sns.set_context('talk')\n",
        "graph = auto_measures_final.reset_index().rename(columns={'index': 'fid'}) \\\n",
        "    .replace({'face_sex': {1: 'female', 0: 'male'}}) \\\n",
        "    .melt(id_vars=['fid', 'face_sex'], value_vars=['distinctiveness', 'symmetry', 'dimorphism', 'fwhr'], \n",
        "          var_name='trait', value_name='score')\n",
        "    \n",
        "\n",
        "sns.FacetGrid(graph, col='trait', col_wrap=2, sharey=False).map(sns.violinplot, 'face_sex', 'score')"
      ],
      "execution_count": 21,
      "outputs": [
        {
          "output_type": "stream",
          "text": [
            "/usr/local/lib/python3.6/dist-packages/seaborn/axisgrid.py:728: UserWarning: Using the violinplot function without specifying `order` is likely to produce an incorrect plot.\n",
            "  warnings.warn(warning)\n"
          ],
          "name": "stderr"
        },
        {
          "output_type": "execute_result",
          "data": {
            "text/plain": [
              "<seaborn.axisgrid.FacetGrid at 0x7f4d9d9e9588>"
            ]
          },
          "metadata": {
            "tags": []
          },
          "execution_count": 21
        },
        {
          "output_type": "display_data",
          "data": {
            "image/png": "[encoded data removed]",
            "text/plain": [
              "<Figure size 432x432 with 4 Axes>"
            ]
          },
          "metadata": {
            "tags": []
          }
        }
      ]
    }
  ]
}