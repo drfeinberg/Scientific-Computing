{
 "cells": [
  {
   "cell_type": "markdown",
   "metadata": {
    "slideshow": {
     "slide_type": "slide"
    }
   },
   "source": [
    "# Conditionals"
   ]
  },
  {
   "cell_type": "markdown",
   "metadata": {
    "slideshow": {
     "slide_type": "slide"
    }
   },
   "source": [
    "### Recap: Booleans\n",
    "\n",
    "Booleans are a data type that can take values of `True` or `False`. "
   ]
  },
  {
   "cell_type": "markdown",
   "metadata": {
    "slideshow": {
     "slide_type": "slide"
    }
   },
   "source": [
    "## Conditionals: if"
   ]
  },
  {
   "cell_type": "markdown",
   "metadata": {
    "slideshow": {
     "slide_type": "fragment"
    }
   },
   "source": [
    "<div class=\"alert alert-success\">\n",
    "Conditionals are statements that check for a condition, using the `if` statement, and then only execute a set of code if the condition evaluates as `True`.\n",
    "</div>"
   ]
  },
  {
   "cell_type": "code",
   "execution_count": 1,
   "metadata": {
    "slideshow": {
     "slide_type": "fragment"
    }
   },
   "outputs": [
    {
     "name": "stdout",
     "output_type": "stream",
     "text": [
      "This code executes if the text 'True' is stored in the  string 'condition'.\n"
     ]
    }
   ],
   "source": [
    "condition = 'True'\n",
    "if condition == 'True':\n",
    "    print('This code executes if the text \\'True\\' is stored in the  string \\'condition\\'.')"
   ]
  },
  {
   "cell_type": "markdown",
   "metadata": {
    "slideshow": {
     "slide_type": "fragment"
    }
   },
   "source": [
    "<div class=\"alert alert-warning\">\n",
    "    The above code works, but is not the Pythonic way. If you use the aforementioned code in class, we will deduct marks.\n",
    "</div>\n",
    "    \n",
    "\n",
    "The code above is similar to asking `if condition == 'happy':`, or `if sky == 'blue':`.  It's just checking if the text matches.  To do boolean evaluations, there is a better way.  See the next slide.\n",
    "    \n",
    "\n",
    "    "
   ]
  },
  {
   "cell_type": "code",
   "execution_count": 5,
   "metadata": {
    "slideshow": {
     "slide_type": "subslide"
    }
   },
   "outputs": [
    {
     "name": "stdout",
     "output_type": "stream",
     "text": [
      "This code executes if the condition evaluates as True.\n"
     ]
    }
   ],
   "source": [
    "condition = True\n",
    "\n",
    "if condition == True\n",
    "    print('This code executes if the condition evaluates as True.')"
   ]
  },
  {
   "cell_type": "markdown",
   "metadata": {
    "slideshow": {
     "slide_type": "fragment"
    }
   },
   "source": [
    "<div class=\"alert alert-warning\">\n",
    "    Again, the above code works, but is not the Pythonic way. If you use the aforementioned code in class, we will deduct marks.\n",
    "</div>\n",
    "    \n",
    "\n",
    "The code above is repetative, because Python evaluates something as True without asking if it is equivalent to True.  See below.\n",
    "    "
   ]
  },
  {
   "cell_type": "markdown",
   "metadata": {
    "slideshow": {
     "slide_type": "subslide"
    }
   },
   "source": [
    "<div class=\"alert alert-success\">\n",
    "The Pythonic way is to just type <code>if condition</code> or <code>if not condition</code>.\n",
    "</div>"
   ]
  },
  {
   "cell_type": "code",
   "execution_count": 2,
   "metadata": {
    "slideshow": {
     "slide_type": "fragment"
    }
   },
   "outputs": [
    {
     "name": "stdout",
     "output_type": "stream",
     "text": [
      "This code executes if the condition evaluates as True.\n"
     ]
    }
   ],
   "source": [
    "condition = True\n",
    "\n",
    "if condition:\n",
    "    print('This code executes if the condition evaluates as True.')"
   ]
  },
  {
   "cell_type": "markdown",
   "metadata": {
    "slideshow": {
     "slide_type": "fragment"
    }
   },
   "source": [
    "We can test if condition is false by checking `if not condition`."
   ]
  },
  {
   "cell_type": "code",
   "execution_count": 19,
   "metadata": {
    "slideshow": {
     "slide_type": "fragment"
    }
   },
   "outputs": [
    {
     "name": "stdout",
     "output_type": "stream",
     "text": [
      "This code executes if the condition evaluates as False.\n"
     ]
    }
   ],
   "source": [
    "condition = False\n",
    "if not condition:\n",
    "    print('This code executes if the condition evaluates as False.')"
   ]
  },
  {
   "cell_type": "markdown",
   "metadata": {
    "slideshow": {
     "slide_type": "subslide"
    }
   },
   "source": [
    "### What happens when we use a string or number instead of a boolean?"
   ]
  },
  {
   "cell_type": "code",
   "execution_count": 32,
   "metadata": {
    "slideshow": {
     "slide_type": "fragment"
    }
   },
   "outputs": [
    {
     "name": "stdout",
     "output_type": "stream",
     "text": [
      "Condition is True even though it's Yellow.\n",
      "This is because Python evaluates something as True\n",
      "when there is a value stored and False when the variable is 0 or empty (i.e. '')\n"
     ]
    }
   ],
   "source": [
    "condition = 'Yellow'\n",
    "if condition:\n",
    "    print('Condition is True even though it\\'s Yellow.\\n'\n",
    "          'This is because Python evaluates something as True\\n'\n",
    "          'when there is a value stored and False when the variable is 0 or empty (i.e. \\'\\')')"
   ]
  },
  {
   "cell_type": "code",
   "execution_count": 33,
   "metadata": {
    "slideshow": {
     "slide_type": "fragment"
    }
   },
   "outputs": [
    {
     "name": "stdout",
     "output_type": "stream",
     "text": [
      "This code executes if the condition evaluates as True.\n"
     ]
    }
   ],
   "source": [
    "condition = 6.5458\n",
    "if condition:\n",
    "    print('This code executes if the condition evaluates as True.')"
   ]
  },
  {
   "cell_type": "markdown",
   "metadata": {
    "slideshow": {
     "slide_type": "fragment"
    }
   },
   "source": [
    "It's not that the value 6.5458 represents the underlying truth of the universe or something.  It just means that there is a non-zero or non-null value stored in the variable."
   ]
  },
  {
   "cell_type": "code",
   "execution_count": 30,
   "metadata": {
    "slideshow": {
     "slide_type": "fragment"
    }
   },
   "outputs": [
    {
     "name": "stdout",
     "output_type": "stream",
     "text": [
      "This code executes if the condition evaluates as False.\n"
     ]
    }
   ],
   "source": [
    "condition = 0\n",
    "if not condition:\n",
    "    print('This code executes if the condition evaluates as False.')"
   ]
  },
  {
   "cell_type": "code",
   "execution_count": 31,
   "metadata": {
    "slideshow": {
     "slide_type": "fragment"
    }
   },
   "outputs": [
    {
     "name": "stdout",
     "output_type": "stream",
     "text": [
      "This code executes if the condition evaluates as False.\n"
     ]
    }
   ],
   "source": [
    "condition = \"\"\n",
    "if not condition:\n",
    "    print('This code executes if the condition evaluates as False.')"
   ]
  },
  {
   "cell_type": "markdown",
   "metadata": {
    "slideshow": {
     "slide_type": "slide"
    }
   },
   "source": [
    "## Conditional: elif"
   ]
  },
  {
   "cell_type": "markdown",
   "metadata": {
    "slideshow": {
     "slide_type": "fragment"
    }
   },
   "source": [
    "<div class=\"alert alert-success\">\n",
    "After an if statement, you can have any number of <code>elif</code>'s (meaning 'else if') to check other conditions.\n",
    "</div>"
   ]
  },
  {
   "cell_type": "markdown",
   "metadata": {
    "slideshow": {
     "slide_type": "fragment"
    }
   },
   "source": [
    "### p-values\n",
    "#### __No matter what you learn about p-values in any other classes, remember this!__\n",
    "<div class=\"alert alert-danger\">\n",
    "A p-value only represents how surprised you would be if your null hypothesis is true given the data. The smaller the number, the more surprised you would be. Many journals will only accept a manuscript if p&lt;-0.05. This is bad because the p-value is not a measure of how strong a finding is, nor can it be used to determine whether the results are meaningful. By accepting only p-values less than 0.05, journals encourage questionable research practices. When researchers improperly use p-values, they can easily misinterpret results.</div>"
   ]
  },
  {
   "cell_type": "code",
   "execution_count": 36,
   "metadata": {
    "slideshow": {
     "slide_type": "fragment"
    }
   },
   "outputs": [
    {
     "name": "stdout",
     "output_type": "stream",
     "text": [
      "This p-value is highly significant at 95% Alpha.\n"
     ]
    }
   ],
   "source": [
    "p = 0.005\n",
    "\n",
    "if 0.01 < p < 0.05: ## You can put more than one comparision in the if statement.\n",
    "    print('This p-value is significant at 95% Alpha.')\n",
    "elif p <= 0.01:\n",
    "    print('This p-value is highly significant at 95% Alpha.')\n",
    "elif p >= 0.05:\n",
    "    print('This p-value is not significant at 95% Alpha.')\n"
   ]
  },
  {
   "cell_type": "markdown",
   "metadata": {},
   "source": [
    "### Nothing happens if none of the conditions are met.\n",
    "#### To take care of this, it's always good to use an `else` statement as a fallback.\n"
   ]
  },
  {
   "cell_type": "markdown",
   "metadata": {
    "slideshow": {
     "slide_type": "slide"
    }
   },
   "source": [
    "## Conditional: else"
   ]
  },
  {
   "cell_type": "markdown",
   "metadata": {
    "slideshow": {
     "slide_type": "fragment"
    }
   },
   "source": [
    "<div class=\"alert alert-success\">\n",
    "After an `if`, you can use an `else` that will run if none of the above the conditional(s) are met.\n",
    "</div>"
   ]
  },
  {
   "cell_type": "code",
   "execution_count": 37,
   "metadata": {
    "slideshow": {
     "slide_type": "fragment"
    }
   },
   "outputs": [
    {
     "name": "stdout",
     "output_type": "stream",
     "text": [
      "This p-value is not significant at 95% Alpha.\n"
     ]
    }
   ],
   "source": [
    "p = 0.05\n",
    "\n",
    "if p <0.05:\n",
    "    print('This p-value is significant at 95% Alpha.')\n",
    "else: \n",
    "    print('This p-value is not significant at 95% Alpha.')"
   ]
  },
  {
   "cell_type": "markdown",
   "metadata": {
    "slideshow": {
     "slide_type": "fragment"
    }
   },
   "source": [
    "<div class=\"alert alert-success\">\n",
    "Any expression that can be evaluated as a boolean, such as value comparisons, can be used with conditionals.\n",
    "</div>"
   ]
  },
  {
   "cell_type": "markdown",
   "metadata": {},
   "source": [
    "### Let's use a questionnaire as an example.  Let's say we want to assign participants a different experiment based on their favourite colour."
   ]
  },
  {
   "cell_type": "code",
   "execution_count": 25,
   "metadata": {
    "slideshow": {
     "slide_type": "slide"
    }
   },
   "outputs": [
    {
     "name": "stdout",
     "output_type": "stream",
     "text": [
      "Run Green Experiment\n"
     ]
    }
   ],
   "source": [
    "favourite_colour = \"Green\"\n",
    "\n",
    "if favourite_colour == \"Blue\":\n",
    "    print(\"Run Blue Experiment\")\n",
    "    \n",
    "elif favourite_colour == \"Green\":\n",
    "    print(\"Run Green Experiment\")\n",
    "\n",
    "else:\n",
    "    print(\"Run Red Experiment\")"
   ]
  },
  {
   "cell_type": "markdown",
   "metadata": {
    "slideshow": {
     "slide_type": "slide"
    }
   },
   "source": [
    "### Clicker Question #1\n",
    "\n",
    "What will the following code snippet print out:"
   ]
  },
  {
   "cell_type": "code",
   "execution_count": 29,
   "metadata": {
    "slideshow": {
     "slide_type": "fragment"
    }
   },
   "outputs": [
    {
     "name": "stdout",
     "output_type": "stream",
     "text": [
      "Paul is dead\n"
     ]
    }
   ],
   "source": [
    "John = \"dead\"\n",
    "Paul = John\n",
    "\n",
    "if Paul == \"alive\":\n",
    "    print(\"Make better music\")\n",
    "    \n",
    "elif Paul == John:\n",
    "    print(\"Paul is dead\")\n",
    "    \n",
    "elif John == \"John\":\n",
    "    print(\"George is curious\")\n",
    "    \n",
    "else:\n",
    "    print(\"Ringo is Thomas\")"
   ]
  },
  {
   "cell_type": "markdown",
   "metadata": {
    "slideshow": {
     "slide_type": "fragment"
    }
   },
   "source": [
    "A) John was assasinated  \n",
    "B) Paul is dead  \n",
    "C) George is curious  \n",
    "D) Ringo is Thomas  "
   ]
  },
  {
   "cell_type": "markdown",
   "metadata": {
    "slideshow": {
     "slide_type": "slide"
    }
   },
   "source": [
    "### Clicker Question 2\n",
    "\n",
    "What will the following code snippet print out:"
   ]
  },
  {
   "cell_type": "code",
   "execution_count": 30,
   "metadata": {
    "slideshow": {
     "slide_type": "fragment"
    }
   },
   "outputs": [
    {
     "name": "stdout",
     "output_type": "stream",
     "text": [
      "I did Math\n"
     ]
    }
   ],
   "source": [
    "if 1 + 1 == 2:\n",
    "    print(\"I did Math\")\n",
    "elif 1/0:\n",
    "    print(\"I broke Math\")\n",
    "else:\n",
    "    print(\"I didn't do math\")"
   ]
  },
  {
   "cell_type": "markdown",
   "metadata": {
    "slideshow": {
     "slide_type": "fragment"
    }
   },
   "source": [
    "A) I did Math  \n",
    "B) I broke Math  \n",
    "C) I didn't do math  \n",
    "D) This code won't execute"
   ]
  },
  {
   "cell_type": "markdown",
   "metadata": {
    "slideshow": {
     "slide_type": "slide"
    }
   },
   "source": [
    "### Clicker Question #3"
   ]
  },
  {
   "cell_type": "markdown",
   "metadata": {
    "slideshow": {
     "slide_type": "fragment"
    }
   },
   "source": [
    "What will the following code snippet print out:"
   ]
  },
  {
   "cell_type": "code",
   "execution_count": 3,
   "metadata": {
    "slideshow": {
     "slide_type": "fragment"
    }
   },
   "outputs": [
    {
     "name": "stdout",
     "output_type": "stream",
     "text": [
      "Yay Python!\n"
     ]
    }
   ],
   "source": [
    "python = \"great\"\n",
    "\n",
    "if True:\n",
    "    if python == \"great\":\n",
    "        print(\"Yay Python!\")\n",
    "    else:\n",
    "        print(\"Oh no.\")\n",
    "else:\n",
    "    print(\"This tastes like burning\")"
   ]
  },
  {
   "cell_type": "markdown",
   "metadata": {
    "slideshow": {
     "slide_type": "fragment"
    }
   },
   "source": [
    "A) Yay Python  \n",
    "B) Oh no.  \n",
    "C) I'm here  \n",
    "D) This code won't execute"
   ]
  },
  {
   "cell_type": "markdown",
   "metadata": {
    "collapsed": true,
    "slideshow": {
     "slide_type": "slide"
    }
   },
   "source": [
    "## Properties of conditionals\n",
    "\n",
    "- All conditionals start with an `if`, can have an optional and variable number of `elif`'s and an optional `else` statement\n",
    "   - `else always goes last if you use it\n",
    "- Conditionals can take any expression that can be evaluated as \n",
    "    - `True`, `False`\n",
    "    - `<`, `>`, `==`, `!=` `<=`, and `>=`\n",
    "    - `is`, `is not`\n",
    "    - see the tables below\n",
    "- The order of conditional blocks is always `if` then `elif`(s) then `else`\n",
    "- Code is only ever executed if the condition is met"
   ]
  },
  {
   "cell_type": "markdown",
   "metadata": {},
   "source": [
    "<table border=\"1\">\n",
    "\t<H2><center>Comparision operators in Python</center></H2>\n",
    "\t<tbody>\n",
    "\t\t<tr>\n",
    "\t\t\t<th>Operator</th>\n",
    "\t\t\t<th>Meaning</th>\n",
    "\t\t\t<th>Example</th>\n",
    "\t\t</tr>\n",
    "\t\t<tr>\n",
    "\t\t\t<td>&gt;</td>\n",
    "\t\t\t<td>Greater that - True if left operand is greater than the right</td>\n",
    "\t\t\t<td>x &gt; y</td>\n",
    "\t\t</tr>\n",
    "\t\t<tr>\n",
    "\t\t\t<td>&lt;</td>\n",
    "\t\t\t<td>Less that - True if left operand is less than the right</td>\n",
    "\t\t\t<td>x &lt; y</td>\n",
    "\t\t</tr>\n",
    "\t\t<tr>\n",
    "\t\t\t<td>==</td>\n",
    "\t\t\t<td>Equal to - True if both operands are equal</td>\n",
    "\t\t\t<td>x == y</td>\n",
    "\t\t</tr>\n",
    "\t\t<tr>\n",
    "\t\t\t<td>!=</td>\n",
    "\t\t\t<td>Not equal to - True if operands are not equal</td>\n",
    "\t\t\t<td>x != y</td>\n",
    "\t\t</tr>\n",
    "\t\t<tr>\n",
    "\t\t\t<td>&gt;=</td>\n",
    "\t\t\t<td>Greater than or equal to - True if left operand is greater than or equal to the right</td>\n",
    "\t\t\t<td>x &gt;= y</td>\n",
    "\t\t</tr>\n",
    "\t\t<tr>\n",
    "\t\t\t<td>&lt;=</td>\n",
    "\t\t\t<td>Less than or equal to - True if left operand is less than or equal to the right</td>\n",
    "\t\t\t<td>x &lt;= y</td>\n",
    "\t\t</tr>\n",
    "\t</tbody>\n",
    "</table>\n",
    "\n",
    "https://www.programiz.com/python-programming/operators"
   ]
  },
  {
   "cell_type": "markdown",
   "metadata": {},
   "source": [
    "<table border=\"1\">\n",
    "    <H2><center>Identity operators in Python</center></H2>\n",
    "\t<tbody>\n",
    "\t\t<tr>\n",
    "\t\t\t<th>Operator</th>\n",
    "\t\t\t<th>Meaning</th>\n",
    "\t\t\t<th>Example</th>\n",
    "\t\t</tr>\n",
    "\t\t<tr>\n",
    "\t\t\t<td>is</td>\n",
    "\t\t\t<td>True if the operands are identical (refer to the same object)</td>\n",
    "\t\t\t<td>x is True</td>\n",
    "\t\t</tr>\n",
    "\t\t<tr>\n",
    "\t\t\t<td>is not</td>\n",
    "\t\t\t<td>True if the operands are not identical (do not refer to the same object)</td>\n",
    "\t\t\t<td>x is not True</td>\n",
    "\t\t</tr>\n",
    "\t</tbody>\n",
    "</table>\n",
    "\n",
    "https://www.programiz.com/python-programming/operators"
   ]
  },
  {
   "cell_type": "code",
   "execution_count": null,
   "metadata": {},
   "outputs": [],
   "source": []
  }
 ],
 "metadata": {
  "kernelspec": {
   "display_name": "Python 3",
   "language": "python",
   "name": "python3"
  },
  "language_info": {
   "codemirror_mode": {
    "name": "ipython",
    "version": 3
   },
   "file_extension": ".py",
   "mimetype": "text/x-python",
   "name": "python",
   "nbconvert_exporter": "python",
   "pygments_lexer": "ipython3",
   "version": "3.7.3"
  },
  "toc": {
   "base_numbering": 1,
   "nav_menu": {},
   "number_sections": false,
   "sideBar": false,
   "skip_h1_title": false,
   "title_cell": "Table of Contents",
   "title_sidebar": "Contents",
   "toc_cell": false,
   "toc_position": {},
   "toc_section_display": false,
   "toc_window_display": false
  }
 },
 "nbformat": 4,
 "nbformat_minor": 2
}
