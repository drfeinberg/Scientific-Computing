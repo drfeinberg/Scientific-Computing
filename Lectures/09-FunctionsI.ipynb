{
 "cells": [
  {
   "cell_type": "markdown",
   "metadata": {
    "slideshow": {
     "slide_type": "slide"
    }
   },
   "source": [
    "# Functions I"
   ]
  },
  {
   "cell_type": "markdown",
   "metadata": {
    "slideshow": {
     "slide_type": "slide"
    }
   },
   "source": [
    "## Functions"
   ]
  },
  {
   "cell_type": "markdown",
   "metadata": {
    "collapsed": true,
    "slideshow": {
     "slide_type": "fragment"
    }
   },
   "source": [
    "<div class=\"alert alert-success\">\n",
    "A function is a re-usable piece of code that performs operations on a specified set of variables, and returns the result.\n",
    "</div>"
   ]
  },
  {
   "cell_type": "code",
   "execution_count": 5,
   "metadata": {},
   "outputs": [
    {
     "name": "stdout",
     "output_type": "stream",
     "text": [
      "3.4641016151377544\n"
     ]
    }
   ],
   "source": [
    "def sqrt(number):\n",
    "    number **= 0.5  # number = number ** 0.5\n",
    "    return number\n",
    "\n",
    "result = sqrt(12)\n",
    "print(result)"
   ]
  },
  {
   "cell_type": "markdown",
   "metadata": {
    "slideshow": {
     "slide_type": "slide"
    }
   },
   "source": [
    "## Modular Programming"
   ]
  },
  {
   "cell_type": "markdown",
   "metadata": {
    "slideshow": {
     "slide_type": "fragment"
    }
   },
   "source": [
    "<div class=\"alert alert-success\">\n",
    "Modular programming is an approach to programming that focuses on building programs from indendent modules ('pieces'). \n",
    "</div>"
   ]
  },
  {
   "cell_type": "markdown",
   "metadata": {
    "slideshow": {
     "slide_type": "slide"
    }
   },
   "source": [
    "## Functions for Modular Programming"
   ]
  },
  {
   "cell_type": "markdown",
   "metadata": {
    "slideshow": {
     "slide_type": "fragment"
    }
   },
   "source": [
    "- Functions allow us to flexibly re-use pieces of code\n",
    "- Each function is independent of every other function, and other pieces of code\n",
    "- Functions are the building blocks of programs, and can be flexible combined and executed in specified orders\n",
    "    - This allows us to build up arbitrarily complex, well organized programs"
   ]
  },
  {
   "cell_type": "markdown",
   "metadata": {
    "slideshow": {
     "slide_type": "slide"
    }
   },
   "source": [
    "## Function Example"
   ]
  },
  {
   "cell_type": "code",
   "execution_count": 8,
   "metadata": {
    "slideshow": {
     "slide_type": "fragment"
    }
   },
   "outputs": [],
   "source": [
    "def add_two_numbers(num1, num2):\n",
    "    \n",
    "    # Do some operations on the input variables\n",
    "    answer = num1 + num2\n",
    "    \n",
    "    # Return the answer\n",
    "    return answer"
   ]
  },
  {
   "cell_type": "code",
   "execution_count": 9,
   "metadata": {
    "slideshow": {
     "slide_type": "fragment"
    }
   },
   "outputs": [
    {
     "data": {
      "text/plain": [
       "3"
      ]
     },
     "execution_count": 9,
     "metadata": {},
     "output_type": "execute_result"
    }
   ],
   "source": [
    "# Execute our function again, on some other inputs\n",
    "add_two_numbers(-1, 4)"
   ]
  },
  {
   "cell_type": "markdown",
   "metadata": {
    "slideshow": {
     "slide_type": "slide"
    }
   },
   "source": [
    "## Function Properties"
   ]
  },
  {
   "cell_type": "markdown",
   "metadata": {
    "slideshow": {
     "slide_type": "fragment"
    }
   },
   "source": [
    "- Functions are defined using `def` followed by `:`, which opens a code-block that comprises the function\n",
    "    - Running code with a `def` block *defines* the function (but does not *execute* it)\n",
    "- Functions are *executed* using parentheses - '()'\n",
    "    - This is when the code inside a function is actually run\n",
    "- Functions have their own namespace\n",
    "    - They only have access to variables explicitly passed into them\n",
    "- Inside a function, there is code that performs operations on the available variables\n",
    "- Functions use the special operator `return` to exit the function, passing out any specified variables\n",
    "- When you use a function, you can assign the output to a variable"
   ]
  },
  {
   "cell_type": "markdown",
   "metadata": {
    "collapsed": true,
    "slideshow": {
     "slide_type": "slide"
    }
   },
   "source": [
    "## Clicker Question #1"
   ]
  },
  {
   "cell_type": "code",
   "execution_count": 10,
   "metadata": {
    "slideshow": {
     "slide_type": "fragment"
    }
   },
   "outputs": [],
   "source": [
    "def remainder(number, divider):\n",
    "    \n",
    "    remainder = number % divider\n",
    "    \n",
    "    return remainder"
   ]
  },
  {
   "cell_type": "markdown",
   "metadata": {
    "slideshow": {
     "slide_type": "fragment"
    }
   },
   "source": [
    "Given the function above, what will the code below print out?"
   ]
  },
  {
   "cell_type": "code",
   "execution_count": 11,
   "metadata": {
    "slideshow": {
     "slide_type": "fragment"
    }
   },
   "outputs": [
    {
     "name": "stdout",
     "output_type": "stream",
     "text": [
      "2\n"
     ]
    }
   ],
   "source": [
    "ans_1 = remainder(12, 5)\n",
    "ans_2 = remainder(2, 2)\n",
    "\n",
    "print(ans_1 + ans_2)"
   ]
  },
  {
   "cell_type": "markdown",
   "metadata": {
    "slideshow": {
     "slide_type": "fragment"
    }
   },
   "source": [
    "A) 0  \n",
    "B) 1  \n",
    "C) 2  \n",
    "D) 3  \n",
    "E) None"
   ]
  },
  {
   "cell_type": "markdown",
   "metadata": {},
   "source": [
    "# Function Examples"
   ]
  },
  {
   "cell_type": "markdown",
   "metadata": {},
   "source": [
    "### Get the participant's ID number"
   ]
  },
  {
   "cell_type": "code",
   "execution_count": 12,
   "metadata": {},
   "outputs": [],
   "source": [
    "def get_id():\n",
    "    id_number = input(\"Please type your ID number:\\n\")\n",
    "    return id_number"
   ]
  },
  {
   "cell_type": "code",
   "execution_count": 13,
   "metadata": {},
   "outputs": [
    {
     "name": "stdout",
     "output_type": "stream",
     "text": [
      "Please type your ID number:\n",
      "123456789\n"
     ]
    },
    {
     "data": {
      "text/plain": [
       "'123456789'"
      ]
     },
     "execution_count": 13,
     "metadata": {},
     "output_type": "execute_result"
    }
   ],
   "source": [
    "current_participant = get_id()\n",
    "current_participant"
   ]
  },
  {
   "cell_type": "markdown",
   "metadata": {},
   "source": [
    "### Take the square root of a number\n"
   ]
  },
  {
   "cell_type": "code",
   "execution_count": 14,
   "metadata": {},
   "outputs": [],
   "source": [
    "def sqrt(number):\n",
    "    square_root = number ** 0.5\n",
    "    return square_root"
   ]
  },
  {
   "cell_type": "code",
   "execution_count": 15,
   "metadata": {},
   "outputs": [
    {
     "data": {
      "text/plain": [
       "9.0"
      ]
     },
     "execution_count": 15,
     "metadata": {},
     "output_type": "execute_result"
    }
   ],
   "source": [
    "sqrt(81)"
   ]
  },
  {
   "cell_type": "markdown",
   "metadata": {},
   "source": [
    "### Go through two lists and multiply the corresponding elements together\n"
   ]
  },
  {
   "cell_type": "code",
   "execution_count": 16,
   "metadata": {},
   "outputs": [],
   "source": [
    "def multiply_lists(list1, list2):\n",
    "    if len(list1) == len(list2):\n",
    "        length = len(list1)\n",
    "        products = []\n",
    "        for i in range(length):\n",
    "            product = list1[i] * list2[i]\n",
    "            products.append(product)\n",
    "        return products\n",
    "    else:\n",
    "        print(\"Cannot multiply lists. The lists are unequal lengths.\")\n"
   ]
  },
  {
   "cell_type": "code",
   "execution_count": 17,
   "metadata": {},
   "outputs": [
    {
     "data": {
      "text/plain": [
       "[1580.0,\n",
       " 1628.91,\n",
       " 1629.72,\n",
       " 1610.4,\n",
       " 1591.0600000000002,\n",
       " 1632.15,\n",
       " 1713.6,\n",
       " 1734.62,\n",
       " 1997.82,\n",
       " 1918.05]"
      ]
     },
     "execution_count": 17,
     "metadata": {},
     "output_type": "execute_result"
    }
   ],
   "source": [
    "years = [2000, 2011, 2012, 2013, 2014, 2015, 2016, 2017, 2018, 2019]\n",
    "class_average = [0.79, 0.81, 0.81, 0.80, 0.79, 0.81, 0.85, 0.86, 0.99, 0.95]\n",
    "products = multiply_lists(years, class_average)\n",
    "products"
   ]
  },
  {
   "cell_type": "markdown",
   "metadata": {
    "slideshow": {
     "slide_type": "slide"
    }
   },
   "source": [
    "## Function Namespace I"
   ]
  },
  {
   "cell_type": "code",
   "execution_count": 18,
   "metadata": {
    "slideshow": {
     "slide_type": "fragment"
    }
   },
   "outputs": [
    {
     "name": "stdout",
     "output_type": "stream",
     "text": [
      "Variable              Type        Data/Info\n",
      "-------------------------------------------\n",
      "add_two_numbers       function    <function add_two_numbers at 0x7fdc2e315048>\n",
      "ans_1                 int         2\n",
      "ans_2                 int         0\n",
      "class_average         list        n=10\n",
      "current_participant   str         123456789\n",
      "get_id                function    <function get_id at 0x7fdc2e3151e0>\n",
      "multiply_lists        function    <function multiply_lists at 0x7fdc545882f0>\n",
      "products              list        n=10\n",
      "remainder             function    <function remainder at 0x7fdc2e37d048>\n",
      "result                float       3.4641016151377544\n",
      "sqrt                  function    <function sqrt at 0x7fdc2e315158>\n",
      "years                 list        n=10\n"
     ]
    }
   ],
   "source": [
    "# Remember, you can check defined variables with `%whos`\n",
    "%whos"
   ]
  },
  {
   "cell_type": "markdown",
   "metadata": {
    "slideshow": {
     "slide_type": "slide"
    }
   },
   "source": [
    "## Function Namespaces II"
   ]
  },
  {
   "cell_type": "markdown",
   "metadata": {},
   "source": [
    "- Functions have separate namespaces from the rest of the code.\n",
    "- Variables created inside of functions are called `local` variables. \n",
    "- That means that you can't access a `local` variable (one that was created inside a function) from\n",
    "    - the main program\n",
    "    - another function or class (we'll get to classes next class)\n",
    "    - use `locals()` to see which variables were definied and available inside the function.\n",
    "- Variables created in the main program can be accessed from inside a function because they are `global`.  \n",
    "    - use `globals()` to see which variables were definied and available everywhere in the program."
   ]
  },
  {
   "cell_type": "code",
   "execution_count": 19,
   "metadata": {
    "slideshow": {
     "slide_type": "fragment"
    }
   },
   "outputs": [],
   "source": [
    "variable_from_outside_function = \"This variable was created outside the function\"\n",
    "\n",
    "def check_function_namespace():\n",
    "    students = \"awesome\"\n",
    "    this_class = \"rocks\"\n",
    "    variable_from_inside_function = \"This variable was created inside the function\"\n",
    "    print(locals())\n",
    "    print(variable_from_outside_function)"
   ]
  },
  {
   "cell_type": "code",
   "execution_count": 20,
   "metadata": {
    "slideshow": {
     "slide_type": "fragment"
    }
   },
   "outputs": [
    {
     "name": "stdout",
     "output_type": "stream",
     "text": [
      "{'students': 'awesome', 'this_class': 'rocks', 'variable_from_inside_function': 'This variable was created inside the function'}\n",
      "This variable was created outside the function\n"
     ]
    }
   ],
   "source": [
    "check_function_namespace()"
   ]
  },
  {
   "cell_type": "markdown",
   "metadata": {},
   "source": [
    "Let's try to access `variable_from_inside_function`"
   ]
  },
  {
   "cell_type": "code",
   "execution_count": 21,
   "metadata": {},
   "outputs": [
    {
     "ename": "NameError",
     "evalue": "name 'variable_from_inside_function' is not defined",
     "output_type": "error",
     "traceback": [
      "\u001b[0;31m---------------------------------------------------------------------------\u001b[0m",
      "\u001b[0;31mNameError\u001b[0m                                 Traceback (most recent call last)",
      "\u001b[0;32m<ipython-input-21-3cbb48b2d9ba>\u001b[0m in \u001b[0;36m<module>\u001b[0;34m\u001b[0m\n\u001b[0;32m----> 1\u001b[0;31m \u001b[0mvariable_from_inside_function\u001b[0m\u001b[0;34m\u001b[0m\u001b[0;34m\u001b[0m\u001b[0m\n\u001b[0m",
      "\u001b[0;31mNameError\u001b[0m: name 'variable_from_inside_function' is not defined"
     ]
    }
   ],
   "source": [
    "variable_from_inside_function"
   ]
  },
  {
   "cell_type": "markdown",
   "metadata": {},
   "source": [
    "The reason why it says `NameError: name 'variable_from_inside_function' is not defined` is that functions have separate namespaces. \n",
    "What that means is:\n",
    "- each function has a separate namespace from each other\n",
    "- the main program can't access the namespace from inside a function because those are `local` variables\n",
    "- `global` variables are created outside the function, or created using the `global` command.  \n",
    "    - Don't use the `global` command.  \n",
    "    - If you need to access a variable inside a function, for now you should `return` it or, later, once we learn about it, use a `class`."
   ]
  },
  {
   "cell_type": "markdown",
   "metadata": {
    "slideshow": {
     "slide_type": "slide"
    }
   },
   "source": [
    "## Function - Execution Order of Namespaces"
   ]
  },
  {
   "cell_type": "code",
   "execution_count": 28,
   "metadata": {
    "slideshow": {
     "slide_type": "fragment"
    }
   },
   "outputs": [
    {
     "ename": "SyntaxError",
     "evalue": "invalid syntax (<ipython-input-28-f4403a8648ab>, line 3)",
     "output_type": "error",
     "traceback": [
      "\u001b[0;36m  File \u001b[0;32m\"<ipython-input-28-f4403a8648ab>\"\u001b[0;36m, line \u001b[0;32m3\u001b[0m\n\u001b[0;31m    print(global my_var)\u001b[0m\n\u001b[0m               ^\u001b[0m\n\u001b[0;31mSyntaxError\u001b[0m\u001b[0;31m:\u001b[0m invalid syntax\n"
     ]
    }
   ],
   "source": [
    "def change_var(my_var):\n",
    "    my_var = 'I am something else'\n",
    "    print('Inside function: \\t\\t', my_var)\n",
    "    return my_var"
   ]
  },
  {
   "cell_type": "code",
   "execution_count": 26,
   "metadata": {
    "slideshow": {
     "slide_type": "fragment"
    }
   },
   "outputs": [
    {
     "name": "stdout",
     "output_type": "stream",
     "text": [
      "Outside, before function: \t I am a variable\n",
      "Inside function: \t\t I am something else\n",
      "Outside, after function: \t I am something else\n"
     ]
    }
   ],
   "source": [
    "my_var = 'I am a variable'\n",
    "\n",
    "print('Outside, before function: \\t', my_var)\n",
    "my_var = change_var(my_var)\n",
    "print('Outside, after function: \\t', my_var)\n"
   ]
  },
  {
   "cell_type": "markdown",
   "metadata": {},
   "source": [
    "`my_var` is initially set to `'I am a variable'` outside of the funtion.  That value `'I am a variable'` is the input to the function.  Then when we run the function `change_var`, we create a new variable `my_var` that exists in the namespace inside the function `change_var`.  It doesn't overwrite the value stored outside the function in the `global` variable `my_var`.  We just created a new variable that only exists inside that function. Python does keeps track of this behind the scenes for us. \n",
    "\n",
    "This illustrates the problem of reusing and recycling variable names.  It's super confusing.  You can avoid this confusion by making never reusing a variable name from outside a function inside of a function."
   ]
  },
  {
   "cell_type": "markdown",
   "metadata": {
    "slideshow": {
     "slide_type": "slide"
    }
   },
   "source": [
    "## Clicker Question #2"
   ]
  },
  {
   "cell_type": "code",
   "execution_count": 29,
   "metadata": {
    "slideshow": {
     "slide_type": "fragment"
    }
   },
   "outputs": [],
   "source": [
    "an_int = 2\n",
    "a_float = 11.5\n",
    "\n",
    "def print_numbers(an_int, a_float):\n",
    "    print(an_int, ',', a_float)\n",
    "    "
   ]
  },
  {
   "cell_type": "markdown",
   "metadata": {
    "slideshow": {
     "slide_type": "fragment"
    }
   },
   "source": [
    "Assuming the cell above has been executed, what will the code below print out?"
   ]
  },
  {
   "cell_type": "code",
   "execution_count": 30,
   "metadata": {
    "slideshow": {
     "slide_type": "fragment"
    }
   },
   "outputs": [
    {
     "name": "stdout",
     "output_type": "stream",
     "text": [
      "5 , 12.2\n"
     ]
    }
   ],
   "source": [
    "print_numbers(5, 12.2)"
   ]
  },
  {
   "cell_type": "markdown",
   "metadata": {
    "slideshow": {
     "slide_type": "fragment"
    }
   },
   "source": [
    "A) 5 , 11.5  \n",
    "B) 2, 12.2  \n",
    "C) 2 , 11.5  \n",
    "D) 5 , 12.2  \n",
    "E) None"
   ]
  },
  {
   "cell_type": "markdown",
   "metadata": {
    "slideshow": {
     "slide_type": "slide"
    }
   },
   "source": [
    "## Clicker Question #3"
   ]
  },
  {
   "cell_type": "code",
   "execution_count": 32,
   "metadata": {
    "slideshow": {
     "slide_type": "fragment"
    }
   },
   "outputs": [],
   "source": [
    "def string_manipulator(string):\n",
    "    output = ''\n",
    "    for char in string:\n",
    "        if char == 'a' or char == 'e':\n",
    "            char = 'z' \n",
    "        output = output + char\n",
    "    return output"
   ]
  },
  {
   "cell_type": "markdown",
   "metadata": {
    "slideshow": {
     "slide_type": "fragment"
    }
   },
   "source": [
    "Given the function above, what will the following code print?"
   ]
  },
  {
   "cell_type": "code",
   "execution_count": 33,
   "metadata": {
    "slideshow": {
     "slide_type": "fragment"
    }
   },
   "outputs": [
    {
     "name": "stdout",
     "output_type": "stream",
     "text": [
      "zbcdz\n"
     ]
    }
   ],
   "source": [
    "variable = 'abcde'\n",
    "manipulated_string = string_manipulator(variable)\n",
    "print(manipulated_string)"
   ]
  },
  {
   "cell_type": "markdown",
   "metadata": {
    "slideshow": {
     "slide_type": "fragment"
    }
   },
   "source": [
    "A) 'abcde'  \n",
    "B) 'zbcdz'  \n",
    "C) 'zzzzz'  \n",
    "D) 'azbcdez'  \n",
    "E) ''"
   ]
  }
 ],
 "metadata": {
  "kernelspec": {
   "display_name": "Python 3",
   "language": "python",
   "name": "python3"
  },
  "language_info": {
   "codemirror_mode": {
    "name": "ipython",
    "version": 3
   },
   "file_extension": ".py",
   "mimetype": "text/x-python",
   "name": "python",
   "nbconvert_exporter": "python",
   "pygments_lexer": "ipython3",
   "version": "3.7.3"
  },
  "toc": {
   "base_numbering": 1,
   "nav_menu": {},
   "number_sections": false,
   "sideBar": false,
   "skip_h1_title": false,
   "title_cell": "Table of Contents",
   "title_sidebar": "Contents",
   "toc_cell": false,
   "toc_position": {},
   "toc_section_display": false,
   "toc_window_display": false
  }
 },
 "nbformat": 4,
 "nbformat_minor": 2
}
