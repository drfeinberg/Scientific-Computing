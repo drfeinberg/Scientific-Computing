{
 "cells": [
  {
   "cell_type": "markdown",
   "metadata": {
    "slideshow": {
     "slide_type": "slide"
    }
   },
   "source": [
    "# Variables"
   ]
  },
  {
   "cell_type": "markdown",
   "metadata": {
    "slideshow": {
     "slide_type": "slide"
    }
   },
   "source": [
    "### Clicker #0\n",
    "\n",
    "Please answer this iClicker question. \n",
    "\n",
    "- a) okay, sure\n",
    "- b) yes, of course!\n",
    "- c) I don't want to\n",
    "- d) why are we doing this\n",
    "- e) I hate iClickers"
   ]
  },
  {
   "cell_type": "markdown",
   "metadata": {
    "slideshow": {
     "slide_type": "slide"
    }
   },
   "source": [
    "## Programming With Python"
   ]
  },
  {
   "cell_type": "markdown",
   "metadata": {
    "slideshow": {
     "slide_type": "fragment"
    }
   },
   "source": [
    "Programming: a way to ask computer to store values (variables), and do things with them (operations)."
   ]
  },
  {
   "cell_type": "markdown",
   "metadata": {
    "slideshow": {
     "slide_type": "slide"
    }
   },
   "source": [
    "### Variables and Comments"
   ]
  },
  {
   "cell_type": "code",
   "execution_count": 15,
   "metadata": {
    "slideshow": {
     "slide_type": "fragment"
    }
   },
   "outputs": [],
   "source": [
    "# This is a comment. You can write a comment by using a `#`\n",
    "# A comment is a note for someone reading your code\n",
    "# It doesn't get executed by the kernel\n",
    "\n",
    "one_dozen = 12  # on the left of '=' is the variable name, on the right of '=' is the value stored in the variable.  To the right of # is a comment\n",
    "\n",
    "bakers_dozen = 13 # Comments can be 'inline', like this one, or by themselves like the one at the top of this cell\n",
    "\n",
    "darth_vader = \"Luke's Father\" # variables can be called anything you want, comments help people understand your code"
   ]
  },
  {
   "cell_type": "markdown",
   "metadata": {
    "slideshow": {
     "slide_type": "slide"
    }
   },
   "source": [
    "## Declaring Variables"
   ]
  },
  {
   "cell_type": "markdown",
   "metadata": {
    "slideshow": {
     "slide_type": "fragment"
    }
   },
   "source": [
    "<div class=\"alert alert-success\">\n",
    "In programming, variables are things that store values. Variables are declared with `name = value`.\n",
    "</div>"
   ]
  },
  {
   "cell_type": "markdown",
   "metadata": {
    "slideshow": {
     "slide_type": "slide"
    }
   },
   "source": [
    "## The rules of declaring variables\n",
    "\n",
    "- Names are always on the left of the `=`, values are always on the right\n",
    "- Names are case sensitive\n",
    "- Variables must start with letters\n",
    "    - After that, they can include numbers, and underscores\n",
    "    - They cannot include special characters (like &, *, #, etc)\n",
    "- Python doesn't care what you name you variables\n",
    "    - Humans do care. Pick names that describe the data or value that they store.\n",
    "    - Make it so you don't have to explain your code to anyone.\n",
    "        - They should just get it from reading the code."
   ]
  },
  {
   "cell_type": "markdown",
   "metadata": {
    "slideshow": {
     "slide_type": "subslide"
    }
   },
   "source": [
    "## Spelling and grammar count.  \n",
    "\n",
    "- Most errors when we're starting out are because of typos and indents. \n",
    "- Programming languages are unforgiving.\n",
    "    - They don't care how close you are\n",
    "    - They don't give you the benefit of the doubt\n",
    "    - Right or wrong, they follow the instructions you type exactly\n",
    "    - It is your responsibility as a coder to make sure your code is free from typos.\n"
   ]
  },
  {
   "cell_type": "markdown",
   "metadata": {},
   "source": [
    "Every experiment we do in Psychology will have lots of variables.  Let's start with our mock participant in our mock experiment. After providing informed consent to an experiment participants are assigned an ID number to accompany their data instead of their names to provide anonymity.  In the example below `participant` is a variable that will contain their ID number. Remember that in jupyter notebooks, when you type the name of a variable, it displays the value. "
   ]
  },
  {
   "cell_type": "code",
   "execution_count": 16,
   "metadata": {
    "slideshow": {
     "slide_type": "fragment"
    }
   },
   "outputs": [
    {
     "data": {
      "text/plain": [
       "1331"
      ]
     },
     "execution_count": 16,
     "metadata": {},
     "output_type": "execute_result"
    }
   ],
   "source": [
    "participant = 1331\n",
    "participant"
   ]
  },
  {
   "cell_type": "markdown",
   "metadata": {
    "slideshow": {
     "slide_type": "fragment"
    }
   },
   "source": [
    "Notice that I used lower-cased letters for `participant`.\n",
    "\n",
    "- In Python, you should always use lower-cased letters for the names of youre variables. \n",
    "- This helps other people who read your code quickly identify the type of object they are looking at.\n",
    "- If you need to make a variable that is more than one word, use an underscore `_` instead of a space.\n",
    "- If you want to learn the rules of formatting your code, google \"Python PEP-8\"\n"
   ]
  },
  {
   "cell_type": "markdown",
   "metadata": {
    "slideshow": {
     "slide_type": "fragment"
    }
   },
   "source": [
    "- You can assign a variable to another variable"
   ]
  },
  {
   "cell_type": "code",
   "execution_count": 17,
   "metadata": {
    "slideshow": {
     "slide_type": "fragment"
    }
   },
   "outputs": [
    {
     "data": {
      "text/plain": [
       "1331"
      ]
     },
     "execution_count": 17,
     "metadata": {},
     "output_type": "execute_result"
    }
   ],
   "source": [
    "participant_number = participant\n",
    "participant_number"
   ]
  },
  {
   "cell_type": "markdown",
   "metadata": {
    "slideshow": {
     "slide_type": "fragment"
    }
   },
   "source": [
    "You can change the value stored in variables"
   ]
  },
  {
   "cell_type": "code",
   "execution_count": 18,
   "metadata": {
    "slideshow": {
     "slide_type": "fragment"
    }
   },
   "outputs": [
    {
     "data": {
      "text/plain": [
       "1332"
      ]
     },
     "execution_count": 18,
     "metadata": {},
     "output_type": "execute_result"
    }
   ],
   "source": [
    "participant += 1  # this means participant = participant + 1\n",
    "participant"
   ]
  },
  {
   "cell_type": "markdown",
   "metadata": {},
   "source": [
    "This will also change the variable we assigned it to.  That's because when we wrote `participant_number = participant`, we didn't copy the value stored in `participant`, i.e. `1331`, instead, we pointed at the variable, so when `participant` changes, so does `participant_number`."
   ]
  },
  {
   "cell_type": "code",
   "execution_count": 19,
   "metadata": {},
   "outputs": [
    {
     "data": {
      "text/plain": [
       "1331"
      ]
     },
     "execution_count": 19,
     "metadata": {},
     "output_type": "execute_result"
    }
   ],
   "source": [
    "participant_number"
   ]
  },
  {
   "cell_type": "markdown",
   "metadata": {},
   "source": [
    "But when we change participant_number, it doesn't affect participant.  It's not a 2-way street."
   ]
  },
  {
   "cell_type": "code",
   "execution_count": 20,
   "metadata": {},
   "outputs": [
    {
     "name": "stdout",
     "output_type": "stream",
     "text": [
      "participant_number:  1332\n",
      "participant:  1332\n"
     ]
    }
   ],
   "source": [
    "participant_number += 1\n",
    "print('participant_number: ', participant_number)\n",
    "print('participant: ', participant)"
   ]
  },
  {
   "cell_type": "markdown",
   "metadata": {},
   "source": [
    "### Clicker #1\n",
    "\n",
    "What do you think the value of `participant_number` will be now if we add 1 to `participant` by executing the following code: \n",
    "`participant += 1`?\n",
    "\n",
    "- a) 1331\n",
    "- b) 1332\n",
    "- c) 1333\n",
    "- d) I'm totally lost, what's going on?\n",
    "- e) I hate iClickers, please stop doing this."
   ]
  },
  {
   "cell_type": "code",
   "execution_count": 21,
   "metadata": {},
   "outputs": [
    {
     "name": "stdout",
     "output_type": "stream",
     "text": [
      "participant_number:  1332\n",
      "participant:  1333\n"
     ]
    }
   ],
   "source": [
    "participant += 1\n",
    "print('participant_number: ', participant_number)\n",
    "print('participant: ', participant)"
   ]
  },
  {
   "cell_type": "markdown",
   "metadata": {},
   "source": [
    "So now `participant_number` and `participant` store different values. That can make things really weird unless you are doing this on purpose. Practical uses of this are keeping track of multiple items... but be careful and make sure you code this with intent. It's not really for beginners."
   ]
  },
  {
   "cell_type": "markdown",
   "metadata": {},
   "source": [
    "Your variables don't have to be about participants.  They can and should be about whatever they represent.  For math and graphing, we often use the single letters `x` and `y`."
   ]
  },
  {
   "cell_type": "code",
   "execution_count": 4,
   "metadata": {},
   "outputs": [
    {
     "data": {
      "text/plain": [
       "3"
      ]
     },
     "execution_count": 4,
     "metadata": {},
     "output_type": "execute_result"
    }
   ],
   "source": [
    "x = 1\n",
    "y = 2\n",
    "x + y"
   ]
  },
  {
   "cell_type": "markdown",
   "metadata": {},
   "source": [
    "You can use numbers and letters, but variables have to start with a letter."
   ]
  },
  {
   "cell_type": "code",
   "execution_count": 6,
   "metadata": {},
   "outputs": [
    {
     "name": "stdout",
     "output_type": "stream",
     "text": [
      "white and blue robot \n",
      " gold robot\n"
     ]
    }
   ],
   "source": [
    "r2d2 = 'white and blue robot'\n",
    "c3p0 = 'gold robot'\n",
    "print(r2d2,'\\n', c3p0)"
   ]
  },
  {
   "cell_type": "markdown",
   "metadata": {
    "slideshow": {
     "slide_type": "slide"
    }
   },
   "source": [
    "# Print"
   ]
  },
  {
   "cell_type": "markdown",
   "metadata": {
    "slideshow": {
     "slide_type": "fragment"
    }
   },
   "source": [
    "- The print function outputs things to the screen, not the printer\n",
    "- When we run code in Jupyter notebook, it only shows the final output, like in the previous slide\n",
    "- When we want to see more, or want to write code for use outside of Jupyter Notebooks, use \"print\""
   ]
  },
  {
   "cell_type": "markdown",
   "metadata": {
    "slideshow": {
     "slide_type": "slide"
    }
   },
   "source": [
    "## You can print the values stored in variables"
   ]
  },
  {
   "cell_type": "code",
   "execution_count": 43,
   "metadata": {
    "slideshow": {
     "slide_type": "fragment"
    }
   },
   "outputs": [],
   "source": [
    "apple = \"Honey Crisp\"\n",
    "pi = 3.14 "
   ]
  },
  {
   "cell_type": "code",
   "execution_count": 44,
   "metadata": {},
   "outputs": [
    {
     "name": "stdout",
     "output_type": "stream",
     "text": [
      "Honey Crisp\n"
     ]
    }
   ],
   "source": [
    "print(apple)"
   ]
  },
  {
   "cell_type": "code",
   "execution_count": 45,
   "metadata": {},
   "outputs": [
    {
     "name": "stdout",
     "output_type": "stream",
     "text": [
      "3.14\n"
     ]
    }
   ],
   "source": [
    "print(pi)"
   ]
  },
  {
   "cell_type": "code",
   "execution_count": 46,
   "metadata": {},
   "outputs": [
    {
     "name": "stdout",
     "output_type": "stream",
     "text": [
      "Honey Crisp 3.14\n"
     ]
    }
   ],
   "source": [
    "print (apple, pi)"
   ]
  },
  {
   "cell_type": "markdown",
   "metadata": {
    "slideshow": {
     "slide_type": "slide"
    }
   },
   "source": [
    "## You can print text"
   ]
  },
  {
   "cell_type": "code",
   "execution_count": 14,
   "metadata": {
    "slideshow": {
     "slide_type": "fragment"
    }
   },
   "outputs": [
    {
     "name": "stdout",
     "output_type": "stream",
     "text": [
      "To be, or not to be, that is the question:\n",
      "Whether 'tis nobler in the mind to suffer\n",
      "The slings and arrows of outrageous fortune,\n",
      "Or to take Arms against a Sea of troubles,\n",
      "And by opposing end them\n"
     ]
    }
   ],
   "source": [
    "print(\"To be, or not to be, that is the question:\\n\" \n",
    "      \"Whether 'tis nobler in the mind to suffer\\n\"\n",
    "      \"The slings and arrows of outrageous fortune,\\n\"\n",
    "      \"Or to take Arms against a Sea of troubles,\\n\"\n",
    "      \"And by opposing end them\")\n"
   ]
  },
  {
   "cell_type": "markdown",
   "metadata": {
    "slideshow": {
     "slide_type": "fragment"
    }
   },
   "source": [
    "<div class=\"alert alert-info\">\n",
    "You can see I typed \"\\n\" to tell the computer to make a new line.\\ is called an escape string.  Google 'python escape strings' to learn more escape strings.\n",
    "    </div>"
   ]
  },
  {
   "cell_type": "markdown",
   "metadata": {
    "slideshow": {
     "slide_type": "slide"
    }
   },
   "source": [
    "## You can print text and variables together"
   ]
  },
  {
   "cell_type": "code",
   "execution_count": 12,
   "metadata": {
    "slideshow": {
     "slide_type": "fragment"
    }
   },
   "outputs": [
    {
     "name": "stdout",
     "output_type": "stream",
     "text": [
      "The r^2 value is:  0.76 \n",
      " The effect size is  large\n"
     ]
    }
   ],
   "source": [
    "r_squared = 0.76\n",
    "\n",
    "# This defines another variable\n",
    "effect_size = 'large'\n",
    "\n",
    "print(\"The r^2 value is: \", r_squared, \"\\n\", \"The effect size is \", effect_size)"
   ]
  },
  {
   "cell_type": "markdown",
   "metadata": {
    "slideshow": {
     "slide_type": "fragment"
    }
   },
   "source": [
    "## You can print a lot of things a lot of ways\n",
    "We'll learn more about string formatting and string manipulations later."
   ]
  },
  {
   "cell_type": "markdown",
   "metadata": {
    "slideshow": {
     "slide_type": "slide"
    }
   },
   "source": [
    "# <font color=\"red\">Warning - \"print\" is different in Python 3.X and Python 2.7</font>\n",
    "\n",
    "\n",
    "\n",
    "## A lot of web help for Python is in Python 2.7\n",
    "- In Python 2.7, which we don't use in class, you print like this:\n",
    "    - `print \"lorum ipsum\"`\n",
    "- In Python 3.X, the version we use in class, you print like this:\n",
    "    - `print(\"lorum ipsum\")`\n",
    "- To fix the print statements, just make sure you use parentheses like this `print(\"this way\")`."
   ]
  },
  {
   "cell_type": "markdown",
   "metadata": {},
   "source": [
    "# Back to Variables...."
   ]
  },
  {
   "cell_type": "markdown",
   "metadata": {
    "slideshow": {
     "slide_type": "slide"
    }
   },
   "source": [
    "## Code Variables != Math Variables\n",
    "\n",
    "In mathematics: `=` refers to equality (as a statement of truth).\n",
    "\n",
    "In coding: `=` refers to assignment. You can read the '=' as 'gets'.  \n",
    "\n",
    "x = 2 + 5 can be read as \"x gets the value that results when you add 2 plus 5\".\n",
    "\n",
    "In coding, you can use `==` to evaluate equality."
   ]
  },
  {
   "cell_type": "markdown",
   "metadata": {
    "slideshow": {
     "slide_type": "slide"
    }
   },
   "source": [
    "Math: What is x?\n",
    "\n",
    "`102 = 10x + 2`"
   ]
  },
  {
   "cell_type": "markdown",
   "metadata": {
    "slideshow": {
     "slide_type": "fragment"
    }
   },
   "source": [
    "Code: What is x?\n",
    "\n",
    "`x = x + 1`"
   ]
  },
  {
   "cell_type": "markdown",
   "metadata": {
    "slideshow": {
     "slide_type": "slide"
    }
   },
   "source": [
    "### Clicker #2\n",
    "\n",
    "After executing the following code, what will be the value of `my_var`?"
   ]
  },
  {
   "cell_type": "code",
   "execution_count": 22,
   "metadata": {
    "slideshow": {
     "slide_type": "fragment"
    }
   },
   "outputs": [
    {
     "name": "stdout",
     "output_type": "stream",
     "text": [
      "3\n"
     ]
    }
   ],
   "source": [
    "my_var = 2\n",
    "\n",
    "my_var = my_var + 1\n",
    "\n",
    "print(my_var)"
   ]
  },
  {
   "cell_type": "markdown",
   "metadata": {
    "slideshow": {
     "slide_type": "fragment"
    }
   },
   "source": [
    "- a) 2\n",
    "- b) 3\n",
    "- c) \"my_var + 1\"\n",
    "- d) This code will fail\n",
    "- e) I'm totally lost.  What is going on here?\n"
   ]
  },
  {
   "cell_type": "markdown",
   "metadata": {
    "slideshow": {
     "slide_type": "slide"
    }
   },
   "source": [
    "### Reminder"
   ]
  },
  {
   "cell_type": "markdown",
   "metadata": {
    "slideshow": {
     "slide_type": "fragment"
    }
   },
   "source": [
    "- In programming `=` means assignment\n",
    "- Anything to the right of the `=` is evaluated before assignment"
   ]
  },
  {
   "cell_type": "markdown",
   "metadata": {
    "slideshow": {
     "slide_type": "slide"
    }
   },
   "source": [
    "## Namespace"
   ]
  },
  {
   "cell_type": "markdown",
   "metadata": {
    "slideshow": {
     "slide_type": "fragment"
    }
   },
   "source": [
    "<div class=\"alert alert-success\">\n",
    "The namespace is the 'place' where all your currently defined code is declared - all the things you have stored in active memory. \n",
    "</div>"
   ]
  },
  {
   "cell_type": "code",
   "execution_count": 17,
   "metadata": {
    "slideshow": {
     "slide_type": "slide"
    }
   },
   "outputs": [
    {
     "name": "stdout",
     "output_type": "stream",
     "text": [
      "Variable            Type    Data/Info\n",
      "-------------------------------------\n",
      "my_other_variable   int     13\n",
      "my_var              int     1\n",
      "my_variable         int     12\n",
      "other_var           str     variables are cool\n",
      "x                   int     1\n",
      "y                   int     2\n"
     ]
    }
   ],
   "source": [
    "# You can list everything declated in the namespace with '%whos'\n",
    "%whos"
   ]
  },
  {
   "cell_type": "markdown",
   "metadata": {
    "slideshow": {
     "slide_type": "slide"
    }
   },
   "source": [
    "## <center> Don't reuse & recycle variable names</center>\n",
    "<img src=\"img/recycle.jpg\">\n",
    "\n",
    "\n",
    "----------------\n",
    "- Technically you can re-use variables.  \n",
    "- It's bad to re-use variable names because it's easy to get mixed up. \n",
    "- If you make a variable by accident, or have a type, or just don't want it anymore, just leave it alone.  \n",
    "    - It's not going to hurt anyone if you just don't type it."
   ]
  },
  {
   "cell_type": "markdown",
   "metadata": {
    "slideshow": {
     "slide_type": "slide"
    }
   },
   "source": [
    "### iClicker Question #2\n",
    "\n",
    "After executing the following code, what will be the value of `var_2`?"
   ]
  },
  {
   "cell_type": "code",
   "execution_count": 18,
   "metadata": {
    "slideshow": {
     "slide_type": "fragment"
    }
   },
   "outputs": [
    {
     "name": "stdout",
     "output_type": "stream",
     "text": [
      "1\n"
     ]
    }
   ],
   "source": [
    "var_2 = var_1 = 1\n",
    "\n",
    "print(var_2)"
   ]
  },
  {
   "cell_type": "markdown",
   "metadata": {
    "slideshow": {
     "slide_type": "fragment"
    }
   },
   "source": [
    "- a) 'var_1'\n",
    "- b) 1\n",
    "- c) 2\n",
    "- d) This code will fail"
   ]
  },
  {
   "cell_type": "markdown",
   "metadata": {
    "slideshow": {
     "slide_type": "slide"
    }
   },
   "source": [
    "### Reminders"
   ]
  },
  {
   "cell_type": "markdown",
   "metadata": {
    "slideshow": {
     "slide_type": "fragment"
    }
   },
   "source": [
    "- There can be more than one assignment in a single line\n",
    "- Anything to the right of the `=` is evaluated before assignment\n",
    "    - This process proceeds from right to left"
   ]
  },
  {
   "cell_type": "markdown",
   "metadata": {
    "slideshow": {
     "slide_type": "slide"
    }
   },
   "source": [
    "# Variable Types"
   ]
  },
  {
   "cell_type": "markdown",
   "metadata": {
    "slideshow": {
     "slide_type": "fragment"
    }
   },
   "source": [
    "<div class=\"alert alert-success\">\n",
    "Every variable has a 'type', which refers to the kind of variable that it is, and how the computer stores that data.\n",
    "</div>\n",
    "\n",
    "You don't have to tell Python what type of variable something is.  It figures it out itself by the nature of the contents. In other programming languages, you do have to specify this when declaring variables, so we are happy we are using Python so we can bypass this step."
   ]
  },
  {
   "cell_type": "code",
   "execution_count": 23,
   "metadata": {
    "slideshow": {
     "slide_type": "slide"
    }
   },
   "outputs": [
    {
     "data": {
      "text/plain": [
       "int"
      ]
     },
     "execution_count": 23,
     "metadata": {},
     "output_type": "execute_result"
    }
   ],
   "source": [
    "# Declare a variable\n",
    "variable_name = 1\n",
    "\n",
    "# You can always ask Python 'what type is this variable' using:\n",
    "type(variable_name)"
   ]
  },
  {
   "cell_type": "markdown",
   "metadata": {
    "slideshow": {
     "slide_type": "slide"
    }
   },
   "source": [
    "### Int"
   ]
  },
  {
   "cell_type": "markdown",
   "metadata": {
    "slideshow": {
     "slide_type": "fragment"
    }
   },
   "source": [
    "<div class=\"alert alert-success\">\n",
    "`Integers` store whole numbers.\n",
    "</div>"
   ]
  },
  {
   "cell_type": "code",
   "execution_count": 2,
   "metadata": {
    "slideshow": {
     "slide_type": "fragment"
    }
   },
   "outputs": [],
   "source": [
    "my_integer = 1\n",
    "another_integer = 321\n",
    "a_negative_integer = -345\n",
    "zero = 0"
   ]
  },
  {
   "cell_type": "markdown",
   "metadata": {
    "slideshow": {
     "slide_type": "slide"
    }
   },
   "source": [
    "### Float"
   ]
  },
  {
   "cell_type": "markdown",
   "metadata": {
    "slideshow": {
     "slide_type": "fragment"
    }
   },
   "source": [
    "<div class=\"alert alert-success\">\n",
    "`Floats` store signed, decimal-point numbers.  </div>\n",
    "The decimal point 'floats' around, depending on how many decimal places you need.\n",
    "They don't have a signature, they are signed (i.e.) positive (+) or negative (-).\n"
   ]
  },
  {
   "cell_type": "code",
   "execution_count": 10,
   "metadata": {
    "slideshow": {
     "slide_type": "fragment"
    }
   },
   "outputs": [],
   "source": [
    "my_float = 1.0\n",
    "another_float = -231.45"
   ]
  },
  {
   "cell_type": "markdown",
   "metadata": {
    "slideshow": {
     "slide_type": "slide"
    }
   },
   "source": [
    "### String"
   ]
  },
  {
   "cell_type": "markdown",
   "metadata": {
    "slideshow": {
     "slide_type": "fragment"
    }
   },
   "source": [
    "<div class=\"alert alert-success\">\n",
    "`Strings` store characters, as text.  \n",
    "</div>\n"
   ]
  },
  {
   "cell_type": "code",
   "execution_count": 16,
   "metadata": {
    "slideshow": {
     "slide_type": "fragment"
    }
   },
   "outputs": [],
   "source": [
    "my_string = 'words, words, words'\n",
    "another_string = 'more words'\n",
    "\n",
    "# Note that strings can be defined with either '' or \"\"\n",
    "and_another = \"and some more\""
   ]
  },
  {
   "cell_type": "markdown",
   "metadata": {
    "slideshow": {
     "slide_type": "fragment"
    }
   },
   "source": [
    "<div class=\"alert alert-success\">\n",
    "`Strings` can also store numbers, as text.  \n",
    "</div>"
   ]
  },
  {
   "cell_type": "code",
   "execution_count": 24,
   "metadata": {
    "slideshow": {
     "slide_type": "fragment"
    }
   },
   "outputs": [
    {
     "data": {
      "text/plain": [
       "'12'"
      ]
     },
     "execution_count": 24,
     "metadata": {},
     "output_type": "execute_result"
    }
   ],
   "source": [
    "one = \"1\"\n",
    "two = \"2\"\n",
    "one + two"
   ]
  },
  {
   "cell_type": "markdown",
   "metadata": {
    "slideshow": {
     "slide_type": "slide"
    }
   },
   "source": [
    "## Boolean"
   ]
  },
  {
   "cell_type": "markdown",
   "metadata": {
    "slideshow": {
     "slide_type": "fragment"
    }
   },
   "source": [
    "### `Booleans` store `True` or `False`. \n",
    "When a variable is:\n",
    "- `False`\n",
    "- empty string (e.g. `''`)\n",
    "- or `0`\n",
    "    - Python recognizes it as False.\n",
    "\n",
    "\n",
    "When a variable is:\n",
    "- `True`\n",
    "- empty string (e.g. `' '`)\n",
    "- or not `0`\n",
    "    - Python recognizes it as True.\n",
    "\n"
   ]
  },
  {
   "cell_type": "markdown",
   "metadata": {},
   "source": [
    "## iClicker Question #3\n",
    "\n",
    "\n",
    "When a variable is `'False'`\n",
    "\n",
    "e.g. `my_var = 'False'`\n",
    "\n",
    "Does Python recognize this variable as   \n",
    "1) `True`   \n",
    "2) `False`   \n",
    "3) I'm lost, what's going on?  "
   ]
  },
  {
   "cell_type": "code",
   "execution_count": 41,
   "metadata": {},
   "outputs": [],
   "source": [
    "# iClicker #3 solution\n",
    "my_var = 'False'"
   ]
  },
  {
   "cell_type": "code",
   "execution_count": 42,
   "metadata": {},
   "outputs": [
    {
     "data": {
      "text/plain": [
       "False"
      ]
     },
     "execution_count": 42,
     "metadata": {},
     "output_type": "execute_result"
    }
   ],
   "source": [
    "my_var is True"
   ]
  },
  {
   "cell_type": "code",
   "execution_count": 43,
   "metadata": {},
   "outputs": [
    {
     "data": {
      "text/plain": [
       "False"
      ]
     },
     "execution_count": 43,
     "metadata": {},
     "output_type": "execute_result"
    }
   ],
   "source": [
    "my_var is False"
   ]
  },
  {
   "cell_type": "code",
   "execution_count": 44,
   "metadata": {},
   "outputs": [
    {
     "data": {
      "text/plain": [
       "True"
      ]
     },
     "execution_count": 44,
     "metadata": {},
     "output_type": "execute_result"
    }
   ],
   "source": [
    "my_var is 'False'"
   ]
  },
  {
   "cell_type": "markdown",
   "metadata": {
    "slideshow": {
     "slide_type": "slide"
    }
   },
   "source": [
    "## None"
   ]
  },
  {
   "cell_type": "markdown",
   "metadata": {
    "slideshow": {
     "slide_type": "fragment"
    }
   },
   "source": [
    "<div class=\"alert alert-success\">\n",
    "`None` is a special type that stores `None`, used to denote a null or empty value.\n",
    "</div>"
   ]
  },
  {
   "cell_type": "code",
   "execution_count": 47,
   "metadata": {
    "slideshow": {
     "slide_type": "fragment"
    }
   },
   "outputs": [],
   "source": [
    "the_concept_of_nothing = None"
   ]
  },
  {
   "cell_type": "code",
   "execution_count": 48,
   "metadata": {},
   "outputs": [
    {
     "data": {
      "text/plain": [
       "False"
      ]
     },
     "execution_count": 48,
     "metadata": {},
     "output_type": "execute_result"
    }
   ],
   "source": [
    "the_concept_of_nothing is True"
   ]
  },
  {
   "cell_type": "code",
   "execution_count": 49,
   "metadata": {},
   "outputs": [
    {
     "data": {
      "text/plain": [
       "False"
      ]
     },
     "execution_count": 49,
     "metadata": {},
     "output_type": "execute_result"
    }
   ],
   "source": [
    "the_concept_of_nothing is False"
   ]
  },
  {
   "cell_type": "code",
   "execution_count": 50,
   "metadata": {},
   "outputs": [
    {
     "data": {
      "text/plain": [
       "True"
      ]
     },
     "execution_count": 50,
     "metadata": {},
     "output_type": "execute_result"
    }
   ],
   "source": [
    "the_concept_of_nothing is None"
   ]
  },
  {
   "cell_type": "markdown",
   "metadata": {},
   "source": [
    "That's deep."
   ]
  },
  {
   "cell_type": "markdown",
   "metadata": {
    "slideshow": {
     "slide_type": "slide"
    }
   },
   "source": [
    "### Reminders"
   ]
  },
  {
   "cell_type": "markdown",
   "metadata": {
    "slideshow": {
     "slide_type": "fragment"
    }
   },
   "source": [
    "- Multiple variables can relate to the same value(s)\n",
    "    - e.g. `x = 3` & `y = 3`can both peacefully co-exist"
   ]
  }
 ],
 "metadata": {
  "celltoolbar": "Tags",
  "kernelspec": {
   "display_name": "Python 3",
   "language": "python",
   "name": "python3"
  },
  "language_info": {
   "codemirror_mode": {
    "name": "ipython",
    "version": 3
   },
   "file_extension": ".py",
   "mimetype": "text/x-python",
   "name": "python",
   "nbconvert_exporter": "python",
   "pygments_lexer": "ipython3",
   "version": "3.7.3"
  },
  "toc": {
   "base_numbering": 1,
   "nav_menu": {
    "height": "561px",
    "width": "350px"
   },
   "number_sections": false,
   "sideBar": false,
   "skip_h1_title": false,
   "title_cell": "Table of Contents",
   "title_sidebar": "Contents",
   "toc_cell": false,
   "toc_position": {},
   "toc_section_display": false,
   "toc_window_display": false
  }
 },
 "nbformat": 4,
 "nbformat_minor": 2
}
