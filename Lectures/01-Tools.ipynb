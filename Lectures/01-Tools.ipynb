{
 "cells": [
  {
   "cell_type": "markdown",
   "metadata": {
    "slideshow": {
     "slide_type": "slide"
    }
   },
   "source": [
    "# Tools"
   ]
  },
  {
   "cell_type": "markdown",
   "metadata": {
    "slideshow": {
     "slide_type": "skip"
    }
   },
   "source": [
    "This notebook will guide through the tools you will need for class materials and assignments, and how to get them. "
   ]
  },
  {
   "cell_type": "markdown",
   "metadata": {
    "slideshow": {
     "slide_type": "slide"
    }
   },
   "source": [
    "## Prerequisites\n",
    "\n",
    "This course and associated materials do not presume any prior knowledge of Python, or programming in general. \n",
    "\n",
    "To work with the course materials, you will need make sure the tools described here are installed on the computer you will be using. \n",
    "\n",
    "None of the materials are computationally heavy. "
   ]
  },
  {
   "cell_type": "markdown",
   "metadata": {
    "slideshow": {
     "slide_type": "slide"
    }
   },
   "source": [
    "## What hardware and software you need?\n",
    "\n",
    "### Hardware\n",
    "- You do need access to a computer for this course.\n",
    "    - You do not need to own a computer, but it is highly recommended\n",
    "        - The more you code, the better you will get\n",
    "        - There is no substitute for practice\n",
    "    - If do not own a computer, you can run the from a campus computer lab.\n",
    "        - There are even websites where you can run Python code online\n",
    "        - https://www.onlinegdb.com/online_python_compiler\n",
    "- **If you think access to a computer will be a roadblock for you taking this course, please speak to me asap.**\n",
    "\n",
    "\n",
    "### Software\n",
    "- Python: Working install of Python 3.7\n",
    "    - We will be using the Anaconda distribution\n",
    "    - Anaconda is a Python distribution made for science\n",
    "- Jupyter Notebooks\n",
    "    - I'm using a Jypyter Notebook now\n",
    "    - It come's with Anaconda, so you don't have to install anything extra\n",
    "    - Jupyter notebooks are great for teaching, presentations, and reproducable science\n",
    "- PyschoPy\n",
    "    - PsychoPy is a program written in Python that runs experiments.\n",
    "    - It was written for psychophysics but has been adapted widely across psychological and related sciences.\n",
    "    - We will install this later in the course\n"
   ]
  },
  {
   "cell_type": "markdown",
   "metadata": {
    "slideshow": {
     "slide_type": "slide"
    }
   },
   "source": [
    "<center><img src=\"img/python.png\" width=\"450px\"></center>"
   ]
  },
  {
   "cell_type": "markdown",
   "metadata": {
    "slideshow": {
     "slide_type": "fragment"
    }
   },
   "source": [
    "<div class=\"alert alert-success\">\n",
    "Python is a programming language, whos development is led by the Python Software Foundation (PSF). \n",
    "</div>\n",
    "\n",
    "<div class=\"alert alert-info\">\n",
    "The official Python organization website is available <a href=\"https://www.python.org\" class=\"alert-link\">here</a>.\n",
    "</div>"
   ]
  },
  {
   "cell_type": "markdown",
   "metadata": {
    "slideshow": {
     "slide_type": "slide"
    }
   },
   "source": [
    "## Python\n",
    "\n",
    "- Versions: there are different versions of Python.\n",
    "    - We will be using Anaconda 3\n",
    "    - We will not by using Python 2.7\n",
    "        - A lot of support is for Python 2.7 because it's older has been out for a long time\n",
    "        - That's ok it's easy to translate\n",
    "            - I will show you how later on\n",
    "\n",
    "\n",
    "- Your computer might have Python on it already\n",
    "    - Mac and Linux both come with Python pre-installed\n",
    "    - You might also have it on your Windows computer\n",
    "    - You can install as many different versions of Python on your computer as you want\n",
    "    - This can make it confusing to know which version you are using\n",
    "        - That matters a lot when you have lots of different libraries installed\n",
    "\n",
    "\n",
    "- To make it easier we're going to use the Anaconda 3 distribution of Python\n",
    "    - When running code, we're going to make sure we're always running it with Anaconda 3, rather than what might be on your computer already\n",
    "        - It's confusing from the get-go.  \n",
    "            - I know.  I went though this myself\n",
    "        - Don't panic!\n",
    "        - I'm here to help you learn how to do this\n",
    "    \n",
    "\n",
    "- Packages: Python includes a \"base set\" of code (the standard library), and an extensive ecosystem of third party packages\n",
    "    - When we need other packages, we will use conda and/or pip to install them\n",
    "    - A package is like an app that you can add on to Python\n",
    "    - conda and pip are like app stores for Python\n",
    "        - Except.. \n",
    "            - everything is free\n",
    "            - you use the command line (you type in the box instead of click on the icons)\n",
    "\n",
    "        "
   ]
  },
  {
   "cell_type": "markdown",
   "metadata": {
    "slideshow": {
     "slide_type": "slide"
    }
   },
   "source": [
    "<center><img src=\"img/anaconda.png\" width=\"450px\"></center>"
   ]
  },
  {
   "cell_type": "markdown",
   "metadata": {
    "slideshow": {
     "slide_type": "fragment"
    }
   },
   "source": [
    "<div class=\"alert alert-success\">\n",
    "Anaconda is an open-source distribution of Python, focused on scientific computing in Python. \n",
    "</div>\n",
    "\n",
    "<div class=\"alert alert-info\">\n",
    "The anaconda website is \n",
    "<a href=\"https://www.anaconda.com\" class=\"alert-link\">here</a>. \n",
    "</div>\n",
    "\n",
    "<div class=\"alert alert-danger\">\n",
    "When you google search for <code>anaconda</code>, make sure you search for <code>python anaconda</code>.  This will help you avoid unwanted results from Nicki Minaj or worse :-/\n",
    "</div>"
   ]
  },
  {
   "cell_type": "markdown",
   "metadata": {
    "slideshow": {
     "slide_type": "slide"
    }
   },
   "source": [
    "<center><img src=\"img/conda.png\" width=\"450px\"></center>"
   ]
  },
  {
   "cell_type": "markdown",
   "metadata": {
    "slideshow": {
     "slide_type": "fragment"
    }
   },
   "source": [
    "<div class=\"alert alert-success\">\n",
    "Conda is a package management tool, that comes with anaconda. \n",
    "</div>\n",
    "\n",
    "<div class=\"alert alert-info\">\n",
    "Conda documentation is available\n",
    "<a href=\"https://conda.io/docs/\" class=\"alert-link\">here</a>.\n",
    "</div>"
   ]
  },
  {
   "cell_type": "markdown",
   "metadata": {
    "slideshow": {
     "slide_type": "slide"
    }
   },
   "source": [
    "## The Anaconda Ecosystem\n",
    "\n",
    "- Anaconda itself is a distribution - that is, a copy of the Python standard library, included a curated collection of external packages.\n",
    "- Conda is a package manager, allowing you to download, install, and manage other packages. "
   ]
  },
  {
   "cell_type": "markdown",
   "metadata": {
    "slideshow": {
     "slide_type": "slide"
    }
   },
   "source": [
    "<center><img src=\"img/jupyter.png\" width=\"300px\"></center>"
   ]
  },
  {
   "cell_type": "markdown",
   "metadata": {
    "slideshow": {
     "slide_type": "fragment"
    }
   },
   "source": [
    "<div class=\"alert alert-success\">\n",
    "Jupyter notebooks are a way to intermix code, outputs and plain text. \n",
    "They run in a web browser, and connect to a kernel to be able to execute code. \n",
    "</div>\n",
    "\n",
    "<div class=\"alert alert-info\">\n",
    "The official Jupyter website is available \n",
    "<a href=\"http://jupyter.org\" class=\"alert-link\">here</a>.\n",
    "</div>"
   ]
  },
  {
   "cell_type": "markdown",
   "metadata": {
    "slideshow": {
     "slide_type": "slide"
    }
   },
   "source": [
    "## Installation\n",
    "\n",
    "You only need to download one thing: anaconda, which comes complete with conda, and Jupyter notebooks."
   ]
  },
  {
   "cell_type": "markdown",
   "metadata": {
    "slideshow": {
     "slide_type": "fragment"
    }
   },
   "source": [
    "<div class=\"alert alert-info\">\n",
    "Download Anaconda 3.7 from:\n",
    "<a href=\"https://www.anaconda.com/distribution/#download-section\" class=\"alert-link\">here.</a><br>\n",
    "    \n",
    "<font color=red>__**Make sure you know where you are saving the file so you can install the software!**__</font>\n",
    "</div>\n",
    "\n",
    "- To install Anaconda on OSX:\n",
    "<a href=\"https://www.datacamp.com/community/tutorials/installing-anaconda-mac-os-x\" class=\"aler-link\">follow these instructions.</a><br>\n",
    "\n",
    "- To install Anaconda on Windows\n",
    "<a href=\"https://www.datacamp.com/community/tutorials/installing-anaconda-windows\" class=\"aler-link\">follow these instructions.</a><br>\n",
    "</div>\n",
    "\n",
    "- Make sure you select the Anaconda 3.7, 64-bit graphical installer.\n",
    "\n",
    "- After it's done installing, to run a Jupyter Notebook, follow the instructions <a href=\"https://jupyter-notebook-beginner-guide.readthedocs.io/en/latest/execute.html\" class=\"alert-link\"> here.</a><br>\n"
   ]
  },
  {
   "cell_type": "code",
   "execution_count": 9,
   "metadata": {
    "slideshow": {
     "slide_type": "skip"
    }
   },
   "outputs": [
    {
     "name": "stdout",
     "output_type": "stream",
     "text": [
      "/home/david/anaconda3/bin/python\n",
      "Python 3.7.3\n"
     ]
    }
   ],
   "source": [
    "# You can check which python you are using, and what version it is.\n",
    "#  Once you have installed anaconda, you should see you are using Python in your anaconda folder\n",
    "#  Make sure that the version you have is 3.7\n",
    "#  Note: these are command-line functions that may not work on windows\n",
    "!which python\n",
    "!python --version"
   ]
  },
  {
   "cell_type": "code",
   "execution_count": null,
   "metadata": {},
   "outputs": [],
   "source": []
  }
 ],
 "metadata": {
  "celltoolbar": "Slideshow",
  "kernelspec": {
   "display_name": "Python 3",
   "language": "python",
   "name": "python3"
  },
  "language_info": {
   "codemirror_mode": {
    "name": "ipython",
    "version": 3
   },
   "file_extension": ".py",
   "mimetype": "text/x-python",
   "name": "python",
   "nbconvert_exporter": "python",
   "pygments_lexer": "ipython3",
   "version": "3.7.3"
  },
  "toc": {
   "base_numbering": 1,
   "nav_menu": {},
   "number_sections": false,
   "sideBar": false,
   "skip_h1_title": false,
   "title_cell": "Table of Contents",
   "title_sidebar": "Contents",
   "toc_cell": false,
   "toc_position": {},
   "toc_section_display": false,
   "toc_window_display": false
  }
 },
 "nbformat": 4,
 "nbformat_minor": 2
}
