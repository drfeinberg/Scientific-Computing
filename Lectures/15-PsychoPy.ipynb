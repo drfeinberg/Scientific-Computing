{
 "cells": [
  {
   "cell_type": "markdown",
   "metadata": {},
   "source": [
    "<img src=\"img/psychopyLogoType3_h240.png\">\n",
    "\n",
    "# <a href=\"https://www.psychopy.org/\">PsychoPy</a> is an open-source application allowing you run a wide range of neuroscience, psychology and psychophysics experiments."
   ]
  },
  {
   "cell_type": "markdown",
   "metadata": {},
   "source": [
    "# Installing PsychoPy"
   ]
  },
  {
   "cell_type": "markdown",
   "metadata": {},
   "source": [
    "Psychopy offers installable applications for Mac and Windows.  Unless you are an advanced user, it's recommended you download the appropriate standalone version for your computer here, from the author's GitHub site: https://github.com/psychopy/psychopy/releases\n",
    "\n",
    "<div class=\"alert alert-warning\">\n",
    " We are using PsychoPy 3, not PsychoPy 2.  Make sure you install the proper version so you're using Python 3.\n",
    "</div>"
   ]
  },
  {
   "cell_type": "markdown",
   "metadata": {},
   "source": [
    "- For windows, choose: `StandalonePsychoPy3-3.1.5-win64.exe`\n",
    "- For mac, choose: `StandalonePsychoPy3-3.1.5-MacOS.dmg`\n",
    "- For linux\n",
    "    - follow instructions here: https://www.psychopy.org/download.html#download\n",
    "        - Remember to use the version of `pip` inside the `/anaconda3/bin/` you installed for class\n",
    "    - or compile the source on the GitHub: https://www.psychopy.org/download.html#download"
   ]
  },
  {
   "cell_type": "markdown",
   "metadata": {},
   "source": [
    "# Starting PsychoPy\n",
    "- Start PsychoPy program however you normally start programs."
   ]
  },
  {
   "cell_type": "markdown",
   "metadata": {},
   "source": [
    "# Builder and Coder"
   ]
  },
  {
   "cell_type": "markdown",
   "metadata": {},
   "source": [
    "Psychopy has builder mode and coder mode. "
   ]
  },
  {
   "cell_type": "markdown",
   "metadata": {},
   "source": [
    "# PsychoPy Coder"
   ]
  },
  {
   "cell_type": "markdown",
   "metadata": {},
   "source": [
    "## Example - Hello World in PsychoPy\n",
    "\n",
    "Saying `Hello world` in PsychoPy takes a few steps.  That's because there's lots of parts to an experiment.  "
   ]
  },
  {
   "cell_type": "markdown",
   "metadata": {},
   "source": [
    "## Load the Modules"
   ]
  },
  {
   "cell_type": "code",
   "execution_count": null,
   "metadata": {},
   "outputs": [],
   "source": [
    "from psychopy import visual, core  # import psychopy's core and the visual module"
   ]
  },
  {
   "cell_type": "markdown",
   "metadata": {},
   "source": [
    "## Create a window\n",
    "- Visual programs have windows where things appear on the screen.  \n",
    "- Look at your web browser\n",
    "    - there's a window with menus, buttons, and a web page on it.  \n",
    "    - In PsychoPy, we have to make a window to type `Hello World` on.\n",
    "\n",
    "- Previoulsy, we imported the `visual` _module_ from `psychopy`.  \n",
    "- Create an _instance_ of the `Window` _class_.  \n",
    "    - Specify the size of the window with the _list_ `[400, 400]`"
   ]
  },
  {
   "cell_type": "code",
   "execution_count": null,
   "metadata": {},
   "outputs": [],
   "source": [
    "win = visual.Window([400,400])  # create a window size 400 x 400"
   ]
  },
  {
   "cell_type": "markdown",
   "metadata": {},
   "source": [
    "## Tell Psychopy what message to write on the screen.  \n",
    "- To do this, we need to tell PsychoPy that we want to present Text Stimuli.  \n",
    "- create an _instance_ the `TextStim` _class_ called `message`.  \n",
    "    - That message goes into `win`, which is the window we just created. \n",
    "- The message contains the text `Hello world`."
   ]
  },
  {
   "cell_type": "code",
   "execution_count": null,
   "metadata": {},
   "outputs": [],
   "source": [
    "message = visual.TextStim(win, text='Hello world')  # create a message that is a visual text stimulus"
   ]
  },
  {
   "cell_type": "markdown",
   "metadata": {},
   "source": [
    "##  Set the message to automatically be drawn at each frame\n",
    "- The previous code just created the `message` object.  It didn't draw it on the window.  \n",
    "- To do that, we will set the `autoDraw` boolean asset to True"
   ]
  },
  {
   "cell_type": "code",
   "execution_count": null,
   "metadata": {},
   "outputs": [],
   "source": [
    "message.autoDraw = True  # Automatically draw that message on the window"
   ]
  },
  {
   "cell_type": "markdown",
   "metadata": {},
   "source": [
    "## Flip the window\n",
    "Ack! We still can't see something on the screen.  \n",
    "- Imagine the screen is covered by a window curtain and you need to reveal what's behind the curtain to see everything you put on the window.\n",
    "- The window shade is a buffer and makes sure everything is 100% ready to go before we reveal what's behind the curtain.\n",
    "    - That's super important in experiments so that we are sure everything gets timed perfectly."
   ]
  },
  {
   "cell_type": "code",
   "execution_count": null,
   "metadata": {},
   "outputs": [],
   "source": [
    "win.flip()  # Show the window"
   ]
  },
  {
   "cell_type": "markdown",
   "metadata": {},
   "source": [
    "## Tell PsychoPy to wait 10 seconds before executing the next command"
   ]
  },
  {
   "cell_type": "code",
   "execution_count": null,
   "metadata": {},
   "outputs": [],
   "source": [
    "core.wait(10)"
   ]
  },
  {
   "cell_type": "markdown",
   "metadata": {},
   "source": [
    "## We can change the stimulus by taking the previous code, and changing some attributes of the message\n",
    "\n",
    "<div class=\"alert alert-info\" role=\"alert\">\n",
    "Remember that message is an instance of the TextStim class, so it has more methods and attributes available to it.  If we want to learn them or forget them, we can type <code>dir message.</code>  You may find that there's usually examples and better information online. Try searching `psychopy TexStim` on google and look at some results.\n",
    "</div>"
   ]
  },
  {
   "cell_type": "code",
   "execution_count": null,
   "metadata": {},
   "outputs": [],
   "source": [
    "dir(message)"
   ]
  },
  {
   "cell_type": "markdown",
   "metadata": {},
   "source": [
    "## We can change are `text` and `color`.\n",
    "\n",
    "Let's begin by drawing that `Hello world` text in the window."
   ]
  },
  {
   "cell_type": "code",
   "execution_count": null,
   "metadata": {},
   "outputs": [],
   "source": [
    "from psychopy import visual, core  # import psychopy's core and the visual module\n",
    "win = visual.Window([400,400])  # create a window size 400 x 400\n",
    "message = visual.TextStim(win, text='Hello world')  # create a message that is a visual text stimulus\n",
    "message.autoDraw = True  # Automatically draw that message on the window\n",
    "win.flip()  # Show the window\n",
    "core.wait(15)  # here we're waiting 15 seconds before doing the next command "
   ]
  },
  {
   "cell_type": "markdown",
   "metadata": {},
   "source": [
    "## Now let's update the  `text` and `color`."
   ]
  },
  {
   "cell_type": "code",
   "execution_count": null,
   "metadata": {},
   "outputs": [],
   "source": [
    "message.text = \"Green\"  # make a \n",
    "message.color = \"red\"\n",
    "win.flip()  # Show the window\n",
    "core.wait(10) # wait 10 seconds"
   ]
  },
  {
   "cell_type": "markdown",
   "metadata": {},
   "source": [
    "## Make a list of all of the text and colour combinations between the colors red, green and blue, and the text 'red', 'green', and 'blue' and call it `trialList`"
   ]
  },
  {
   "cell_type": "code",
   "execution_count": null,
   "metadata": {},
   "outputs": [],
   "source": [
    "trialList = [{'text': 'red', 'letterColour': 'red'},\n",
    "    {'text': 'red', 'letterColour': 'green'},\n",
    "    {'text': 'green', 'letterColour': 'green'},\n",
    "    {'text': 'green', 'letterColour': 'blue'},\n",
    "    {'text': 'blue', 'letterColour': 'blue'},\n",
    "    {'text': 'blue', 'letterColour': 'red'}]"
   ]
  },
  {
   "cell_type": "markdown",
   "metadata": {},
   "source": [
    "## Let's pick the last combination"
   ]
  },
  {
   "cell_type": "code",
   "execution_count": null,
   "metadata": {},
   "outputs": [],
   "source": [
    "current_trial = trialList[-1]"
   ]
  },
  {
   "cell_type": "markdown",
   "metadata": {},
   "source": [
    "## Now, let's update the window with these values"
   ]
  },
  {
   "cell_type": "code",
   "execution_count": null,
   "metadata": {},
   "outputs": [],
   "source": [
    "message.text = current_trial['text']  # make a \n",
    "message.color = current_trial['letterColour']\n",
    "win.flip()  # Show the window\n",
    "core.wait(10) # wait 10 seconds"
   ]
  },
  {
   "cell_type": "markdown",
   "metadata": {},
   "source": [
    "## Let's randomize the order of the stimuli and make a loop through the randomized list"
   ]
  },
  {
   "cell_type": "code",
   "execution_count": null,
   "metadata": {},
   "outputs": [],
   "source": [
    "import random\n",
    "\n",
    "random.shuffle(trialList)\n",
    "trialList"
   ]
  },
  {
   "cell_type": "markdown",
   "metadata": {},
   "source": [
    "## Loop through the list of stimuli, pausing for 2 seconds at a time"
   ]
  },
  {
   "cell_type": "code",
   "execution_count": null,
   "metadata": {},
   "outputs": [],
   "source": [
    "for trial in trialList:\n",
    "    message.text = trial['text']  # make a \n",
    "    message.color = trial['letterColour']\n",
    "    win.flip()  # Show the window\n",
    "    core.wait(2) # wait 10 seconds"
   ]
  },
  {
   "cell_type": "markdown",
   "metadata": {},
   "source": [
    "## Close the window"
   ]
  },
  {
   "cell_type": "code",
   "execution_count": null,
   "metadata": {},
   "outputs": [],
   "source": [
    "win.close() # close the window called `win`"
   ]
  },
  {
   "cell_type": "markdown",
   "metadata": {},
   "source": [
    "# Recording a Keyboard Response in Psychopy\n",
    "In every experiment we need to measure something.  In many PNB experiments we'll be recording key presses from people.  Here's the basic way to do that."
   ]
  },
  {
   "cell_type": "code",
   "execution_count": null,
   "metadata": {},
   "outputs": [],
   "source": [
    "from psychopy import visual, event\n",
    "\n",
    "win = visual.Window([400, 400])\n",
    "keys = event.waitKeys()\n",
    "print(keys)\n",
    "win.close()"
   ]
  },
  {
   "cell_type": "markdown",
   "metadata": {},
   "source": [
    "## Restricting the keys a participant can press\n",
    "\n",
    "In experiments, we want the participant to only be able to press certain keys... Or rather, we want to disable all of the keys except for the one's we choose to enable. That way if a participant presses another key, by accident or not, it doesn't affect the experiment.  \n",
    "\n",
    "- Here we are only recording data from the `left` and `right` arrow keys."
   ]
  },
  {
   "cell_type": "code",
   "execution_count": null,
   "metadata": {},
   "outputs": [],
   "source": [
    "win = visual.Window([400, 400])\n",
    "keys = event.waitKeys(keyList=[\"left\", \"right\"])  # We have a list of keys we'll accept.  This can be any combination of keys.\n",
    "print(keys)\n",
    "win.close()"
   ]
  },
  {
   "cell_type": "markdown",
   "metadata": {},
   "source": [
    "## Measuring when a key was pressed\n",
    "In many PNB experiments we are interested in measuring reaction time.  To measure when a button was pressed, we tell the timeStamed attribute to use the clock we created.  Here, we'll use keys, \"r\", \"g\", and \"b\", since they correspond to our colours red, green, and blue"
   ]
  },
  {
   "cell_type": "code",
   "execution_count": null,
   "metadata": {},
   "outputs": [],
   "source": [
    "from psychopy import core, visual, event\n",
    "\n",
    "\n",
    "win = visual.Window([400, 400])\n",
    "reaction_time_clock = core.Clock()  # create a reaction_time_clock object\n",
    "keys = event.waitKeys(keyList=[\"r\", \"g\", \"b\"], timeStamped=reaction_time_clock) # record the time from the creation of the clock until the button was pressed\n",
    "print(keys)\n",
    "win.close()"
   ]
  },
  {
   "cell_type": "markdown",
   "metadata": {},
   "source": [
    "## Putting it all together\n",
    "\n",
    "- We'll need to make sure we save the data each time we go through the for loop.\n",
    "    - To do this we'll add it to a list called `data` instead of printing it."
   ]
  },
  {
   "cell_type": "code",
   "execution_count": null,
   "metadata": {},
   "outputs": [],
   "source": [
    "import random\n",
    "from psychopy import core, visual, event\n",
    "\n",
    "\n",
    "trialList = [{'text': 'red', 'letterColour': 'red'},\n",
    "    {'text': 'red', 'letterColour': 'green'},\n",
    "    {'text': 'green', 'letterColour': 'green'},\n",
    "    {'text': 'green', 'letterColour': 'blue'},\n",
    "    {'text': 'blue', 'letterColour': 'blue'},\n",
    "    {'text': 'blue', 'letterColour': 'red'}]\n",
    "\n",
    "random.shuffle(trialList)  # randomize the order of stimuli presentation\n",
    "data = [] # declare our list data\n",
    "win = visual.Window([400, 400])\n",
    "message = visual.TextStim(win, text=\"Get ready, we're about to begin\")  # create a message that is a visual text stimulus\n",
    "message.autoDraw = True  # Automatically draw that message on the window\n",
    "\n",
    "for trial in trialList:\n",
    "    reaction_time_clock = core.Clock()  # create a reaction_time_clock object\n",
    "    message.text = trial['text']  # make a \n",
    "    message.color = trial['letterColour']\n",
    "    win.flip()  # Show the window\n",
    "    keys = event.waitKeys(keyList=[\"r\", \"g\", \"b\"], timeStamped=reaction_time_clock) # record the time from the creation of the clock until the button was pressed\n",
    "    data.append(keys)\n",
    "    \n",
    "    \n",
    "win.close() # close the window called `win`"
   ]
  },
  {
   "cell_type": "code",
   "execution_count": null,
   "metadata": {},
   "outputs": [],
   "source": [
    "keys?"
   ]
  },
  {
   "cell_type": "markdown",
   "metadata": {},
   "source": [
    "### Okay, so we're saving whick key was pressed, but how do we know it's the correct response or not?\n",
    "\n",
    "#### To do that, we can  add the correct response to our trialList so we can test for equivalence to the response\n"
   ]
  },
  {
   "cell_type": "code",
   "execution_count": null,
   "metadata": {},
   "outputs": [],
   "source": [
    "trialList = [{'text': 'red', 'letterColour': 'red', 'correctResponse': 'r'},\n",
    "    {'text': 'red', 'letterColour': 'green', 'correctResponse': 'r'},\n",
    "    {'text': 'green', 'letterColour': 'green', 'correctResponse': 'g'},\n",
    "    {'text': 'green', 'letterColour': 'blue', 'correctResponse': 'g'},\n",
    "    {'text': 'blue', 'letterColour': 'blue', 'correctResponse': 'b'},\n",
    "    {'text': 'blue', 'letterColour': 'red', 'correctResponse': 'b'}]"
   ]
  },
  {
   "cell_type": "markdown",
   "metadata": {},
   "source": [
    "#### Before we append our data, we check if the participant response matches the `correctResponse`"
   ]
  },
  {
   "cell_type": "code",
   "execution_count": null,
   "metadata": {},
   "outputs": [],
   "source": [
    "if keys[0] == trial['correctResponse']:\n",
    "    response = \"correct\"\n",
    "elif keys[0] != trial['correctResponse']:\n",
    "    response = \"incorrect\"\n",
    "else:\n",
    "    resonse = \"N/A\""
   ]
  },
  {
   "cell_type": "markdown",
   "metadata": {},
   "source": [
    "### Data Dictionary\n",
    "It's time we start saving our data in a dictionary.  If we keep an unlabled list of data, we won't know what anything is later.  If we start using a dictionary now, we can make our lives easier later."
   ]
  },
  {
   "cell_type": "code",
   "execution_count": 4,
   "metadata": {},
   "outputs": [],
   "source": [
    "data_dictionary = {\n",
    "    'keys_pressed': \"\",\n",
    "    'reaction_time': None,\n",
    "    'response_correct': \"\"\n",
    "}"
   ]
  },
  {
   "cell_type": "markdown",
   "metadata": {},
   "source": [
    "### Here's that all together again"
   ]
  },
  {
   "cell_type": "code",
   "execution_count": 9,
   "metadata": {},
   "outputs": [
    {
     "name": "stdout",
     "output_type": "stream",
     "text": [
      "164.3222 \tWARNING \tMonitor specification not found. Creating a temporary one...\n",
      "164.5078 \tWARNING \tThe size of the gamma ramp was reported as 0. This can mean that gamma settings have no effect. Proceeding with a default gamma ramp size.\n",
      "164.5083 \tWARNING \tThe size of the gamma ramp was reported as 0. This can mean that gamma settings have no effect. Proceeding with a default gamma ramp size.\n"
     ]
    }
   ],
   "source": [
    "import random\n",
    "from psychopy import core, visual, event\n",
    "\n",
    "\n",
    "trialList = [{'text': 'red', 'letterColour': 'red', 'correctResponse': 'r'},\n",
    "    {'text': 'red', 'letterColour': 'green', 'correctResponse': 'r'},\n",
    "    {'text': 'green', 'letterColour': 'green', 'correctResponse': 'g'},\n",
    "    {'text': 'green', 'letterColour': 'blue', 'correctResponse': 'g'},\n",
    "    {'text': 'blue', 'letterColour': 'blue', 'correctResponse': 'b'},\n",
    "    {'text': 'blue', 'letterColour': 'red', 'correctResponse': 'b'}]\n",
    "\n",
    "random.shuffle(trialList)  # randomize the order of stimuli presentation\n",
    "data = [] # declare our list data\n",
    "data_dictionary = {\n",
    "    'keys_pressed': \"\",\n",
    "    'reaction_time': None,\n",
    "    'response_correct': \"\"\n",
    "}\n",
    "win = visual.Window([400, 400])\n",
    "message = visual.TextStim(win, text=\"Get ready, we're about to begin\")  # create a message that is a visual text stimulus\n",
    "message.autoDraw = True  # Automatically draw that message on the window\n",
    "\n",
    "for trial in trialList:\n",
    "    reaction_time_clock = core.Clock()  # create a reaction_time_clock object\n",
    "    message.text = trial['text']  # make a \n",
    "    message.color = trial['letterColour']\n",
    "    win.flip()  # Show the window\n",
    "    keys = event.waitKeys(keyList=[\"r\", \"g\", \"b\"], timeStamped=reaction_time_clock) # record the time from the creation of the clock until the button was pressed        \n",
    "    if keys[0][0] == trial['correctResponse']: \n",
    "         data_dictionary['response_correct'] = \"correct\"\n",
    "    elif keys[0][0] != trial['correctResponse']:\n",
    "         data_dictionary['response_correct'] = \"incorrect\"\n",
    "    else:\n",
    "         data_dictionary['response_correct'] = \"N/A\"\n",
    "    data_dictionary['keys_pressed'] = keys[0][0]\n",
    "    data_dictionary['reaction_time'] = keys[0][1]\n",
    "    data.append(data_dictionary)\n",
    "win.close() # close the window called `win`"
   ]
  },
  {
   "cell_type": "code",
   "execution_count": 10,
   "metadata": {},
   "outputs": [
    {
     "data": {
      "text/plain": [
       "[{'keys_pressed': 'r',\n",
       "  'reaction_time': 0.40850471099838614,\n",
       "  'response_correct': 'incorrect'},\n",
       " {'keys_pressed': 'r',\n",
       "  'reaction_time': 0.40850471099838614,\n",
       "  'response_correct': 'incorrect'},\n",
       " {'keys_pressed': 'r',\n",
       "  'reaction_time': 0.40850471099838614,\n",
       "  'response_correct': 'incorrect'},\n",
       " {'keys_pressed': 'r',\n",
       "  'reaction_time': 0.40850471099838614,\n",
       "  'response_correct': 'incorrect'},\n",
       " {'keys_pressed': 'r',\n",
       "  'reaction_time': 0.40850471099838614,\n",
       "  'response_correct': 'incorrect'},\n",
       " {'keys_pressed': 'r',\n",
       "  'reaction_time': 0.40850471099838614,\n",
       "  'response_correct': 'incorrect'}]"
      ]
     },
     "execution_count": 10,
     "metadata": {},
     "output_type": "execute_result"
    }
   ],
   "source": [
    "data"
   ]
  },
  {
   "cell_type": "markdown",
   "metadata": {},
   "source": [
    "## Tidying up\n",
    "### There's a couple more things we need to do to our experiment before it's street legal.\n",
    "\n",
    "1) We need to record a participant ID number.  \n",
    "2) We need to give the participant instructions.  \n",
    "3) We need to keep track of the trial number.\n",
    "3) We need to save the data "
   ]
  },
  {
   "cell_type": "markdown",
   "metadata": {},
   "source": [
    "## Participant ID\n",
    "\n",
    "Remember, we already did this.  We could actually just copy and paste the code we wrote in the `Function I lecture, and it would work here.  That's the amazing thing about Python."
   ]
  },
  {
   "cell_type": "code",
   "execution_count": null,
   "metadata": {},
   "outputs": [],
   "source": [
    "def get_id():\n",
    "    id_number = input(\"Please type your ID number:\\n\")\n",
    "    return id_number\n",
    "\n",
    "current_participant = get_id()\n",
    "current_participant"
   ]
  },
  {
   "cell_type": "markdown",
   "metadata": {},
   "source": [
    "### Here's what that looks like all put together\n"
   ]
  },
  {
   "cell_type": "code",
   "execution_count": 11,
   "metadata": {},
   "outputs": [
    {
     "name": "stdout",
     "output_type": "stream",
     "text": [
      "Please type your ID number:\n",
      "Feinberg\n",
      "349.0085 \tWARNING \tMonitor specification not found. Creating a temporary one...\n",
      "349.1746 \tWARNING \tThe size of the gamma ramp was reported as 0. This can mean that gamma settings have no effect. Proceeding with a default gamma ramp size.\n",
      "349.1749 \tWARNING \tThe size of the gamma ramp was reported as 0. This can mean that gamma settings have no effect. Proceeding with a default gamma ramp size.\n"
     ]
    }
   ],
   "source": [
    "import random\n",
    "from psychopy import core, visual, event\n",
    "\n",
    "\n",
    "\n",
    "def get_id():  #always define your functions before you'll run them.\n",
    "    id_number = input(\"Please type your ID number:\\n\")\n",
    "    return id_number\n",
    "\n",
    "current_participant = get_id()\n",
    "\n",
    "trialList = [{'text': 'red', 'letterColour': 'red', 'correctResponse': 'r'},\n",
    "    {'text': 'red', 'letterColour': 'green', 'correctResponse': 'r'},\n",
    "    {'text': 'green', 'letterColour': 'green', 'correctResponse': 'g'},\n",
    "    {'text': 'green', 'letterColour': 'blue', 'correctResponse': 'g'},\n",
    "    {'text': 'blue', 'letterColour': 'blue', 'correctResponse': 'b'},\n",
    "    {'text': 'blue', 'letterColour': 'red', 'correctResponse': 'b'}]\n",
    "\n",
    "random.shuffle(trialList)  # randomize the order of stimuli presentation\n",
    "data = [] # declare our list data\n",
    "data_dictionary = {\n",
    "    'participant': \"\",\n",
    "    'keys_pressed': \"\",\n",
    "    'reaction_time': None,\n",
    "    'response_correct': \"\"\n",
    "}\n",
    "win = visual.Window([400, 400])\n",
    "message = visual.TextStim(win, text=\"Get ready, we're about to begin\")  # create a message that is a visual text stimulus\n",
    "message.autoDraw = True  # Automatically draw that message on the window\n",
    "\n",
    "for trial in trialList:\n",
    "    reaction_time_clock = core.Clock()  # create a reaction_time_clock object\n",
    "    message.text = trial['text']  # make a \n",
    "    message.color = trial['letterColour']\n",
    "    win.flip()  # Show the window\n",
    "    keys = event.waitKeys(keyList=[\"r\", \"g\", \"b\"], timeStamped=reaction_time_clock) # record the time from the creation of the clock until the button was pressed        \n",
    "    if keys[0][0] == trial['correctResponse']: \n",
    "         data_dictionary['response_correct'] = \"correct\"\n",
    "    elif keys[0][0] != trial['correctResponse']:\n",
    "         data_dictionary['response_correct'] = \"incorrect\"\n",
    "    else:\n",
    "         data_dictionary['response_correct'] = \"N/A\"\n",
    "    data_dictionary['keys_pressed'] = keys[0][0]\n",
    "    data_dictionary['reaction_time'] = keys[0][1]\n",
    "    data_dictionary['participant'] = current_participant\n",
    "    data.append(data_dictionary)\n",
    "    \n",
    "    \n",
    "win.close() # close the window called `win`"
   ]
  },
  {
   "cell_type": "code",
   "execution_count": 12,
   "metadata": {},
   "outputs": [
    {
     "data": {
      "text/plain": [
       "[{'participant': 'Feinberg',\n",
       "  'keys_pressed': 'b',\n",
       "  'reaction_time': 0.13949154500005534,\n",
       "  'response_correct': 'incorrect'},\n",
       " {'participant': 'Feinberg',\n",
       "  'keys_pressed': 'b',\n",
       "  'reaction_time': 0.13949154500005534,\n",
       "  'response_correct': 'incorrect'},\n",
       " {'participant': 'Feinberg',\n",
       "  'keys_pressed': 'b',\n",
       "  'reaction_time': 0.13949154500005534,\n",
       "  'response_correct': 'incorrect'},\n",
       " {'participant': 'Feinberg',\n",
       "  'keys_pressed': 'b',\n",
       "  'reaction_time': 0.13949154500005534,\n",
       "  'response_correct': 'incorrect'},\n",
       " {'participant': 'Feinberg',\n",
       "  'keys_pressed': 'b',\n",
       "  'reaction_time': 0.13949154500005534,\n",
       "  'response_correct': 'incorrect'},\n",
       " {'participant': 'Feinberg',\n",
       "  'keys_pressed': 'b',\n",
       "  'reaction_time': 0.13949154500005534,\n",
       "  'response_correct': 'incorrect'}]"
      ]
     },
     "execution_count": 12,
     "metadata": {},
     "output_type": "execute_result"
    }
   ],
   "source": [
    "data"
   ]
  },
  {
   "cell_type": "raw",
   "metadata": {},
   "source": [
    "### That was legit, but that's not the experience we want our participant to have.  \n",
    "\n",
    "They might be put off by some odd command line interface to type in their participant ID.  Psychopy has a module that can makes a dialogue box for the participant to type their information into.  That module is the `gui` module.  We can add fields to the Dialogue box and record different information about the participant."
   ]
  },
  {
   "cell_type": "markdown",
   "metadata": {},
   "source": [
    "### Import the `gui`"
   ]
  },
  {
   "cell_type": "code",
   "execution_count": null,
   "metadata": {},
   "outputs": [],
   "source": [
    "from psychopy import gui"
   ]
  },
  {
   "cell_type": "markdown",
   "metadata": {},
   "source": [
    "### Create the gui object"
   ]
  },
  {
   "cell_type": "code",
   "execution_count": null,
   "metadata": {},
   "outputs": [],
   "source": [
    "mygui = gui.Dlg()"
   ]
  },
  {
   "cell_type": "markdown",
   "metadata": {},
   "source": [
    "### Add the fields"
   ]
  },
  {
   "cell_type": "code",
   "execution_count": null,
   "metadata": {},
   "outputs": [],
   "source": [
    "mygui.addField(\"Subject ID:\")\n",
    "mygui.addField(\"Condition Num:\")"
   ]
  },
  {
   "cell_type": "markdown",
   "metadata": {},
   "source": [
    "### Make the window appear"
   ]
  },
  {
   "cell_type": "code",
   "execution_count": null,
   "metadata": {},
   "outputs": [],
   "source": [
    "mygui.show()"
   ]
  },
  {
   "cell_type": "markdown",
   "metadata": {},
   "source": [
    "### Record the data. \n",
    "The data returns as a list of strings, so we need to turn any numbers we want to use into integers or floats.  We can access any individual item by accessing it from the list."
   ]
  },
  {
   "cell_type": "code",
   "execution_count": null,
   "metadata": {},
   "outputs": [],
   "source": [
    "print(mygui.data)\n",
    "\n",
    "participant_ID = mygui.data[0]\n",
    "condition_number = int(mygui.data[1])\n",
    "\n",
    "print(participant_ID, condition_number)"
   ]
  },
  {
   "cell_type": "markdown",
   "metadata": {},
   "source": [
    "### Let's put that code back into our program"
   ]
  },
  {
   "cell_type": "code",
   "execution_count": 22,
   "metadata": {},
   "outputs": [
    {
     "name": "stdout",
     "output_type": "stream",
     "text": [
      "r\n",
      "g\n",
      "b\n",
      "r\n",
      "g\n",
      "b\n",
      "922.8094 \tWARNING \tMonitor specification not found. Creating a temporary one...\n",
      "923.0851 \tWARNING \tThe size of the gamma ramp was reported as 0. This can mean that gamma settings have no effect. Proceeding with a default gamma ramp size.\n",
      "923.0868 \tWARNING \tThe size of the gamma ramp was reported as 0. This can mean that gamma settings have no effect. Proceeding with a default gamma ramp size.\n"
     ]
    }
   ],
   "source": [
    "import random\n",
    "from psychopy import core, visual, event, gui # Add gui to the import list\n",
    "\n",
    "\n",
    "\n",
    "def get_id():  # We can put the gui code into a function\n",
    "    mygui = gui.Dlg()\n",
    "    mygui.addField(\"Subject ID:\")\n",
    "    mygui.addField(\"Condition Num:\")\n",
    "    mygui.show()\n",
    "    participant_ID = mygui.data[0]\n",
    "    condition_number = int(mygui.data[1])\n",
    "    return participant_ID, condition_number\n",
    "\n",
    "current_participant, condition_number = get_id()\n",
    "\n",
    "trialList = [{'text': 'red', 'letterColour': 'red', 'correctResponse': 'r'},\n",
    "    {'text': 'red', 'letterColour': 'green', 'correctResponse': 'r'},\n",
    "    {'text': 'green', 'letterColour': 'green', 'correctResponse': 'g'},\n",
    "    {'text': 'green', 'letterColour': 'blue', 'correctResponse': 'g'},\n",
    "    {'text': 'blue', 'letterColour': 'blue', 'correctResponse': 'b'},\n",
    "    {'text': 'blue', 'letterColour': 'red', 'correctResponse': 'b'}]\n",
    "\n",
    "random.shuffle(trialList)  # randomize the order of stimuli presentation\n",
    "data = [] # declare our list data\n",
    "win = visual.Window([400, 400])\n",
    "message = visual.TextStim(win, text=\"Get ready, we're about to begin\")  # create a message that is a visual text stimulus\n",
    "message.autoDraw = True  # Automatically draw that message on the window\n",
    "trial_number = 0 # initialize trial tracker\n",
    "for trial in trialList:\n",
    "    data_dictionary = {}\n",
    "    trial_number += 1\n",
    "    data_dictionary['Trial Number'] = trial_number\n",
    "    reaction_time_clock = core.Clock()  # create a reaction_time_clock object\n",
    "    message.text = trial['text']  # make a \n",
    "    message.color = trial['letterColour']\n",
    "    win.flip()  # Show the window\n",
    "    keys = event.waitKeys(keyList=[\"r\", \"g\", \"b\"], timeStamped=reaction_time_clock) # record the time from the creation of the clock until the button was pressed\n",
    "    if keys[0][0] == trial['correctResponse']: \n",
    "         data_dictionary['Response Correct'] = \"correct\"\n",
    "    elif keys[0][0] != trial['correctResponse']:\n",
    "         data_dictionary['Response Correct'] = \"incorrect\"\n",
    "    else:\n",
    "         data_dictionary['Response Correct'] = \"N/A\"\n",
    "    data_dictionary['Keys Pressed'] = keys[0][0]\n",
    "    data_dictionary['Reaction Time'] = keys[0][1]\n",
    "    data_dictionary['Participant'] = current_participant\n",
    "    data_dictionary['Condition'] = condition_number\n",
    "    data.append(data_dictionary)\n",
    "    \n",
    "win.close() # close the window called `win`"
   ]
  },
  {
   "cell_type": "code",
   "execution_count": 23,
   "metadata": {},
   "outputs": [
    {
     "data": {
      "text/plain": [
       "[{'Trial Number': 1,\n",
       "  'Response Correct': 'correct',\n",
       "  'Keys Pressed': 'r',\n",
       "  'Reaction Time': 2.3566792659985367,\n",
       "  'Participant': 'Test',\n",
       "  'Condition': 33},\n",
       " {'Trial Number': 2,\n",
       "  'Response Correct': 'incorrect',\n",
       "  'Keys Pressed': 'g',\n",
       "  'Reaction Time': 1.4210756350003066,\n",
       "  'Participant': 'Test',\n",
       "  'Condition': 33},\n",
       " {'Trial Number': 3,\n",
       "  'Response Correct': 'correct',\n",
       "  'Keys Pressed': 'b',\n",
       "  'Reaction Time': 0.33196463599961135,\n",
       "  'Participant': 'Test',\n",
       "  'Condition': 33},\n",
       " {'Trial Number': 4,\n",
       "  'Response Correct': 'incorrect',\n",
       "  'Keys Pressed': 'r',\n",
       "  'Reaction Time': 0.46472026699848357,\n",
       "  'Participant': 'Test',\n",
       "  'Condition': 33},\n",
       " {'Trial Number': 5,\n",
       "  'Response Correct': 'incorrect',\n",
       "  'Keys Pressed': 'g',\n",
       "  'Reaction Time': 0.23882433799735736,\n",
       "  'Participant': 'Test',\n",
       "  'Condition': 33},\n",
       " {'Trial Number': 6,\n",
       "  'Response Correct': 'incorrect',\n",
       "  'Keys Pressed': 'b',\n",
       "  'Reaction Time': 0.3022041869990062,\n",
       "  'Participant': 'Test',\n",
       "  'Condition': 33}]"
      ]
     },
     "execution_count": 23,
     "metadata": {},
     "output_type": "execute_result"
    }
   ],
   "source": [
    "data"
   ]
  },
  {
   "cell_type": "markdown",
   "metadata": {},
   "source": [
    "### Awesomesauce!"
   ]
  },
  {
   "cell_type": "markdown",
   "metadata": {},
   "source": [
    "## Let's make some instructions for the participant\n"
   ]
  },
  {
   "cell_type": "markdown",
   "metadata": {},
   "source": [
    "### Instructions are just another TextStim object. \n",
    "We'll put them in the win window that we created and make sure we use word-wrap in case the text is too long for a line."
   ]
  },
  {
   "cell_type": "code",
   "execution_count": null,
   "metadata": {},
   "outputs": [],
   "source": [
    "from psychopy import core, visual, event, gui\n",
    "win = visual.Window([800, 600])\n",
    "instructions = visual.TextStim(win=win, alignHoriz='left', pos=(-1,0)) \n",
    "# pos (-1,-1) puts the instructions on the left side of the screen\n",
    "# alignHoriz='left' Starts the letters in the TextStim at the left side of the position"
   ]
  },
  {
   "cell_type": "markdown",
   "metadata": {},
   "source": [
    "### Write out the instructions using `\\n` to designate new lines."
   ]
  },
  {
   "cell_type": "code",
   "execution_count": null,
   "metadata": {},
   "outputs": [],
   "source": [
    "instructions.text = \"In this task, you will see colour names \\n(red, green, blue) in different 'print' \\ncolor. For example, if you see the colour red printed \\nin a green font, press 'r'. \\nThe only buttons used in this study are 'g', 'b', \\nand 'r', for green, blue, and red. \\nPress any key to begin...\""
   ]
  },
  {
   "cell_type": "markdown",
   "metadata": {},
   "source": [
    "### Remember...\n",
    "\n",
    "- We'll have to change those response keys to \"r\", \"g\", and \"b\""
   ]
  },
  {
   "cell_type": "markdown",
   "metadata": {},
   "source": [
    "### Draw the instructions window behind the curtain"
   ]
  },
  {
   "cell_type": "code",
   "execution_count": null,
   "metadata": {},
   "outputs": [],
   "source": [
    "instructions.draw()"
   ]
  },
  {
   "cell_type": "markdown",
   "metadata": {},
   "source": [
    "### Flip the window to lift the curtain"
   ]
  },
  {
   "cell_type": "code",
   "execution_count": null,
   "metadata": {},
   "outputs": [],
   "source": [
    "win.flip()"
   ]
  },
  {
   "cell_type": "markdown",
   "metadata": {},
   "source": [
    "### Wait for the user to press a key before moving on...."
   ]
  },
  {
   "cell_type": "code",
   "execution_count": null,
   "metadata": {},
   "outputs": [],
   "source": [
    "event.waitKeys()\n",
    "win.close()"
   ]
  },
  {
   "cell_type": "markdown",
   "metadata": {},
   "source": [
    "References: \n",
    "http://www.djmannion.net/psych_programming/vision/responses/responses.html"
   ]
  },
  {
   "cell_type": "markdown",
   "metadata": {},
   "source": [
    "### Add that code to our program"
   ]
  },
  {
   "cell_type": "code",
   "execution_count": 31,
   "metadata": {},
   "outputs": [
    {
     "name": "stdout",
     "output_type": "stream",
     "text": [
      "1542.7848 \tWARNING \tMonitor specification not found. Creating a temporary one...\n",
      "1543.0633 \tWARNING \tThe size of the gamma ramp was reported as 0. This can mean that gamma settings have no effect. Proceeding with a default gamma ramp size.\n",
      "1543.0645 \tWARNING \tThe size of the gamma ramp was reported as 0. This can mean that gamma settings have no effect. Proceeding with a default gamma ramp size.\n"
     ]
    }
   ],
   "source": [
    "import random\n",
    "from psychopy import core, visual, event, gui # Add gui to the import list\n",
    "\n",
    "\n",
    "\n",
    "#################################################\n",
    "# Get Participant ID\n",
    "def get_id():  # GUI Dialogue Box\n",
    "    mygui = gui.Dlg()\n",
    "    mygui.addField(\"Subject ID:\")\n",
    "    mygui.addField(\"Condition Num:\")\n",
    "    mygui.show()\n",
    "    participant_ID = mygui.data[0]\n",
    "    condition_number = int(mygui.data[1])\n",
    "    return participant_ID, condition_number\n",
    "\n",
    "current_participant, condition_number = get_id()\n",
    "\n",
    "#################################################\n",
    "\n",
    "#################################################\n",
    "# Participant Instructions\n",
    "win = visual.Window([400, 400])  # moved this from the trials to here since we're only creating 1 window\n",
    "instructions = visual.TextStim(win=win, alignHoriz='left', pos=(-1,0)) \n",
    "instructions.text = \"In this task, you will see colour names \\n(red, green, blue) in different 'print' \\ncolor. For example, if you see the colour red printed \\nin a green font, press 'r'. \\nThe only buttons used in this study are 'g', 'b', \\nand 'r', for green, blue, and red. \\nPress any key to begin...\"\n",
    "instructions.draw()\n",
    "win.flip()\n",
    "event.waitKeys() # Here, we're not closing the window... we're just continuing on, pressing a key starts the trials\n",
    "#################################################\n",
    "\n",
    "#################################################\n",
    "# Define Trials\n",
    "\n",
    "trialList = [{'text': 'red', 'letterColour': 'red', 'correctResponse': 'r'},\n",
    "    {'text': 'red', 'letterColour': 'green', 'correctResponse': 'r'},\n",
    "    {'text': 'green', 'letterColour': 'green', 'correctResponse': 'g'},\n",
    "    {'text': 'green', 'letterColour': 'blue', 'correctResponse': 'g'},\n",
    "    {'text': 'blue', 'letterColour': 'blue', 'correctResponse': 'b'},\n",
    "    {'text': 'blue', 'letterColour': 'red', 'correctResponse': 'b'}]\n",
    "#################################################\n",
    "\n",
    "\n",
    "#################################################\n",
    "# Initialize trials\n",
    "random.shuffle(trialList)  # randomize the order of stimuli presentation\n",
    "data = [] # declare our list data\n",
    "message = visual.TextStim(win, text=\"Get ready, we're about to begin\")  # create a message that is a visual text stimulus\n",
    "message.autoDraw = True  # Automatically draw that message on the window\n",
    "trial_number = 0 # initialize trial tracker\n",
    "#################################################\n",
    "\n",
    "\n",
    "#################################################\n",
    "# Run trials\n",
    "for trial in trialList:\n",
    "    data_dictionary = {}\n",
    "    trial_number += 1\n",
    "    data_dictionary['Trial Number'] = trial_number\n",
    "    reaction_time_clock = core.Clock()  # create a reaction_time_clock object\n",
    "    message.text = trial['text']  # make a \n",
    "    message.color = trial['letterColour']\n",
    "    win.flip()  # Show the window\n",
    "    keys = event.waitKeys(keyList=[\"r\", \"g\", \"b\"], timeStamped=reaction_time_clock) # record the time from the creation of the clock until the button was pressed\n",
    "    if keys[0][0] == trial['correctResponse']: \n",
    "         data_dictionary['Response Correct'] = \"correct\"\n",
    "    elif keys[0][0] != trial['correctResponse']:\n",
    "         data_dictionary['Response Correct'] = \"incorrect\"\n",
    "    else:\n",
    "         data_dictionary['Response Correct'] = \"N/A\"\n",
    "    data_dictionary['Keys Pressed'] = keys[0][0]\n",
    "    data_dictionary['Reaction Time'] = keys[0][1]\n",
    "    data_dictionary['Participant'] = current_participant\n",
    "    data_dictionary['Condition'] = condition_number\n",
    "    data.append(data_dictionary)\n",
    "#################################################    \n",
    "\n",
    "win.close() # close the window called `win`"
   ]
  },
  {
   "cell_type": "code",
   "execution_count": 32,
   "metadata": {},
   "outputs": [
    {
     "data": {
      "text/plain": [
       "[{'Trial Number': 1,\n",
       "  'Response Correct': 'incorrect',\n",
       "  'Keys Pressed': 'b',\n",
       "  'Reaction Time': 0.15438912999888998,\n",
       "  'Participant': 'Feinberg',\n",
       "  'Condition': 1},\n",
       " {'Trial Number': 2,\n",
       "  'Response Correct': 'correct',\n",
       "  'Keys Pressed': 'b',\n",
       "  'Reaction Time': 0.324250192999898,\n",
       "  'Participant': 'Feinberg',\n",
       "  'Condition': 1},\n",
       " {'Trial Number': 3,\n",
       "  'Response Correct': 'correct',\n",
       "  'Keys Pressed': 'b',\n",
       "  'Reaction Time': 0.12393583000084618,\n",
       "  'Participant': 'Feinberg',\n",
       "  'Condition': 1},\n",
       " {'Trial Number': 4,\n",
       "  'Response Correct': 'incorrect',\n",
       "  'Keys Pressed': 'b',\n",
       "  'Reaction Time': 0.13924433699867222,\n",
       "  'Participant': 'Feinberg',\n",
       "  'Condition': 1},\n",
       " {'Trial Number': 5,\n",
       "  'Response Correct': 'incorrect',\n",
       "  'Keys Pressed': 'b',\n",
       "  'Reaction Time': 0.1299238610008615,\n",
       "  'Participant': 'Feinberg',\n",
       "  'Condition': 1},\n",
       " {'Trial Number': 6,\n",
       "  'Response Correct': 'incorrect',\n",
       "  'Keys Pressed': 'b',\n",
       "  'Reaction Time': 0.41352905000167084,\n",
       "  'Participant': 'Feinberg',\n",
       "  'Condition': 1}]"
      ]
     },
     "execution_count": 32,
     "metadata": {},
     "output_type": "execute_result"
    }
   ],
   "source": [
    "data"
   ]
  },
  {
   "cell_type": "markdown",
   "metadata": {},
   "source": [
    "## Saving the data\n",
    "There are many ways to save data.  Here we are saving our list of dictionaries to a `csv` file.  A `csv` file can be read by any statistics program.\n"
   ]
  },
  {
   "cell_type": "markdown",
   "metadata": {},
   "source": [
    "### Import the `csv` module"
   ]
  },
  {
   "cell_type": "code",
   "execution_count": 36,
   "metadata": {},
   "outputs": [],
   "source": [
    "import csv"
   ]
  },
  {
   "cell_type": "markdown",
   "metadata": {},
   "source": [
    "### Extract the keys from the first dictionary"
   ]
  },
  {
   "cell_type": "code",
   "execution_count": null,
   "metadata": {},
   "outputs": [],
   "source": [
    "keys = data[0].keys()"
   ]
  },
  {
   "cell_type": "markdown",
   "metadata": {},
   "source": [
    "### Open a file called `data.csv` in  `w` for write mode\n",
    "When it's open: \n",
    "    - create a `DictWriter` object using the `data.csv` file as the `output_file` and `keys` as the file header\n",
    "    - write the file header\n",
    "    - write the rows of the data"
   ]
  },
  {
   "cell_type": "code",
   "execution_count": 37,
   "metadata": {},
   "outputs": [],
   "source": [
    "with open('data.csv', 'w') as output_file:\n",
    "    dict_writer = csv.DictWriter(output_file, keys)\n",
    "    dict_writer.writeheader()\n",
    "    dict_writer.writerows(data)"
   ]
  },
  {
   "cell_type": "markdown",
   "metadata": {},
   "source": [
    "### Check that file out..."
   ]
  },
  {
   "cell_type": "code",
   "execution_count": 39,
   "metadata": {},
   "outputs": [
    {
     "name": "stdout",
     "output_type": "stream",
     "text": [
      "['Trial Number', 'Response Correct', 'Keys Pressed', 'Reaction Time', 'Participant', 'Condition']\n",
      "['1', 'incorrect', 'b', '0.15438912999888998', 'Feinberg', '1']\n",
      "['2', 'correct', 'b', '0.324250192999898', 'Feinberg', '1']\n",
      "['3', 'correct', 'b', '0.12393583000084618', 'Feinberg', '1']\n",
      "['4', 'incorrect', 'b', '0.13924433699867222', 'Feinberg', '1']\n",
      "['5', 'incorrect', 'b', '0.1299238610008615', 'Feinberg', '1']\n",
      "['6', 'incorrect', 'b', '0.41352905000167084', 'Feinberg', '1']\n"
     ]
    }
   ],
   "source": [
    "with open('data.csv', 'r') as csvFile:\n",
    "    reader = csv.reader(csvFile)\n",
    "    for row in reader:\n",
    "        print(row)\n",
    "csvFile.close()"
   ]
  },
  {
   "cell_type": "markdown",
   "metadata": {},
   "source": [
    "## Woah!  We just programmed the Stroop Task\n",
    "\n",
    "What's the stroop task?  Well... we just did it.  We show a set of words that are the names of colours.  The text they are printed in is either the same colour as the text, or a different colour.  When they are incongruent, it takes longer to read than when they are congruent.  \n",
    "\n",
    "Want to read the original paper?\n",
    "Stroop, J. R. (1935). Studies of interference in serial verbal reactions. Journal of experimental psychology, 18(6), 643."
   ]
  }
 ],
 "metadata": {
  "kernelspec": {
   "display_name": "Python 3",
   "language": "python",
   "name": "python3"
  },
  "language_info": {
   "codemirror_mode": {
    "name": "ipython",
    "version": 3
   },
   "file_extension": ".py",
   "mimetype": "text/x-python",
   "name": "python",
   "nbconvert_exporter": "python",
   "pygments_lexer": "ipython3",
   "version": "3.7.3"
  },
  "toc": {
   "base_numbering": 1,
   "nav_menu": {},
   "number_sections": false,
   "sideBar": false,
   "skip_h1_title": false,
   "title_cell": "Table of Contents",
   "title_sidebar": "Contents",
   "toc_cell": false,
   "toc_position": {},
   "toc_section_display": false,
   "toc_window_display": false
  }
 },
 "nbformat": 4,
 "nbformat_minor": 2
}
