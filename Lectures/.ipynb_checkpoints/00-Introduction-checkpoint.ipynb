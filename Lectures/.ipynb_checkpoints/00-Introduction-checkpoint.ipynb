{
 "cells": [
  {
   "cell_type": "markdown",
   "metadata": {
    "slideshow": {
     "slide_type": "slide"
    }
   },
   "source": [
    "# Introduction to Python\n",
    "\n",
    "David Feinberg"
   ]
  },
  {
   "cell_type": "markdown",
   "metadata": {
    "slideshow": {
     "slide_type": "slide"
    }
   },
   "source": [
    "# Logistics\n",
    "\n",
    "- Who:\n",
    "    - Instructor: David Feinberg\n",
    "    - TAs: TBD\n",
    "\n",
    "- Where:\n",
    "    - TBD\n",
    "    - Course Website: \n",
    "    - Avenue Page: "
   ]
  },
  {
   "cell_type": "markdown",
   "metadata": {
    "slideshow": {
     "slide_type": "slide"
    }
   },
   "source": [
    "# Expectations & Approach\n",
    "\n",
    "- Goal: to learn practical programming in Python\n",
    "- How: hands-on, community driven, skills based course, assignment & project driven\n",
    "- Lectures & Lab Sections will be used for interactive activities\n",
    "- Assignments, coding labs & a final project will be designed to get you coding"
   ]
  },
  {
   "cell_type": "markdown",
   "metadata": {
    "slideshow": {
     "slide_type": "slide"
    }
   },
   "source": [
    "# Course Requirements\n",
    "\n",
    "- Participation in peer instruction (clicker) questions, in lecture (10%) \n",
    "- Pass/Fail coding labs, in section (15%)\n",
    "- Assignments (50%) \n",
    "- Final project (25%)"
   ]
  },
  {
   "cell_type": "markdown",
   "metadata": {
    "slideshow": {
     "slide_type": "slide"
    }
   },
   "source": [
    "# Why is computer programing being taught in PNB?\n",
    "\n",
    "- Programing is an extremely important skill for all sciences.\n",
    "- Teaching transferable skills that can be used in and out of academia\n",
    "- Producing reproducable science"
   ]
  },
  {
   "cell_type": "markdown",
   "metadata": {
    "slideshow": {
     "slide_type": "slide"
    }
   },
   "source": [
    "# Programing uses in PNB\n",
    "## How it's used\n",
    "- Stimuli creation\n",
    "- Data collection\n",
    "- Data processing\n",
    "- Statistical analysis\n",
    "\n",
    "## Real Examples Actually Used In PNB\n",
    "- Driving simulator\n",
    "- Statistical analysis\n",
    "- Data visualization\n",
    "- Machine Learning\n",
    "- EEG Analysis\n",
    "- Acoustical Analysis\n",
    "- Voice manipulations\n",
    "- PsychoPy for data collection  "
   ]
  },
  {
   "cell_type": "markdown",
   "metadata": {
    "slideshow": {
     "slide_type": "slide"
    }
   },
   "source": [
    "# Why Python instead of another language?\n",
    "- Python is a high level scripting language\n",
    "    - You can start doing complex things quickly\n",
    "- Relatively easy to learn\n",
    "    - Programming skills can be transferred to any language\n",
    "- Many libraries available for science\n",
    "    - Don't reinvent the wheel\n",
    "- Python ecosystem\n",
    "    - A culture of sharing and helpfulness\n",
    "- Python is open-source and accessible\n",
    "    - Open-source means anyone can look under the hood, see how things are made, fix them, copy them, or even repackage and sell off the parts for profit."
   ]
  },
  {
   "cell_type": "markdown",
   "metadata": {
    "slideshow": {
     "slide_type": "slide"
    }
   },
   "source": [
    "# Why is it called Python?\n",
    "- It is named after British comedy group Monty Python"
   ]
  },
  {
   "cell_type": "markdown",
   "metadata": {
    "slideshow": {
     "slide_type": "slide"
    }
   },
   "source": [
    "## What does Python look like?"
   ]
  },
  {
   "cell_type": "code",
   "execution_count": null,
   "metadata": {
    "slideshow": {
     "slide_type": "fragment"
    }
   },
   "outputs": [],
   "source": [
    "print(\"Hello, world!\")"
   ]
  },
  {
   "cell_type": "code",
   "execution_count": null,
   "metadata": {
    "slideshow": {
     "slide_type": "fragment"
    }
   },
   "outputs": [],
   "source": [
    "a = 1\n",
    "b = 2\n",
    "\n",
    "c = a + b\n",
    "\n",
    "print(c)"
   ]
  },
  {
   "cell_type": "code",
   "execution_count": null,
   "metadata": {
    "slideshow": {
     "slide_type": "fragment"
    }
   },
   "outputs": [],
   "source": [
    "import math\n",
    "\n",
    "math.sqrt(81)"
   ]
  },
  {
   "cell_type": "markdown",
   "metadata": {
    "slideshow": {
     "slide_type": "fragment"
    }
   },
   "source": [
    "## That's great, we can do math... \n",
    "\n",
    "### I can do that on my phone, so how is this usefull for PNB again?"
   ]
  },
  {
   "cell_type": "code",
   "execution_count": null,
   "metadata": {
    "slideshow": {
     "slide_type": "slide"
    }
   },
   "outputs": [],
   "source": [
    "import statistics\n",
    "\n",
    "x = [0, 1, 2, 3, 4, 5, 6, 7, 8, 9, 10]\n",
    "print(\"Mean of x: \", statistics.mean(x))\n",
    "print(\"Standard deviation of x: \", statistics.stdev(x))\n",
    "print(\"Variance of x: \", statistics.variance(x))"
   ]
  },
  {
   "cell_type": "code",
   "execution_count": null,
   "metadata": {
    "slideshow": {
     "slide_type": "slide"
    }
   },
   "outputs": [],
   "source": [
    "from scipy.stats.stats import pearsonr\n",
    "\n",
    "a = [1, 4, 6, 8, 10, 12]\n",
    "b = [1, 2, 3, 4, 5, 2]   \n",
    "r, p = pearsonr(a,b)\n",
    "print(\"The correlation coefficient between a & b is r = {}\".format(r))\n",
    "print(\"The p-value of that correlation is p = {}\".format(p))\n",
    "if p < 0.05:\n",
    "    print(\"The correlation is significant at p < 0.5\")\n",
    "elif p > 0.05:\n",
    "    print(\"The correlation is not significant at p < 0.5\")"
   ]
  },
  {
   "cell_type": "code",
   "execution_count": null,
   "metadata": {
    "slideshow": {
     "slide_type": "slide"
    }
   },
   "outputs": [],
   "source": [
    "import matplotlib\n",
    "import matplotlib.pyplot as plt\n",
    "\n",
    "\n",
    "plt.scatter(a, b)\n",
    "plt.show()\n"
   ]
  },
  {
   "cell_type": "markdown",
   "metadata": {
    "slideshow": {
     "slide_type": "slide"
    }
   },
   "source": [
    "# YouTube_dl\n",
    "- A thesis student in my lab once analyzed the frequency components of different types of songs for her project  \n",
    "- Python allowed us to download and analyze all of the songs from YouTube automatically, and then analyze the acoustic properties of the songs\n",
    "- Here is the example code..."
   ]
  },
  {
   "cell_type": "markdown",
   "metadata": {},
   "source": [
    "### Download the song"
   ]
  },
  {
   "cell_type": "code",
   "execution_count": null,
   "metadata": {
    "slideshow": {
     "slide_type": "slide"
    }
   },
   "outputs": [],
   "source": [
    "import youtube_dl\n",
    "import pandas as pd\n",
    "\n",
    "song_list = [\n",
    "    'https://www.youtube.com/watch?v=dQw4w9WgXcQ'\n",
    "]\n",
    "\n",
    "ydl_opts = {\n",
    "    'format': 'best',\n",
    "    'outtmpl': 'my_favourite_song.webm'\n",
    "}\n",
    "\n",
    "for song in song_list:\n",
    "    with youtube_dl.YoutubeDL(ydl_opts) as ydl:\n",
    "        ydl.download([song])\n",
    "        "
   ]
  },
  {
   "cell_type": "markdown",
   "metadata": {},
   "source": [
    "### Play the song"
   ]
  },
  {
   "cell_type": "code",
   "execution_count": null,
   "metadata": {
    "slideshow": {
     "slide_type": "slide"
    }
   },
   "outputs": [],
   "source": [
    "import io\n",
    "import base64\n",
    "from IPython.display import HTML\n",
    "\n",
    "video = io.open('my_favourite_song.webm', 'r+b').read()\n",
    "encoded = base64.b64encode(video)\n",
    "HTML(data='''<video alt=\"test\" controls>\n",
    "                <source src=\"data:video/webm;base64,{0}\" type=\"video/webm\" />\n",
    "             </video>'''.format(encoded.decode('ascii')))"
   ]
  },
  {
   "cell_type": "code",
   "execution_count": null,
   "metadata": {},
   "outputs": [],
   "source": [
    " "
   ]
  }
 ],
 "metadata": {
  "kernelspec": {
   "display_name": "Python 3",
   "language": "python",
   "name": "python3"
  },
  "language_info": {
   "codemirror_mode": {
    "name": "ipython",
    "version": 3
   },
   "file_extension": ".py",
   "mimetype": "text/x-python",
   "name": "python",
   "nbconvert_exporter": "python",
   "pygments_lexer": "ipython3",
   "version": "3.7.3"
  },
  "toc": {
   "base_numbering": 1,
   "nav_menu": {},
   "number_sections": false,
   "sideBar": false,
   "skip_h1_title": false,
   "title_cell": "Table of Contents",
   "title_sidebar": "Contents",
   "toc_cell": false,
   "toc_position": {},
   "toc_section_display": false,
   "toc_window_display": false
  }
 },
 "nbformat": 4,
 "nbformat_minor": 2
}
