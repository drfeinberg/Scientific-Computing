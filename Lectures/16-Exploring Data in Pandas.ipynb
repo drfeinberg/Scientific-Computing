{
 "cells": [
  {
   "cell_type": "markdown",
   "metadata": {},
   "source": [
    "# Data Wrangling"
   ]
  },
  {
   "cell_type": "markdown",
   "metadata": {},
   "source": [
    "# Simulate data for stroop experiment"
   ]
  },
  {
   "cell_type": "markdown",
   "metadata": {},
   "source": [
    "## We need to simulate:\n",
    "- participant ID's\n",
    "- reaction times\n",
    "- responses\n",
    "    - calculate whether or not the responses are correct"
   ]
  },
  {
   "cell_type": "markdown",
   "metadata": {},
   "source": [
    "## Simulates binary responses.  \n",
    "- Numpy stands for \"number Python\" and deals well with the complex math we use in science\n",
    "- We are taking random choice from the list `[\"incorrect\", \"correct\"]`\n",
    "- There is a sample size of 50, meaning we take a random choice 50 times\n",
    "- We give it a probability `p` which is specified using Python's fraction notation.  Note that the correct and incorrect probabilities are out of 1, but could have been specified differently\n",
    "- We'll have more corrects than incorrects in the congruent condition, so we swap the fractions in congrent and incongruent in order to simulate that\n",
    "    - I'm just picking numbers here, there's nothing concrete about these fractions\n",
    "    - I picked 1/4 and 3/4 because they are easy"
   ]
  },
  {
   "cell_type": "code",
   "execution_count": 45,
   "metadata": {},
   "outputs": [],
   "source": [
    "import numpy as np\n",
    "congruent_responses = np.random.choice([\"incorrect\", \"correct\"], size=(50,), p=[1./4, 3./4])\n",
    "incongruent_responses = np.random.choice([\"incorrect\", \"correct\"], size=(50,), p=[3./4, 1./4])"
   ]
  },
  {
   "cell_type": "markdown",
   "metadata": {},
   "source": [
    "#### Check our data"
   ]
  },
  {
   "cell_type": "code",
   "execution_count": 49,
   "metadata": {},
   "outputs": [
    {
     "name": "stdout",
     "output_type": "stream",
     "text": [
      "congruent ['correct' 'correct' 'correct' 'correct' 'correct' 'correct' 'correct'\n",
      " 'correct' 'correct' 'incorrect' 'correct' 'correct' 'incorrect' 'correct'\n",
      " 'correct' 'correct' 'incorrect' 'correct' 'correct' 'incorrect'\n",
      " 'incorrect' 'correct' 'correct' 'correct' 'correct' 'correct' 'incorrect'\n",
      " 'correct' 'correct' 'correct' 'correct' 'correct' 'correct' 'correct'\n",
      " 'incorrect' 'correct' 'correct' 'incorrect' 'incorrect' 'incorrect'\n",
      " 'correct' 'incorrect' 'correct' 'correct' 'correct' 'correct' 'correct'\n",
      " 'correct' 'correct' 'incorrect']\n",
      "incongruent ['correct' 'incorrect' 'incorrect' 'correct' 'incorrect' 'incorrect'\n",
      " 'incorrect' 'incorrect' 'correct' 'incorrect' 'correct' 'incorrect'\n",
      " 'incorrect' 'incorrect' 'incorrect' 'incorrect' 'correct' 'incorrect'\n",
      " 'incorrect' 'incorrect' 'incorrect' 'correct' 'correct' 'incorrect'\n",
      " 'incorrect' 'incorrect' 'incorrect' 'incorrect' 'correct' 'incorrect'\n",
      " 'incorrect' 'incorrect' 'incorrect' 'incorrect' 'incorrect' 'incorrect'\n",
      " 'correct' 'incorrect' 'incorrect' 'incorrect' 'incorrect' 'incorrect'\n",
      " 'incorrect' 'incorrect' 'incorrect' 'incorrect' 'incorrect' 'correct'\n",
      " 'incorrect' 'correct']\n"
     ]
    }
   ],
   "source": [
    "print(\"congruent\", congruent_responses)\n",
    "print(\"incongruent\", incongruent_responses)"
   ]
  },
  {
   "cell_type": "markdown",
   "metadata": {},
   "source": [
    "## Simulate reaction time data\n",
    "\n",
    "The `random.triangular` function generates normally distributed random numbers in a range betwen `a` and `b` with a mode of `x`. "
   ]
  },
  {
   "cell_type": "code",
   "execution_count": 50,
   "metadata": {},
   "outputs": [],
   "source": [
    "import random\n",
    "\n",
    "a = 0.5 # lowest possible reaction time\n",
    "b = 6 # highest possible reaction time\n",
    "reaction_time_incongruent = []\n",
    "reaction_time_congruent = []\n",
    "for i in range(50):\n",
    "    x = 4 # mode of reaction time\n",
    "    reaction_time_incongruent.append(random.triangular(a, b, 3*x - a - b))\n",
    "    x = 3 # mode of reaction time\n",
    "    reaction_time_congruent.append(random.triangular(a, b, 3*x - a - b))"
   ]
  },
  {
   "cell_type": "markdown",
   "metadata": {},
   "source": [
    "## Put all the data together into a nice looking list\n",
    "We can make a list of tuples by using the `zip()` function, and feeding that output into a list.  The `zip()` function goes through the specified lists and makes tuples out of corresponding values for each item on the list"
   ]
  },
  {
   "cell_type": "code",
   "execution_count": 52,
   "metadata": {},
   "outputs": [
    {
     "data": {
      "text/plain": [
       "[('correct', 'correct', 4.09072585939493, 4.405264513726682),\n",
       " ('correct', 'incorrect', 3.566270977937171, 2.111441386352917),\n",
       " ('correct', 'incorrect', 2.195652534734611, 4.413130715860444),\n",
       " ('correct', 'correct', 5.531087679208128, 4.214852049162969),\n",
       " ('correct', 'incorrect', 4.201038966214415, 4.869287838700126),\n",
       " ('correct', 'incorrect', 4.09509079115789, 2.345215045806274),\n",
       " ('correct', 'incorrect', 4.919734740217468, 2.9895617116324895),\n",
       " ('correct', 'incorrect', 4.374863961277895, 3.6734601117909293),\n",
       " ('correct', 'correct', 2.6165394840214313, 2.2545717625342903),\n",
       " ('incorrect', 'incorrect', 3.647933200930576, 2.441245025479591),\n",
       " ('correct', 'correct', 5.59896607302377, 2.399374290314522),\n",
       " ('correct', 'incorrect', 5.38832822481784, 3.728126724775336),\n",
       " ('incorrect', 'incorrect', 5.142945466203201, 3.387481134798711),\n",
       " ('correct', 'incorrect', 1.9871010671790532, 2.2013150401444226),\n",
       " ('correct', 'incorrect', 2.5325964066910553, 4.174971467663486),\n",
       " ('correct', 'incorrect', 3.497809643586124, 2.462667214933198),\n",
       " ('incorrect', 'correct', 5.201146944706371, 1.4646005182091177),\n",
       " ('correct', 'incorrect', 3.565825584584851, 2.8055156019131124),\n",
       " ('correct', 'incorrect', 2.721452429339796, 4.884287825983365),\n",
       " ('incorrect', 'incorrect', 0.982040897262574, 3.6254744180724945),\n",
       " ('incorrect', 'incorrect', 2.5055258314364144, 2.4840395471323715),\n",
       " ('correct', 'correct', 4.95777281675664, 5.065671435201173),\n",
       " ('correct', 'correct', 1.3805536031650436, 2.857450663699959),\n",
       " ('correct', 'incorrect', 1.117135587341647, 0.8871681593658309),\n",
       " ('correct', 'incorrect', 2.0291923412667905, 3.8900715453419314),\n",
       " ('correct', 'incorrect', 5.111228585468506, 3.8778227649928243),\n",
       " ('incorrect', 'incorrect', 5.776316624405388, 2.361185996466827),\n",
       " ('correct', 'incorrect', 4.180982035394981, 2.130014952390819),\n",
       " ('correct', 'correct', 5.878404236200401, 2.45764809428499),\n",
       " ('correct', 'incorrect', 5.1060977752679335, 3.6230616588612246),\n",
       " ('correct', 'incorrect', 4.291843232808532, 1.6051831969929706),\n",
       " ('correct', 'incorrect', 3.339528331468564, 4.456834443686269),\n",
       " ('correct', 'incorrect', 5.749759102723128, 4.954420383595261),\n",
       " ('correct', 'incorrect', 4.588890376004199, 4.500117533904311),\n",
       " ('incorrect', 'incorrect', 4.786989517945478, 2.406757508982321),\n",
       " ('correct', 'incorrect', 2.404333543361469, 4.424789839492051),\n",
       " ('correct', 'correct', 1.535145509976772, 2.166786242430654),\n",
       " ('incorrect', 'incorrect', 4.872872240274422, 4.776818931906313),\n",
       " ('incorrect', 'incorrect', 1.9431700082787386, 3.135896506991295),\n",
       " ('incorrect', 'incorrect', 5.523499831796023, 3.2268716011462764),\n",
       " ('correct', 'incorrect', 3.9412530148054716, 2.7334573334764527),\n",
       " ('incorrect', 'incorrect', 3.658545983991182, 4.838794500839061),\n",
       " ('correct', 'incorrect', 3.3590905169454732, 3.7844190196960272),\n",
       " ('correct', 'incorrect', 3.8714246519154596, 3.9569068860883503),\n",
       " ('correct', 'incorrect', 5.182364772072679, 3.6204538358122957),\n",
       " ('correct', 'incorrect', 3.3380254229808513, 3.4018179787677405),\n",
       " ('correct', 'incorrect', 5.266072053663813, 2.9103217061079834),\n",
       " ('correct', 'correct', 2.9802715467339387, 2.492284498305536),\n",
       " ('correct', 'incorrect', 4.355588877031746, 2.922526524615642),\n",
       " ('incorrect', 'correct', 2.4506759170746064, 5.286902052252206)]"
      ]
     },
     "execution_count": 52,
     "metadata": {},
     "output_type": "execute_result"
    }
   ],
   "source": [
    "data_tuples = list(zip(congruent_responses, incongruent_responses, reaction_time_incongruent, reaction_time_congruent))\n",
    "data_tuples"
   ]
  },
  {
   "cell_type": "markdown",
   "metadata": {},
   "source": [
    "# Pandas DataFrame\n",
    "A Pandas DataFrame is a Python Object that holds a set of data like a spreadsheet."
   ]
  },
  {
   "cell_type": "code",
   "execution_count": null,
   "metadata": {},
   "outputs": [],
   "source": [
    "import pandas as pd  # it is custom to shorten pandas to pd because we'll be typing it a log\n",
    "df = pd.DataFrame(data_tuples)  # called the dataframe df, but you can use any name you want... it's a Python object."
   ]
  },
  {
   "cell_type": "markdown",
   "metadata": {},
   "source": [
    "## Viewing the data"
   ]
  },
  {
   "cell_type": "markdown",
   "metadata": {},
   "source": [
    "You can view the whole DataFrame by typing `df` as usual.  But, perhaps your dataset is large and you just want to get a sense of how it's looking.  For that we can use the `head()` method call on our dataframe.  By default it shows the first 5 rows, or you can specify the number of rows you want to see."
   ]
  },
  {
   "cell_type": "code",
   "execution_count": null,
   "metadata": {},
   "outputs": [],
   "source": [
    "df.head()"
   ]
  },
  {
   "cell_type": "markdown",
   "metadata": {},
   "source": [
    "## Column names"
   ]
  },
  {
   "cell_type": "code",
   "execution_count": 54,
   "metadata": {},
   "outputs": [],
   "source": [
    "df.columns = [\"Incongruent Response\", \"Congruent Response\", \"Incongruent RT\", \"Congruent RT\"]"
   ]
  },
  {
   "cell_type": "code",
   "execution_count": 55,
   "metadata": {},
   "outputs": [
    {
     "data": {
      "text/html": [
       "<div>\n",
       "<style scoped>\n",
       "    .dataframe tbody tr th:only-of-type {\n",
       "        vertical-align: middle;\n",
       "    }\n",
       "\n",
       "    .dataframe tbody tr th {\n",
       "        vertical-align: top;\n",
       "    }\n",
       "\n",
       "    .dataframe thead th {\n",
       "        text-align: right;\n",
       "    }\n",
       "</style>\n",
       "<table border=\"1\" class=\"dataframe\">\n",
       "  <thead>\n",
       "    <tr style=\"text-align: right;\">\n",
       "      <th></th>\n",
       "      <th>Incongruent Response</th>\n",
       "      <th>Congruent Response</th>\n",
       "      <th>Incongruent RT</th>\n",
       "      <th>Congruent RT</th>\n",
       "    </tr>\n",
       "  </thead>\n",
       "  <tbody>\n",
       "    <tr>\n",
       "      <th>0</th>\n",
       "      <td>correct</td>\n",
       "      <td>incorrect</td>\n",
       "      <td>5.316297</td>\n",
       "      <td>5.075958</td>\n",
       "    </tr>\n",
       "    <tr>\n",
       "      <th>1</th>\n",
       "      <td>incorrect</td>\n",
       "      <td>incorrect</td>\n",
       "      <td>4.693978</td>\n",
       "      <td>3.285078</td>\n",
       "    </tr>\n",
       "  </tbody>\n",
       "</table>\n",
       "</div>"
      ],
      "text/plain": [
       "  Incongruent Response Congruent Response  Incongruent RT  Congruent RT\n",
       "0              correct          incorrect        5.316297      5.075958\n",
       "1            incorrect          incorrect        4.693978      3.285078"
      ]
     },
     "execution_count": 55,
     "metadata": {},
     "output_type": "execute_result"
    }
   ],
   "source": [
    "df.head(2)"
   ]
  },
  {
   "cell_type": "markdown",
   "metadata": {},
   "source": [
    "df.columns holds the column names, so you can print them if you want to see them"
   ]
  },
  {
   "cell_type": "code",
   "execution_count": 56,
   "metadata": {},
   "outputs": [
    {
     "name": "stdout",
     "output_type": "stream",
     "text": [
      "Incongruent Response\n",
      "Congruent Response\n",
      "Incongruent RT\n",
      "Congruent RT\n"
     ]
    }
   ],
   "source": [
    "for col in df.columns: \n",
    "    print(col)"
   ]
  },
  {
   "cell_type": "markdown",
   "metadata": {},
   "source": [
    "## Indexing data"
   ]
  },
  {
   "cell_type": "markdown",
   "metadata": {},
   "source": [
    "### `iloc`"
   ]
  },
  {
   "cell_type": "markdown",
   "metadata": {},
   "source": [
    "Here we use `iloc` to index our data by it's location, just like you would do in excel... In excel, you would find, for example, cell `A5`.  In Pandas, we do `df.ix[4,0]`.  Don't forget we start counting from 0 in Python, so the 5th row is 4, and the 1st column is 0."
   ]
  },
  {
   "cell_type": "code",
   "execution_count": 67,
   "metadata": {},
   "outputs": [
    {
     "data": {
      "text/plain": [
       "'incorrect'"
      ]
     },
     "execution_count": 67,
     "metadata": {},
     "output_type": "execute_result"
    }
   ],
   "source": [
    "df.iloc[4,0]"
   ]
  },
  {
   "cell_type": "markdown",
   "metadata": {},
   "source": [
    "### `loc`"
   ]
  },
  {
   "cell_type": "markdown",
   "metadata": {},
   "source": [
    "Here we use `loc` to index our data by it's nameDon't forget we start counting from 0 in Python, so the 8th row is 7, and the 1st column is 'Incongruent Response."
   ]
  },
  {
   "cell_type": "code",
   "execution_count": 68,
   "metadata": {},
   "outputs": [
    {
     "data": {
      "text/plain": [
       "'correct'"
      ]
     },
     "execution_count": 68,
     "metadata": {},
     "output_type": "execute_result"
    }
   ],
   "source": [
    "df.loc[7,'Incongruent Response']"
   ]
  },
  {
   "cell_type": "markdown",
   "metadata": {},
   "source": [
    "## `index`\n",
    "\n",
    "In both cases above, we used the `index` or, what we thought was the row number to find our cells.  Pandas created our index for us, and we just pretended it was the row number.  We could have used another column.\n",
    "If you don't have an index but want one, or if you want to chage the index, you can use the method `.set_index()`"
   ]
  },
  {
   "cell_type": "markdown",
   "metadata": {},
   "source": [
    "## Selecting Data"
   ]
  },
  {
   "cell_type": "code",
   "execution_count": 104,
   "metadata": {},
   "outputs": [
    {
     "data": {
      "text/html": [
       "<div>\n",
       "<style scoped>\n",
       "    .dataframe tbody tr th:only-of-type {\n",
       "        vertical-align: middle;\n",
       "    }\n",
       "\n",
       "    .dataframe tbody tr th {\n",
       "        vertical-align: top;\n",
       "    }\n",
       "\n",
       "    .dataframe thead th {\n",
       "        text-align: right;\n",
       "    }\n",
       "</style>\n",
       "<table border=\"1\" class=\"dataframe\">\n",
       "  <thead>\n",
       "    <tr style=\"text-align: right;\">\n",
       "      <th></th>\n",
       "      <th>Incongruent RT</th>\n",
       "      <th>Congruent RT</th>\n",
       "    </tr>\n",
       "  </thead>\n",
       "  <tbody>\n",
       "    <tr>\n",
       "      <th>0</th>\n",
       "      <td>5.316297</td>\n",
       "      <td>5.075958</td>\n",
       "    </tr>\n",
       "    <tr>\n",
       "      <th>1</th>\n",
       "      <td>4.693978</td>\n",
       "      <td>3.285078</td>\n",
       "    </tr>\n",
       "    <tr>\n",
       "      <th>2</th>\n",
       "      <td>4.346245</td>\n",
       "      <td>1.668717</td>\n",
       "    </tr>\n",
       "    <tr>\n",
       "      <th>3</th>\n",
       "      <td>4.651065</td>\n",
       "      <td>2.799293</td>\n",
       "    </tr>\n",
       "    <tr>\n",
       "      <th>4</th>\n",
       "      <td>0.641427</td>\n",
       "      <td>3.231291</td>\n",
       "    </tr>\n",
       "    <tr>\n",
       "      <th>5</th>\n",
       "      <td>4.869973</td>\n",
       "      <td>2.069298</td>\n",
       "    </tr>\n",
       "    <tr>\n",
       "      <th>6</th>\n",
       "      <td>3.471674</td>\n",
       "      <td>1.233385</td>\n",
       "    </tr>\n",
       "    <tr>\n",
       "      <th>7</th>\n",
       "      <td>3.616590</td>\n",
       "      <td>1.727827</td>\n",
       "    </tr>\n",
       "    <tr>\n",
       "      <th>8</th>\n",
       "      <td>5.142538</td>\n",
       "      <td>1.652052</td>\n",
       "    </tr>\n",
       "    <tr>\n",
       "      <th>9</th>\n",
       "      <td>3.937170</td>\n",
       "      <td>3.143866</td>\n",
       "    </tr>\n",
       "    <tr>\n",
       "      <th>10</th>\n",
       "      <td>4.860401</td>\n",
       "      <td>5.080508</td>\n",
       "    </tr>\n",
       "    <tr>\n",
       "      <th>11</th>\n",
       "      <td>4.958814</td>\n",
       "      <td>2.776330</td>\n",
       "    </tr>\n",
       "    <tr>\n",
       "      <th>12</th>\n",
       "      <td>4.217956</td>\n",
       "      <td>3.467238</td>\n",
       "    </tr>\n",
       "    <tr>\n",
       "      <th>13</th>\n",
       "      <td>1.844038</td>\n",
       "      <td>3.990167</td>\n",
       "    </tr>\n",
       "    <tr>\n",
       "      <th>14</th>\n",
       "      <td>4.909558</td>\n",
       "      <td>2.169068</td>\n",
       "    </tr>\n",
       "    <tr>\n",
       "      <th>15</th>\n",
       "      <td>5.880729</td>\n",
       "      <td>3.566035</td>\n",
       "    </tr>\n",
       "    <tr>\n",
       "      <th>16</th>\n",
       "      <td>3.877831</td>\n",
       "      <td>3.582321</td>\n",
       "    </tr>\n",
       "    <tr>\n",
       "      <th>17</th>\n",
       "      <td>2.306024</td>\n",
       "      <td>4.104051</td>\n",
       "    </tr>\n",
       "    <tr>\n",
       "      <th>18</th>\n",
       "      <td>4.264550</td>\n",
       "      <td>2.368455</td>\n",
       "    </tr>\n",
       "    <tr>\n",
       "      <th>19</th>\n",
       "      <td>4.568907</td>\n",
       "      <td>2.163274</td>\n",
       "    </tr>\n",
       "    <tr>\n",
       "      <th>20</th>\n",
       "      <td>3.793730</td>\n",
       "      <td>2.286503</td>\n",
       "    </tr>\n",
       "    <tr>\n",
       "      <th>21</th>\n",
       "      <td>3.550194</td>\n",
       "      <td>0.913163</td>\n",
       "    </tr>\n",
       "    <tr>\n",
       "      <th>22</th>\n",
       "      <td>4.802824</td>\n",
       "      <td>2.421447</td>\n",
       "    </tr>\n",
       "    <tr>\n",
       "      <th>23</th>\n",
       "      <td>2.996877</td>\n",
       "      <td>4.381071</td>\n",
       "    </tr>\n",
       "    <tr>\n",
       "      <th>24</th>\n",
       "      <td>4.393438</td>\n",
       "      <td>2.079805</td>\n",
       "    </tr>\n",
       "    <tr>\n",
       "      <th>25</th>\n",
       "      <td>4.315548</td>\n",
       "      <td>2.586004</td>\n",
       "    </tr>\n",
       "    <tr>\n",
       "      <th>26</th>\n",
       "      <td>3.342359</td>\n",
       "      <td>3.556839</td>\n",
       "    </tr>\n",
       "    <tr>\n",
       "      <th>27</th>\n",
       "      <td>2.632202</td>\n",
       "      <td>1.919527</td>\n",
       "    </tr>\n",
       "    <tr>\n",
       "      <th>28</th>\n",
       "      <td>3.118664</td>\n",
       "      <td>2.869937</td>\n",
       "    </tr>\n",
       "    <tr>\n",
       "      <th>29</th>\n",
       "      <td>5.451893</td>\n",
       "      <td>2.167606</td>\n",
       "    </tr>\n",
       "    <tr>\n",
       "      <th>30</th>\n",
       "      <td>3.858826</td>\n",
       "      <td>3.200659</td>\n",
       "    </tr>\n",
       "    <tr>\n",
       "      <th>31</th>\n",
       "      <td>4.868101</td>\n",
       "      <td>2.095571</td>\n",
       "    </tr>\n",
       "    <tr>\n",
       "      <th>32</th>\n",
       "      <td>3.618910</td>\n",
       "      <td>2.053913</td>\n",
       "    </tr>\n",
       "    <tr>\n",
       "      <th>33</th>\n",
       "      <td>3.393765</td>\n",
       "      <td>4.588189</td>\n",
       "    </tr>\n",
       "    <tr>\n",
       "      <th>34</th>\n",
       "      <td>2.053027</td>\n",
       "      <td>1.687948</td>\n",
       "    </tr>\n",
       "    <tr>\n",
       "      <th>35</th>\n",
       "      <td>2.048233</td>\n",
       "      <td>1.585177</td>\n",
       "    </tr>\n",
       "    <tr>\n",
       "      <th>36</th>\n",
       "      <td>4.358993</td>\n",
       "      <td>2.815294</td>\n",
       "    </tr>\n",
       "    <tr>\n",
       "      <th>37</th>\n",
       "      <td>4.345384</td>\n",
       "      <td>5.081871</td>\n",
       "    </tr>\n",
       "    <tr>\n",
       "      <th>38</th>\n",
       "      <td>4.017286</td>\n",
       "      <td>4.222199</td>\n",
       "    </tr>\n",
       "    <tr>\n",
       "      <th>39</th>\n",
       "      <td>5.567804</td>\n",
       "      <td>2.179662</td>\n",
       "    </tr>\n",
       "    <tr>\n",
       "      <th>40</th>\n",
       "      <td>4.827675</td>\n",
       "      <td>2.449467</td>\n",
       "    </tr>\n",
       "    <tr>\n",
       "      <th>41</th>\n",
       "      <td>4.669369</td>\n",
       "      <td>5.101001</td>\n",
       "    </tr>\n",
       "    <tr>\n",
       "      <th>42</th>\n",
       "      <td>5.403390</td>\n",
       "      <td>5.428637</td>\n",
       "    </tr>\n",
       "    <tr>\n",
       "      <th>43</th>\n",
       "      <td>5.431006</td>\n",
       "      <td>2.930862</td>\n",
       "    </tr>\n",
       "    <tr>\n",
       "      <th>44</th>\n",
       "      <td>1.487560</td>\n",
       "      <td>3.844959</td>\n",
       "    </tr>\n",
       "    <tr>\n",
       "      <th>45</th>\n",
       "      <td>4.965738</td>\n",
       "      <td>4.753511</td>\n",
       "    </tr>\n",
       "    <tr>\n",
       "      <th>46</th>\n",
       "      <td>4.094638</td>\n",
       "      <td>2.355004</td>\n",
       "    </tr>\n",
       "    <tr>\n",
       "      <th>47</th>\n",
       "      <td>5.187880</td>\n",
       "      <td>2.746691</td>\n",
       "    </tr>\n",
       "    <tr>\n",
       "      <th>48</th>\n",
       "      <td>5.562436</td>\n",
       "      <td>2.525844</td>\n",
       "    </tr>\n",
       "    <tr>\n",
       "      <th>49</th>\n",
       "      <td>4.468902</td>\n",
       "      <td>0.928985</td>\n",
       "    </tr>\n",
       "  </tbody>\n",
       "</table>\n",
       "</div>"
      ],
      "text/plain": [
       "    Incongruent RT  Congruent RT\n",
       "0         5.316297      5.075958\n",
       "1         4.693978      3.285078\n",
       "2         4.346245      1.668717\n",
       "3         4.651065      2.799293\n",
       "4         0.641427      3.231291\n",
       "5         4.869973      2.069298\n",
       "6         3.471674      1.233385\n",
       "7         3.616590      1.727827\n",
       "8         5.142538      1.652052\n",
       "9         3.937170      3.143866\n",
       "10        4.860401      5.080508\n",
       "11        4.958814      2.776330\n",
       "12        4.217956      3.467238\n",
       "13        1.844038      3.990167\n",
       "14        4.909558      2.169068\n",
       "15        5.880729      3.566035\n",
       "16        3.877831      3.582321\n",
       "17        2.306024      4.104051\n",
       "18        4.264550      2.368455\n",
       "19        4.568907      2.163274\n",
       "20        3.793730      2.286503\n",
       "21        3.550194      0.913163\n",
       "22        4.802824      2.421447\n",
       "23        2.996877      4.381071\n",
       "24        4.393438      2.079805\n",
       "25        4.315548      2.586004\n",
       "26        3.342359      3.556839\n",
       "27        2.632202      1.919527\n",
       "28        3.118664      2.869937\n",
       "29        5.451893      2.167606\n",
       "30        3.858826      3.200659\n",
       "31        4.868101      2.095571\n",
       "32        3.618910      2.053913\n",
       "33        3.393765      4.588189\n",
       "34        2.053027      1.687948\n",
       "35        2.048233      1.585177\n",
       "36        4.358993      2.815294\n",
       "37        4.345384      5.081871\n",
       "38        4.017286      4.222199\n",
       "39        5.567804      2.179662\n",
       "40        4.827675      2.449467\n",
       "41        4.669369      5.101001\n",
       "42        5.403390      5.428637\n",
       "43        5.431006      2.930862\n",
       "44        1.487560      3.844959\n",
       "45        4.965738      4.753511\n",
       "46        4.094638      2.355004\n",
       "47        5.187880      2.746691\n",
       "48        5.562436      2.525844\n",
       "49        4.468902      0.928985"
      ]
     },
     "execution_count": 104,
     "metadata": {},
     "output_type": "execute_result"
    }
   ],
   "source": [
    "df[['Incongruent RT', 'Congruent RT']]"
   ]
  },
  {
   "cell_type": "markdown",
   "metadata": {},
   "source": [
    "## Subsetting data"
   ]
  },
  {
   "cell_type": "markdown",
   "metadata": {},
   "source": [
    "### Subsetting by row"
   ]
  },
  {
   "cell_type": "code",
   "execution_count": 106,
   "metadata": {},
   "outputs": [
    {
     "data": {
      "text/html": [
       "<div>\n",
       "<style scoped>\n",
       "    .dataframe tbody tr th:only-of-type {\n",
       "        vertical-align: middle;\n",
       "    }\n",
       "\n",
       "    .dataframe tbody tr th {\n",
       "        vertical-align: top;\n",
       "    }\n",
       "\n",
       "    .dataframe thead th {\n",
       "        text-align: right;\n",
       "    }\n",
       "</style>\n",
       "<table border=\"1\" class=\"dataframe\">\n",
       "  <thead>\n",
       "    <tr style=\"text-align: right;\">\n",
       "      <th></th>\n",
       "      <th>Incongruent Response</th>\n",
       "      <th>Congruent Response</th>\n",
       "      <th>Incongruent RT</th>\n",
       "      <th>Congruent RT</th>\n",
       "      <th>Log of Incongruent RT</th>\n",
       "      <th>Log of congruent RT</th>\n",
       "    </tr>\n",
       "  </thead>\n",
       "  <tbody>\n",
       "    <tr>\n",
       "      <th>0</th>\n",
       "      <td>correct</td>\n",
       "      <td>incorrect</td>\n",
       "      <td>5.316297</td>\n",
       "      <td>5.075958</td>\n",
       "      <td>1.670777</td>\n",
       "      <td>1.624515</td>\n",
       "    </tr>\n",
       "    <tr>\n",
       "      <th>1</th>\n",
       "      <td>incorrect</td>\n",
       "      <td>incorrect</td>\n",
       "      <td>4.693978</td>\n",
       "      <td>3.285078</td>\n",
       "      <td>1.546280</td>\n",
       "      <td>1.189390</td>\n",
       "    </tr>\n",
       "    <tr>\n",
       "      <th>2</th>\n",
       "      <td>correct</td>\n",
       "      <td>incorrect</td>\n",
       "      <td>4.346245</td>\n",
       "      <td>1.668717</td>\n",
       "      <td>1.469312</td>\n",
       "      <td>0.512055</td>\n",
       "    </tr>\n",
       "  </tbody>\n",
       "</table>\n",
       "</div>"
      ],
      "text/plain": [
       "  Incongruent Response Congruent Response  Incongruent RT  Congruent RT  \\\n",
       "0              correct          incorrect        5.316297      5.075958   \n",
       "1            incorrect          incorrect        4.693978      3.285078   \n",
       "2              correct          incorrect        4.346245      1.668717   \n",
       "\n",
       "   Log of Incongruent RT  Log of congruent RT  \n",
       "0               1.670777             1.624515  \n",
       "1               1.546280             1.189390  \n",
       "2               1.469312             0.512055  "
      ]
     },
     "execution_count": 106,
     "metadata": {},
     "output_type": "execute_result"
    }
   ],
   "source": [
    "df2 = df[0:3]\n",
    "df2"
   ]
  },
  {
   "cell_type": "markdown",
   "metadata": {},
   "source": [
    "### Subsetting by index location"
   ]
  },
  {
   "cell_type": "code",
   "execution_count": 113,
   "metadata": {},
   "outputs": [
    {
     "data": {
      "text/html": [
       "<div>\n",
       "<style scoped>\n",
       "    .dataframe tbody tr th:only-of-type {\n",
       "        vertical-align: middle;\n",
       "    }\n",
       "\n",
       "    .dataframe tbody tr th {\n",
       "        vertical-align: top;\n",
       "    }\n",
       "\n",
       "    .dataframe thead th {\n",
       "        text-align: right;\n",
       "    }\n",
       "</style>\n",
       "<table border=\"1\" class=\"dataframe\">\n",
       "  <thead>\n",
       "    <tr style=\"text-align: right;\">\n",
       "      <th></th>\n",
       "      <th>Congruent Response</th>\n",
       "      <th>Incongruent RT</th>\n",
       "      <th>Congruent RT</th>\n",
       "    </tr>\n",
       "  </thead>\n",
       "  <tbody>\n",
       "    <tr>\n",
       "      <th>2</th>\n",
       "      <td>incorrect</td>\n",
       "      <td>4.346245</td>\n",
       "      <td>1.668717</td>\n",
       "    </tr>\n",
       "    <tr>\n",
       "      <th>3</th>\n",
       "      <td>incorrect</td>\n",
       "      <td>4.651065</td>\n",
       "      <td>2.799293</td>\n",
       "    </tr>\n",
       "  </tbody>\n",
       "</table>\n",
       "</div>"
      ],
      "text/plain": [
       "  Congruent Response  Incongruent RT  Congruent RT\n",
       "2          incorrect        4.346245      1.668717\n",
       "3          incorrect        4.651065      2.799293"
      ]
     },
     "execution_count": 113,
     "metadata": {},
     "output_type": "execute_result"
    }
   ],
   "source": [
    "df4 = df.iloc[2:4, 1:4]\n",
    "df4"
   ]
  },
  {
   "cell_type": "markdown",
   "metadata": {},
   "source": [
    "## Calculate the mean reaction times using the `mean()` method."
   ]
  },
  {
   "cell_type": "code",
   "execution_count": 71,
   "metadata": {},
   "outputs": [
    {
     "name": "stdout",
     "output_type": "stream",
     "text": [
      "4.100048375606001\n",
      "2.938231142082509\n"
     ]
    }
   ],
   "source": [
    "print(df['Incongruent RT'].mean())\n",
    "print(df['Congruent RT'].mean())"
   ]
  },
  {
   "cell_type": "markdown",
   "metadata": {},
   "source": [
    "## Calculate the median reaction times using the `median()` method."
   ]
  },
  {
   "cell_type": "code",
   "execution_count": 75,
   "metadata": {},
   "outputs": [
    {
     "name": "stdout",
     "output_type": "stream",
     "text": [
      "4.345814621574393\n",
      "2.7615103570782686\n"
     ]
    }
   ],
   "source": [
    "print(df['Incongruent RT'].median())\n",
    "print(df['Congruent RT'].median())"
   ]
  },
  {
   "cell_type": "markdown",
   "metadata": {},
   "source": [
    "## Calculate the mode of responses times using the `mode()` method.\n",
    "Here we're calculating the mode of responses instead of reaction times because `mode()` calculates the most often occuring value.  Our reaction times are all unique values, so the mode function just returns the original data.  If we want to see the mode method in action, we can use it on the responses, and see what the most often occuring responses are in each category."
   ]
  },
  {
   "cell_type": "code",
   "execution_count": 82,
   "metadata": {},
   "outputs": [
    {
     "name": "stdout",
     "output_type": "stream",
     "text": [
      "0    correct\n",
      "dtype: object\n",
      "0    incorrect\n",
      "dtype: object\n"
     ]
    }
   ],
   "source": [
    "print(df['Incongruent Response'].mode())\n",
    "print(df['Congruent Response'].mode())"
   ]
  },
  {
   "cell_type": "markdown",
   "metadata": {},
   "source": [
    "## Calculate the standard deviation of the reaction times using the `stdev()` method."
   ]
  },
  {
   "cell_type": "code",
   "execution_count": 83,
   "metadata": {},
   "outputs": [
    {
     "name": "stdout",
     "output_type": "stream",
     "text": [
      "1.1556001832350131\n",
      "1.1693635050024664\n"
     ]
    }
   ],
   "source": [
    "print(df['Incongruent RT'].std())\n",
    "print(df['Congruent RT'].std())"
   ]
  },
  {
   "cell_type": "markdown",
   "metadata": {},
   "source": [
    "<h2>Functions &amp; Description</h2>\n",
    "<p>Let us now understand the functions under Descriptive Statistics in Python Pandas. The following table list down the important functions &minus;</p>\n",
    "<table class=\"table table-bordered\">\n",
    "<tr>\n",
    "<th style=\"text-align:center;\">Sr.No.</th>\n",
    "<th style=\"text-align:center;\">Function</th>\n",
    "<th style=\"text-align:center;\">Description</th>\n",
    "</tr>\n",
    "<tr>\n",
    "<td style=\"text-align:center;\">1</td>\n",
    "<td style=\"text-align:center;\">count()</td>\n",
    "<td>Number of non-null observations</td>\n",
    "</tr>\n",
    "<tr>\n",
    "<td style=\"text-align:center;\">2</td>\n",
    "<td style=\"text-align:center;\">sum()</td>\n",
    "<td>Sum of values</td>\n",
    "</tr>\n",
    "<tr>\n",
    "<td style=\"text-align:center;\">3</td>\n",
    "<td style=\"text-align:center;\">mean()</td>\n",
    "<td>Mean of Values</td>\n",
    "</tr>\n",
    "<tr>\n",
    "<td style=\"text-align:center;\">4</td>\n",
    "<td style=\"text-align:center;\">median()</td>\n",
    "<td>Median of Values</td>\n",
    "</tr>\n",
    "<tr>\n",
    "<td style=\"text-align:center;\">5</td>\n",
    "<td style=\"text-align:center;\">mode()</td>\n",
    "<td>Mode of values</td>\n",
    "</tr>\n",
    "<tr>\n",
    "<td style=\"text-align:center;\">6</td>\n",
    "<td style=\"text-align:center;\">std()</td>\n",
    "<td>Standard Deviation of the Values</td>\n",
    "</tr>\n",
    "<tr>\n",
    "<td style=\"text-align:center;\">7</td>\n",
    "<td style=\"text-align:center;\">min()</td>\n",
    "<td>Minimum Value</td>\n",
    "</tr>\n",
    "<tr>\n",
    "<td style=\"text-align:center;\">8</td>\n",
    "<td style=\"text-align:center;\">max()</td>\n",
    "<td>Maximum Value</td>\n",
    "</tr>\n",
    "<tr>\n",
    "<td style=\"text-align:center;\">9</td>\n",
    "<td style=\"text-align:center;\">abs()</td>\n",
    "<td>Absolute Value</td>\n",
    "</tr>\n",
    "<tr>\n",
    "<td style=\"text-align:center;\">10</td>\n",
    "<td style=\"text-align:center;\">prod()</td>\n",
    "<td>Product of Values</td>\n",
    "</tr>\n",
    "<tr>\n",
    "<td style=\"text-align:center;\">11</td>\n",
    "<td style=\"text-align:center;\">cumsum()</td>\n",
    "<td>Cumulative Sum</td>\n",
    "</tr>\n",
    "<tr>\n",
    "<td style=\"text-align:center;\">12</td>\n",
    "<td style=\"text-align:center;\">cumprod()</td>\n",
    "<td>Cumulative Product</td>\n",
    "</tr>\n",
    "</table>\n",
    "\n",
    "https://www.tutorialspoint.com/python_pandas/python_pandas_descriptive_statistics.htm"
   ]
  },
  {
   "cell_type": "markdown",
   "metadata": {},
   "source": [
    "## Describe the data gives a summary of the numerical data in a given dataset"
   ]
  },
  {
   "cell_type": "code",
   "execution_count": 85,
   "metadata": {},
   "outputs": [
    {
     "data": {
      "text/html": [
       "<div>\n",
       "<style scoped>\n",
       "    .dataframe tbody tr th:only-of-type {\n",
       "        vertical-align: middle;\n",
       "    }\n",
       "\n",
       "    .dataframe tbody tr th {\n",
       "        vertical-align: top;\n",
       "    }\n",
       "\n",
       "    .dataframe thead th {\n",
       "        text-align: right;\n",
       "    }\n",
       "</style>\n",
       "<table border=\"1\" class=\"dataframe\">\n",
       "  <thead>\n",
       "    <tr style=\"text-align: right;\">\n",
       "      <th></th>\n",
       "      <th>Incongruent RT</th>\n",
       "      <th>Congruent RT</th>\n",
       "    </tr>\n",
       "  </thead>\n",
       "  <tbody>\n",
       "    <tr>\n",
       "      <th>count</th>\n",
       "      <td>50.000000</td>\n",
       "      <td>50.000000</td>\n",
       "    </tr>\n",
       "    <tr>\n",
       "      <th>mean</th>\n",
       "      <td>4.100048</td>\n",
       "      <td>2.938231</td>\n",
       "    </tr>\n",
       "    <tr>\n",
       "      <th>std</th>\n",
       "      <td>1.155600</td>\n",
       "      <td>1.169364</td>\n",
       "    </tr>\n",
       "    <tr>\n",
       "      <th>min</th>\n",
       "      <td>0.641427</td>\n",
       "      <td>0.913163</td>\n",
       "    </tr>\n",
       "    <tr>\n",
       "      <th>25%</th>\n",
       "      <td>3.566793</td>\n",
       "      <td>2.112497</td>\n",
       "    </tr>\n",
       "    <tr>\n",
       "      <th>50%</th>\n",
       "      <td>4.345815</td>\n",
       "      <td>2.761510</td>\n",
       "    </tr>\n",
       "    <tr>\n",
       "      <th>75%</th>\n",
       "      <td>4.869505</td>\n",
       "      <td>3.578249</td>\n",
       "    </tr>\n",
       "    <tr>\n",
       "      <th>max</th>\n",
       "      <td>5.880729</td>\n",
       "      <td>5.428637</td>\n",
       "    </tr>\n",
       "  </tbody>\n",
       "</table>\n",
       "</div>"
      ],
      "text/plain": [
       "       Incongruent RT  Congruent RT\n",
       "count       50.000000     50.000000\n",
       "mean         4.100048      2.938231\n",
       "std          1.155600      1.169364\n",
       "min          0.641427      0.913163\n",
       "25%          3.566793      2.112497\n",
       "50%          4.345815      2.761510\n",
       "75%          4.869505      3.578249\n",
       "max          5.880729      5.428637"
      ]
     },
     "execution_count": 85,
     "metadata": {},
     "output_type": "execute_result"
    }
   ],
   "source": [
    "df.describe()"
   ]
  },
  {
   "cell_type": "markdown",
   "metadata": {},
   "source": [
    "### We can use `=object` to see info about cells that contain objects, not numbers.  This includes text, like our response variables"
   ]
  },
  {
   "cell_type": "code",
   "execution_count": 89,
   "metadata": {},
   "outputs": [
    {
     "data": {
      "text/html": [
       "<div>\n",
       "<style scoped>\n",
       "    .dataframe tbody tr th:only-of-type {\n",
       "        vertical-align: middle;\n",
       "    }\n",
       "\n",
       "    .dataframe tbody tr th {\n",
       "        vertical-align: top;\n",
       "    }\n",
       "\n",
       "    .dataframe thead th {\n",
       "        text-align: right;\n",
       "    }\n",
       "</style>\n",
       "<table border=\"1\" class=\"dataframe\">\n",
       "  <thead>\n",
       "    <tr style=\"text-align: right;\">\n",
       "      <th></th>\n",
       "      <th>Incongruent Response</th>\n",
       "      <th>Congruent Response</th>\n",
       "    </tr>\n",
       "  </thead>\n",
       "  <tbody>\n",
       "    <tr>\n",
       "      <th>count</th>\n",
       "      <td>50</td>\n",
       "      <td>50</td>\n",
       "    </tr>\n",
       "    <tr>\n",
       "      <th>unique</th>\n",
       "      <td>2</td>\n",
       "      <td>2</td>\n",
       "    </tr>\n",
       "    <tr>\n",
       "      <th>top</th>\n",
       "      <td>correct</td>\n",
       "      <td>incorrect</td>\n",
       "    </tr>\n",
       "    <tr>\n",
       "      <th>freq</th>\n",
       "      <td>38</td>\n",
       "      <td>37</td>\n",
       "    </tr>\n",
       "  </tbody>\n",
       "</table>\n",
       "</div>"
      ],
      "text/plain": [
       "       Incongruent Response Congruent Response\n",
       "count                    50                 50\n",
       "unique                    2                  2\n",
       "top                 correct          incorrect\n",
       "freq                     38                 37"
      ]
     },
     "execution_count": 89,
     "metadata": {},
     "output_type": "execute_result"
    }
   ],
   "source": [
    "df.describe(include=['object'])"
   ]
  },
  {
   "cell_type": "markdown",
   "metadata": {},
   "source": [
    "### We can use `=all` to see all of that info at once.  `NaN` stands for  `not a number`, which is Pandas' N/A value"
   ]
  },
  {
   "cell_type": "code",
   "execution_count": 90,
   "metadata": {},
   "outputs": [
    {
     "data": {
      "text/html": [
       "<div>\n",
       "<style scoped>\n",
       "    .dataframe tbody tr th:only-of-type {\n",
       "        vertical-align: middle;\n",
       "    }\n",
       "\n",
       "    .dataframe tbody tr th {\n",
       "        vertical-align: top;\n",
       "    }\n",
       "\n",
       "    .dataframe thead th {\n",
       "        text-align: right;\n",
       "    }\n",
       "</style>\n",
       "<table border=\"1\" class=\"dataframe\">\n",
       "  <thead>\n",
       "    <tr style=\"text-align: right;\">\n",
       "      <th></th>\n",
       "      <th>Incongruent Response</th>\n",
       "      <th>Congruent Response</th>\n",
       "      <th>Incongruent RT</th>\n",
       "      <th>Congruent RT</th>\n",
       "    </tr>\n",
       "  </thead>\n",
       "  <tbody>\n",
       "    <tr>\n",
       "      <th>count</th>\n",
       "      <td>50</td>\n",
       "      <td>50</td>\n",
       "      <td>50.000000</td>\n",
       "      <td>50.000000</td>\n",
       "    </tr>\n",
       "    <tr>\n",
       "      <th>unique</th>\n",
       "      <td>2</td>\n",
       "      <td>2</td>\n",
       "      <td>NaN</td>\n",
       "      <td>NaN</td>\n",
       "    </tr>\n",
       "    <tr>\n",
       "      <th>top</th>\n",
       "      <td>correct</td>\n",
       "      <td>incorrect</td>\n",
       "      <td>NaN</td>\n",
       "      <td>NaN</td>\n",
       "    </tr>\n",
       "    <tr>\n",
       "      <th>freq</th>\n",
       "      <td>38</td>\n",
       "      <td>37</td>\n",
       "      <td>NaN</td>\n",
       "      <td>NaN</td>\n",
       "    </tr>\n",
       "    <tr>\n",
       "      <th>mean</th>\n",
       "      <td>NaN</td>\n",
       "      <td>NaN</td>\n",
       "      <td>4.100048</td>\n",
       "      <td>2.938231</td>\n",
       "    </tr>\n",
       "    <tr>\n",
       "      <th>std</th>\n",
       "      <td>NaN</td>\n",
       "      <td>NaN</td>\n",
       "      <td>1.155600</td>\n",
       "      <td>1.169364</td>\n",
       "    </tr>\n",
       "    <tr>\n",
       "      <th>min</th>\n",
       "      <td>NaN</td>\n",
       "      <td>NaN</td>\n",
       "      <td>0.641427</td>\n",
       "      <td>0.913163</td>\n",
       "    </tr>\n",
       "    <tr>\n",
       "      <th>25%</th>\n",
       "      <td>NaN</td>\n",
       "      <td>NaN</td>\n",
       "      <td>3.566793</td>\n",
       "      <td>2.112497</td>\n",
       "    </tr>\n",
       "    <tr>\n",
       "      <th>50%</th>\n",
       "      <td>NaN</td>\n",
       "      <td>NaN</td>\n",
       "      <td>4.345815</td>\n",
       "      <td>2.761510</td>\n",
       "    </tr>\n",
       "    <tr>\n",
       "      <th>75%</th>\n",
       "      <td>NaN</td>\n",
       "      <td>NaN</td>\n",
       "      <td>4.869505</td>\n",
       "      <td>3.578249</td>\n",
       "    </tr>\n",
       "    <tr>\n",
       "      <th>max</th>\n",
       "      <td>NaN</td>\n",
       "      <td>NaN</td>\n",
       "      <td>5.880729</td>\n",
       "      <td>5.428637</td>\n",
       "    </tr>\n",
       "  </tbody>\n",
       "</table>\n",
       "</div>"
      ],
      "text/plain": [
       "       Incongruent Response Congruent Response  Incongruent RT  Congruent RT\n",
       "count                    50                 50       50.000000     50.000000\n",
       "unique                    2                  2             NaN           NaN\n",
       "top                 correct          incorrect             NaN           NaN\n",
       "freq                     38                 37             NaN           NaN\n",
       "mean                    NaN                NaN        4.100048      2.938231\n",
       "std                     NaN                NaN        1.155600      1.169364\n",
       "min                     NaN                NaN        0.641427      0.913163\n",
       "25%                     NaN                NaN        3.566793      2.112497\n",
       "50%                     NaN                NaN        4.345815      2.761510\n",
       "75%                     NaN                NaN        4.869505      3.578249\n",
       "max                     NaN                NaN        5.880729      5.428637"
      ]
     },
     "execution_count": 90,
     "metadata": {},
     "output_type": "execute_result"
    }
   ],
   "source": [
    "df. describe(include='all')"
   ]
  },
  {
   "cell_type": "markdown",
   "metadata": {},
   "source": [
    "### Transforming data\n",
    "\n",
    "Let's say we need to apply a function to our data.  Lots of times this is important to understand things on different scales.  Let's explore a natural log scale."
   ]
  },
  {
   "cell_type": "code",
   "execution_count": 99,
   "metadata": {},
   "outputs": [
    {
     "data": {
      "text/html": [
       "<div>\n",
       "<style scoped>\n",
       "    .dataframe tbody tr th:only-of-type {\n",
       "        vertical-align: middle;\n",
       "    }\n",
       "\n",
       "    .dataframe tbody tr th {\n",
       "        vertical-align: top;\n",
       "    }\n",
       "\n",
       "    .dataframe thead th {\n",
       "        text-align: right;\n",
       "    }\n",
       "</style>\n",
       "<table border=\"1\" class=\"dataframe\">\n",
       "  <thead>\n",
       "    <tr style=\"text-align: right;\">\n",
       "      <th></th>\n",
       "      <th>Incongruent Response</th>\n",
       "      <th>Congruent Response</th>\n",
       "      <th>Incongruent RT</th>\n",
       "      <th>Congruent RT</th>\n",
       "      <th>Log of Incongruent RT</th>\n",
       "      <th>Log of congruent RT</th>\n",
       "    </tr>\n",
       "  </thead>\n",
       "  <tbody>\n",
       "    <tr>\n",
       "      <th>0</th>\n",
       "      <td>correct</td>\n",
       "      <td>incorrect</td>\n",
       "      <td>5.316297</td>\n",
       "      <td>5.075958</td>\n",
       "      <td>1.670777</td>\n",
       "      <td>1.624515</td>\n",
       "    </tr>\n",
       "    <tr>\n",
       "      <th>1</th>\n",
       "      <td>incorrect</td>\n",
       "      <td>incorrect</td>\n",
       "      <td>4.693978</td>\n",
       "      <td>3.285078</td>\n",
       "      <td>1.546280</td>\n",
       "      <td>1.189390</td>\n",
       "    </tr>\n",
       "    <tr>\n",
       "      <th>2</th>\n",
       "      <td>correct</td>\n",
       "      <td>incorrect</td>\n",
       "      <td>4.346245</td>\n",
       "      <td>1.668717</td>\n",
       "      <td>1.469312</td>\n",
       "      <td>0.512055</td>\n",
       "    </tr>\n",
       "  </tbody>\n",
       "</table>\n",
       "</div>"
      ],
      "text/plain": [
       "  Incongruent Response Congruent Response  Incongruent RT  Congruent RT  \\\n",
       "0              correct          incorrect        5.316297      5.075958   \n",
       "1            incorrect          incorrect        4.693978      3.285078   \n",
       "2              correct          incorrect        4.346245      1.668717   \n",
       "\n",
       "   Log of Incongruent RT  Log of congruent RT  \n",
       "0               1.670777             1.624515  \n",
       "1               1.546280             1.189390  \n",
       "2               1.469312             0.512055  "
      ]
     },
     "execution_count": 99,
     "metadata": {},
     "output_type": "execute_result"
    }
   ],
   "source": [
    "import numpy as np\n",
    "df['Log of Incongruent RT'] = df['Incongruent RT'].transform(np.log)\n",
    "df.head(3)"
   ]
  },
  {
   "cell_type": "markdown",
   "metadata": {},
   "source": [
    "### Another way to do that"
   ]
  },
  {
   "cell_type": "code",
   "execution_count": 100,
   "metadata": {},
   "outputs": [
    {
     "data": {
      "text/html": [
       "<div>\n",
       "<style scoped>\n",
       "    .dataframe tbody tr th:only-of-type {\n",
       "        vertical-align: middle;\n",
       "    }\n",
       "\n",
       "    .dataframe tbody tr th {\n",
       "        vertical-align: top;\n",
       "    }\n",
       "\n",
       "    .dataframe thead th {\n",
       "        text-align: right;\n",
       "    }\n",
       "</style>\n",
       "<table border=\"1\" class=\"dataframe\">\n",
       "  <thead>\n",
       "    <tr style=\"text-align: right;\">\n",
       "      <th></th>\n",
       "      <th>Incongruent Response</th>\n",
       "      <th>Congruent Response</th>\n",
       "      <th>Incongruent RT</th>\n",
       "      <th>Congruent RT</th>\n",
       "      <th>Log of Incongruent RT</th>\n",
       "      <th>Log of congruent RT</th>\n",
       "    </tr>\n",
       "  </thead>\n",
       "  <tbody>\n",
       "    <tr>\n",
       "      <th>0</th>\n",
       "      <td>correct</td>\n",
       "      <td>incorrect</td>\n",
       "      <td>5.316297</td>\n",
       "      <td>5.075958</td>\n",
       "      <td>1.670777</td>\n",
       "      <td>1.624515</td>\n",
       "    </tr>\n",
       "    <tr>\n",
       "      <th>1</th>\n",
       "      <td>incorrect</td>\n",
       "      <td>incorrect</td>\n",
       "      <td>4.693978</td>\n",
       "      <td>3.285078</td>\n",
       "      <td>1.546280</td>\n",
       "      <td>1.189390</td>\n",
       "    </tr>\n",
       "    <tr>\n",
       "      <th>2</th>\n",
       "      <td>correct</td>\n",
       "      <td>incorrect</td>\n",
       "      <td>4.346245</td>\n",
       "      <td>1.668717</td>\n",
       "      <td>1.469312</td>\n",
       "      <td>0.512055</td>\n",
       "    </tr>\n",
       "  </tbody>\n",
       "</table>\n",
       "</div>"
      ],
      "text/plain": [
       "  Incongruent Response Congruent Response  Incongruent RT  Congruent RT  \\\n",
       "0              correct          incorrect        5.316297      5.075958   \n",
       "1            incorrect          incorrect        4.693978      3.285078   \n",
       "2              correct          incorrect        4.346245      1.668717   \n",
       "\n",
       "   Log of Incongruent RT  Log of congruent RT  \n",
       "0               1.670777             1.624515  \n",
       "1               1.546280             1.189390  \n",
       "2               1.469312             0.512055  "
      ]
     },
     "execution_count": 100,
     "metadata": {},
     "output_type": "execute_result"
    }
   ],
   "source": [
    "df['Log of congruent RT'] = np.log(df['Congruent RT'])\n",
    "df.head(3)"
   ]
  },
  {
   "cell_type": "markdown",
   "metadata": {},
   "source": [
    "## Calculating across axes using `apply`\n",
    "Sometimes you want to calculate across rows, sometimes down columns.  `apply` is the command to do that."
   ]
  },
  {
   "cell_type": "code",
   "execution_count": 103,
   "metadata": {},
   "outputs": [
    {
     "ename": "TypeError",
     "evalue": "('can only concatenate str (not \"float\") to str', 'occurred at index 0')",
     "output_type": "error",
     "traceback": [
      "\u001b[0;31m---------------------------------------------------------------------------\u001b[0m",
      "\u001b[0;31mTypeError\u001b[0m                                 Traceback (most recent call last)",
      "\u001b[0;32m~/anaconda3/lib/python3.7/site-packages/pandas/core/nanops.py\u001b[0m in \u001b[0;36mf\u001b[0;34m(values, axis, skipna, **kwds)\u001b[0m\n\u001b[1;32m    126\u001b[0m                 \u001b[0;32melse\u001b[0m\u001b[0;34m:\u001b[0m\u001b[0;34m\u001b[0m\u001b[0;34m\u001b[0m\u001b[0m\n\u001b[0;32m--> 127\u001b[0;31m                     \u001b[0mresult\u001b[0m \u001b[0;34m=\u001b[0m \u001b[0malt\u001b[0m\u001b[0;34m(\u001b[0m\u001b[0mvalues\u001b[0m\u001b[0;34m,\u001b[0m \u001b[0maxis\u001b[0m\u001b[0;34m=\u001b[0m\u001b[0maxis\u001b[0m\u001b[0;34m,\u001b[0m \u001b[0mskipna\u001b[0m\u001b[0;34m=\u001b[0m\u001b[0mskipna\u001b[0m\u001b[0;34m,\u001b[0m \u001b[0;34m**\u001b[0m\u001b[0mkwds\u001b[0m\u001b[0;34m)\u001b[0m\u001b[0;34m\u001b[0m\u001b[0;34m\u001b[0m\u001b[0m\n\u001b[0m\u001b[1;32m    128\u001b[0m             \u001b[0;32mexcept\u001b[0m \u001b[0mException\u001b[0m\u001b[0;34m:\u001b[0m\u001b[0;34m\u001b[0m\u001b[0;34m\u001b[0m\u001b[0m\n",
      "\u001b[0;32m~/anaconda3/lib/python3.7/site-packages/pandas/core/nanops.py\u001b[0m in \u001b[0;36mnanmean\u001b[0;34m(values, axis, skipna, mask)\u001b[0m\n\u001b[1;32m    478\u001b[0m     \u001b[0mcount\u001b[0m \u001b[0;34m=\u001b[0m \u001b[0m_get_counts\u001b[0m\u001b[0;34m(\u001b[0m\u001b[0mmask\u001b[0m\u001b[0;34m,\u001b[0m \u001b[0maxis\u001b[0m\u001b[0;34m,\u001b[0m \u001b[0mdtype\u001b[0m\u001b[0;34m=\u001b[0m\u001b[0mdtype_count\u001b[0m\u001b[0;34m)\u001b[0m\u001b[0;34m\u001b[0m\u001b[0;34m\u001b[0m\u001b[0m\n\u001b[0;32m--> 479\u001b[0;31m     \u001b[0mthe_sum\u001b[0m \u001b[0;34m=\u001b[0m \u001b[0m_ensure_numeric\u001b[0m\u001b[0;34m(\u001b[0m\u001b[0mvalues\u001b[0m\u001b[0;34m.\u001b[0m\u001b[0msum\u001b[0m\u001b[0;34m(\u001b[0m\u001b[0maxis\u001b[0m\u001b[0;34m,\u001b[0m \u001b[0mdtype\u001b[0m\u001b[0;34m=\u001b[0m\u001b[0mdtype_sum\u001b[0m\u001b[0;34m)\u001b[0m\u001b[0;34m)\u001b[0m\u001b[0;34m\u001b[0m\u001b[0;34m\u001b[0m\u001b[0m\n\u001b[0m\u001b[1;32m    480\u001b[0m \u001b[0;34m\u001b[0m\u001b[0m\n",
      "\u001b[0;32m~/anaconda3/lib/python3.7/site-packages/numpy/core/_methods.py\u001b[0m in \u001b[0;36m_sum\u001b[0;34m(a, axis, dtype, out, keepdims, initial)\u001b[0m\n\u001b[1;32m     35\u001b[0m          initial=_NoValue):\n\u001b[0;32m---> 36\u001b[0;31m     \u001b[0;32mreturn\u001b[0m \u001b[0mumr_sum\u001b[0m\u001b[0;34m(\u001b[0m\u001b[0ma\u001b[0m\u001b[0;34m,\u001b[0m \u001b[0maxis\u001b[0m\u001b[0;34m,\u001b[0m \u001b[0mdtype\u001b[0m\u001b[0;34m,\u001b[0m \u001b[0mout\u001b[0m\u001b[0;34m,\u001b[0m \u001b[0mkeepdims\u001b[0m\u001b[0;34m,\u001b[0m \u001b[0minitial\u001b[0m\u001b[0;34m)\u001b[0m\u001b[0;34m\u001b[0m\u001b[0;34m\u001b[0m\u001b[0m\n\u001b[0m\u001b[1;32m     37\u001b[0m \u001b[0;34m\u001b[0m\u001b[0m\n",
      "\u001b[0;31mTypeError\u001b[0m: can only concatenate str (not \"float\") to str",
      "\nDuring handling of the above exception, another exception occurred:\n",
      "\u001b[0;31mTypeError\u001b[0m                                 Traceback (most recent call last)",
      "\u001b[0;32m<ipython-input-103-86ee8c181186>\u001b[0m in \u001b[0;36m<module>\u001b[0;34m\u001b[0m\n\u001b[0;32m----> 1\u001b[0;31m \u001b[0mdf\u001b[0m\u001b[0;34m.\u001b[0m\u001b[0mapply\u001b[0m\u001b[0;34m(\u001b[0m\u001b[0mnp\u001b[0m\u001b[0;34m.\u001b[0m\u001b[0mmean\u001b[0m\u001b[0;34m,\u001b[0m \u001b[0maxis\u001b[0m\u001b[0;34m=\u001b[0m\u001b[0;36m1\u001b[0m\u001b[0;34m)\u001b[0m\u001b[0;34m\u001b[0m\u001b[0;34m\u001b[0m\u001b[0m\n\u001b[0m",
      "\u001b[0;32m~/anaconda3/lib/python3.7/site-packages/pandas/core/frame.py\u001b[0m in \u001b[0;36mapply\u001b[0;34m(self, func, axis, broadcast, raw, reduce, result_type, args, **kwds)\u001b[0m\n\u001b[1;32m   6485\u001b[0m                          \u001b[0margs\u001b[0m\u001b[0;34m=\u001b[0m\u001b[0margs\u001b[0m\u001b[0;34m,\u001b[0m\u001b[0;34m\u001b[0m\u001b[0;34m\u001b[0m\u001b[0m\n\u001b[1;32m   6486\u001b[0m                          kwds=kwds)\n\u001b[0;32m-> 6487\u001b[0;31m         \u001b[0;32mreturn\u001b[0m \u001b[0mop\u001b[0m\u001b[0;34m.\u001b[0m\u001b[0mget_result\u001b[0m\u001b[0;34m(\u001b[0m\u001b[0;34m)\u001b[0m\u001b[0;34m\u001b[0m\u001b[0;34m\u001b[0m\u001b[0m\n\u001b[0m\u001b[1;32m   6488\u001b[0m \u001b[0;34m\u001b[0m\u001b[0m\n\u001b[1;32m   6489\u001b[0m     \u001b[0;32mdef\u001b[0m \u001b[0mapplymap\u001b[0m\u001b[0;34m(\u001b[0m\u001b[0mself\u001b[0m\u001b[0;34m,\u001b[0m \u001b[0mfunc\u001b[0m\u001b[0;34m)\u001b[0m\u001b[0;34m:\u001b[0m\u001b[0;34m\u001b[0m\u001b[0;34m\u001b[0m\u001b[0m\n",
      "\u001b[0;32m~/anaconda3/lib/python3.7/site-packages/pandas/core/apply.py\u001b[0m in \u001b[0;36mget_result\u001b[0;34m(self)\u001b[0m\n\u001b[1;32m    149\u001b[0m             \u001b[0;32mreturn\u001b[0m \u001b[0mself\u001b[0m\u001b[0;34m.\u001b[0m\u001b[0mapply_raw\u001b[0m\u001b[0;34m(\u001b[0m\u001b[0;34m)\u001b[0m\u001b[0;34m\u001b[0m\u001b[0;34m\u001b[0m\u001b[0m\n\u001b[1;32m    150\u001b[0m \u001b[0;34m\u001b[0m\u001b[0m\n\u001b[0;32m--> 151\u001b[0;31m         \u001b[0;32mreturn\u001b[0m \u001b[0mself\u001b[0m\u001b[0;34m.\u001b[0m\u001b[0mapply_standard\u001b[0m\u001b[0;34m(\u001b[0m\u001b[0;34m)\u001b[0m\u001b[0;34m\u001b[0m\u001b[0;34m\u001b[0m\u001b[0m\n\u001b[0m\u001b[1;32m    152\u001b[0m \u001b[0;34m\u001b[0m\u001b[0m\n\u001b[1;32m    153\u001b[0m     \u001b[0;32mdef\u001b[0m \u001b[0mapply_empty_result\u001b[0m\u001b[0;34m(\u001b[0m\u001b[0mself\u001b[0m\u001b[0;34m)\u001b[0m\u001b[0;34m:\u001b[0m\u001b[0;34m\u001b[0m\u001b[0;34m\u001b[0m\u001b[0m\n",
      "\u001b[0;32m~/anaconda3/lib/python3.7/site-packages/pandas/core/apply.py\u001b[0m in \u001b[0;36mapply_standard\u001b[0;34m(self)\u001b[0m\n\u001b[1;32m    255\u001b[0m \u001b[0;34m\u001b[0m\u001b[0m\n\u001b[1;32m    256\u001b[0m         \u001b[0;31m# compute the result using the series generator\u001b[0m\u001b[0;34m\u001b[0m\u001b[0;34m\u001b[0m\u001b[0;34m\u001b[0m\u001b[0m\n\u001b[0;32m--> 257\u001b[0;31m         \u001b[0mself\u001b[0m\u001b[0;34m.\u001b[0m\u001b[0mapply_series_generator\u001b[0m\u001b[0;34m(\u001b[0m\u001b[0;34m)\u001b[0m\u001b[0;34m\u001b[0m\u001b[0;34m\u001b[0m\u001b[0m\n\u001b[0m\u001b[1;32m    258\u001b[0m \u001b[0;34m\u001b[0m\u001b[0m\n\u001b[1;32m    259\u001b[0m         \u001b[0;31m# wrap results\u001b[0m\u001b[0;34m\u001b[0m\u001b[0;34m\u001b[0m\u001b[0;34m\u001b[0m\u001b[0m\n",
      "\u001b[0;32m~/anaconda3/lib/python3.7/site-packages/pandas/core/apply.py\u001b[0m in \u001b[0;36mapply_series_generator\u001b[0;34m(self)\u001b[0m\n\u001b[1;32m    284\u001b[0m             \u001b[0;32mtry\u001b[0m\u001b[0;34m:\u001b[0m\u001b[0;34m\u001b[0m\u001b[0;34m\u001b[0m\u001b[0m\n\u001b[1;32m    285\u001b[0m                 \u001b[0;32mfor\u001b[0m \u001b[0mi\u001b[0m\u001b[0;34m,\u001b[0m \u001b[0mv\u001b[0m \u001b[0;32min\u001b[0m \u001b[0menumerate\u001b[0m\u001b[0;34m(\u001b[0m\u001b[0mseries_gen\u001b[0m\u001b[0;34m)\u001b[0m\u001b[0;34m:\u001b[0m\u001b[0;34m\u001b[0m\u001b[0;34m\u001b[0m\u001b[0m\n\u001b[0;32m--> 286\u001b[0;31m                     \u001b[0mresults\u001b[0m\u001b[0;34m[\u001b[0m\u001b[0mi\u001b[0m\u001b[0;34m]\u001b[0m \u001b[0;34m=\u001b[0m \u001b[0mself\u001b[0m\u001b[0;34m.\u001b[0m\u001b[0mf\u001b[0m\u001b[0;34m(\u001b[0m\u001b[0mv\u001b[0m\u001b[0;34m)\u001b[0m\u001b[0;34m\u001b[0m\u001b[0;34m\u001b[0m\u001b[0m\n\u001b[0m\u001b[1;32m    287\u001b[0m                     \u001b[0mkeys\u001b[0m\u001b[0;34m.\u001b[0m\u001b[0mappend\u001b[0m\u001b[0;34m(\u001b[0m\u001b[0mv\u001b[0m\u001b[0;34m.\u001b[0m\u001b[0mname\u001b[0m\u001b[0;34m)\u001b[0m\u001b[0;34m\u001b[0m\u001b[0;34m\u001b[0m\u001b[0m\n\u001b[1;32m    288\u001b[0m             \u001b[0;32mexcept\u001b[0m \u001b[0mException\u001b[0m \u001b[0;32mas\u001b[0m \u001b[0me\u001b[0m\u001b[0;34m:\u001b[0m\u001b[0;34m\u001b[0m\u001b[0;34m\u001b[0m\u001b[0m\n",
      "\u001b[0;32m~/anaconda3/lib/python3.7/site-packages/numpy/core/fromnumeric.py\u001b[0m in \u001b[0;36mmean\u001b[0;34m(a, axis, dtype, out, keepdims)\u001b[0m\n\u001b[1;32m   3113\u001b[0m             \u001b[0;32mpass\u001b[0m\u001b[0;34m\u001b[0m\u001b[0;34m\u001b[0m\u001b[0m\n\u001b[1;32m   3114\u001b[0m         \u001b[0;32melse\u001b[0m\u001b[0;34m:\u001b[0m\u001b[0;34m\u001b[0m\u001b[0;34m\u001b[0m\u001b[0m\n\u001b[0;32m-> 3115\u001b[0;31m             \u001b[0;32mreturn\u001b[0m \u001b[0mmean\u001b[0m\u001b[0;34m(\u001b[0m\u001b[0maxis\u001b[0m\u001b[0;34m=\u001b[0m\u001b[0maxis\u001b[0m\u001b[0;34m,\u001b[0m \u001b[0mdtype\u001b[0m\u001b[0;34m=\u001b[0m\u001b[0mdtype\u001b[0m\u001b[0;34m,\u001b[0m \u001b[0mout\u001b[0m\u001b[0;34m=\u001b[0m\u001b[0mout\u001b[0m\u001b[0;34m,\u001b[0m \u001b[0;34m**\u001b[0m\u001b[0mkwargs\u001b[0m\u001b[0;34m)\u001b[0m\u001b[0;34m\u001b[0m\u001b[0;34m\u001b[0m\u001b[0m\n\u001b[0m\u001b[1;32m   3116\u001b[0m \u001b[0;34m\u001b[0m\u001b[0m\n\u001b[1;32m   3117\u001b[0m     return _methods._mean(a, axis=axis, dtype=dtype,\n",
      "\u001b[0;32m~/anaconda3/lib/python3.7/site-packages/pandas/core/generic.py\u001b[0m in \u001b[0;36mstat_func\u001b[0;34m(self, axis, skipna, level, numeric_only, **kwargs)\u001b[0m\n\u001b[1;32m  10954\u001b[0m                                       skipna=skipna)\n\u001b[1;32m  10955\u001b[0m         return self._reduce(f, name, axis=axis, skipna=skipna,\n\u001b[0;32m> 10956\u001b[0;31m                             numeric_only=numeric_only)\n\u001b[0m\u001b[1;32m  10957\u001b[0m \u001b[0;34m\u001b[0m\u001b[0m\n\u001b[1;32m  10958\u001b[0m     \u001b[0;32mreturn\u001b[0m \u001b[0mset_function_name\u001b[0m\u001b[0;34m(\u001b[0m\u001b[0mstat_func\u001b[0m\u001b[0;34m,\u001b[0m \u001b[0mname\u001b[0m\u001b[0;34m,\u001b[0m \u001b[0mcls\u001b[0m\u001b[0;34m)\u001b[0m\u001b[0;34m\u001b[0m\u001b[0;34m\u001b[0m\u001b[0m\n",
      "\u001b[0;32m~/anaconda3/lib/python3.7/site-packages/pandas/core/series.py\u001b[0m in \u001b[0;36m_reduce\u001b[0;34m(self, op, name, axis, skipna, numeric_only, filter_type, **kwds)\u001b[0m\n\u001b[1;32m   3628\u001b[0m                                           'numeric_only.'.format(name))\n\u001b[1;32m   3629\u001b[0m             \u001b[0;32mwith\u001b[0m \u001b[0mnp\u001b[0m\u001b[0;34m.\u001b[0m\u001b[0merrstate\u001b[0m\u001b[0;34m(\u001b[0m\u001b[0mall\u001b[0m\u001b[0;34m=\u001b[0m\u001b[0;34m'ignore'\u001b[0m\u001b[0;34m)\u001b[0m\u001b[0;34m:\u001b[0m\u001b[0;34m\u001b[0m\u001b[0;34m\u001b[0m\u001b[0m\n\u001b[0;32m-> 3630\u001b[0;31m                 \u001b[0;32mreturn\u001b[0m \u001b[0mop\u001b[0m\u001b[0;34m(\u001b[0m\u001b[0mdelegate\u001b[0m\u001b[0;34m,\u001b[0m \u001b[0mskipna\u001b[0m\u001b[0;34m=\u001b[0m\u001b[0mskipna\u001b[0m\u001b[0;34m,\u001b[0m \u001b[0;34m**\u001b[0m\u001b[0mkwds\u001b[0m\u001b[0;34m)\u001b[0m\u001b[0;34m\u001b[0m\u001b[0;34m\u001b[0m\u001b[0m\n\u001b[0m\u001b[1;32m   3631\u001b[0m \u001b[0;34m\u001b[0m\u001b[0m\n\u001b[1;32m   3632\u001b[0m         \u001b[0;31m# TODO(EA) dispatch to Index\u001b[0m\u001b[0;34m\u001b[0m\u001b[0;34m\u001b[0m\u001b[0;34m\u001b[0m\u001b[0m\n",
      "\u001b[0;32m~/anaconda3/lib/python3.7/site-packages/pandas/core/nanops.py\u001b[0m in \u001b[0;36m_f\u001b[0;34m(*args, **kwargs)\u001b[0m\n\u001b[1;32m     74\u001b[0m             \u001b[0;32mtry\u001b[0m\u001b[0;34m:\u001b[0m\u001b[0;34m\u001b[0m\u001b[0;34m\u001b[0m\u001b[0m\n\u001b[1;32m     75\u001b[0m                 \u001b[0;32mwith\u001b[0m \u001b[0mnp\u001b[0m\u001b[0;34m.\u001b[0m\u001b[0merrstate\u001b[0m\u001b[0;34m(\u001b[0m\u001b[0minvalid\u001b[0m\u001b[0;34m=\u001b[0m\u001b[0;34m'ignore'\u001b[0m\u001b[0;34m)\u001b[0m\u001b[0;34m:\u001b[0m\u001b[0;34m\u001b[0m\u001b[0;34m\u001b[0m\u001b[0m\n\u001b[0;32m---> 76\u001b[0;31m                     \u001b[0;32mreturn\u001b[0m \u001b[0mf\u001b[0m\u001b[0;34m(\u001b[0m\u001b[0;34m*\u001b[0m\u001b[0margs\u001b[0m\u001b[0;34m,\u001b[0m \u001b[0;34m**\u001b[0m\u001b[0mkwargs\u001b[0m\u001b[0;34m)\u001b[0m\u001b[0;34m\u001b[0m\u001b[0;34m\u001b[0m\u001b[0m\n\u001b[0m\u001b[1;32m     77\u001b[0m             \u001b[0;32mexcept\u001b[0m \u001b[0mValueError\u001b[0m \u001b[0;32mas\u001b[0m \u001b[0me\u001b[0m\u001b[0;34m:\u001b[0m\u001b[0;34m\u001b[0m\u001b[0;34m\u001b[0m\u001b[0m\n\u001b[1;32m     78\u001b[0m                 \u001b[0;31m# we want to transform an object array\u001b[0m\u001b[0;34m\u001b[0m\u001b[0;34m\u001b[0m\u001b[0;34m\u001b[0m\u001b[0m\n",
      "\u001b[0;32m~/anaconda3/lib/python3.7/site-packages/pandas/core/nanops.py\u001b[0m in \u001b[0;36mf\u001b[0;34m(values, axis, skipna, **kwds)\u001b[0m\n\u001b[1;32m    128\u001b[0m             \u001b[0;32mexcept\u001b[0m \u001b[0mException\u001b[0m\u001b[0;34m:\u001b[0m\u001b[0;34m\u001b[0m\u001b[0;34m\u001b[0m\u001b[0m\n\u001b[1;32m    129\u001b[0m                 \u001b[0;32mtry\u001b[0m\u001b[0;34m:\u001b[0m\u001b[0;34m\u001b[0m\u001b[0;34m\u001b[0m\u001b[0m\n\u001b[0;32m--> 130\u001b[0;31m                     \u001b[0mresult\u001b[0m \u001b[0;34m=\u001b[0m \u001b[0malt\u001b[0m\u001b[0;34m(\u001b[0m\u001b[0mvalues\u001b[0m\u001b[0;34m,\u001b[0m \u001b[0maxis\u001b[0m\u001b[0;34m=\u001b[0m\u001b[0maxis\u001b[0m\u001b[0;34m,\u001b[0m \u001b[0mskipna\u001b[0m\u001b[0;34m=\u001b[0m\u001b[0mskipna\u001b[0m\u001b[0;34m,\u001b[0m \u001b[0;34m**\u001b[0m\u001b[0mkwds\u001b[0m\u001b[0;34m)\u001b[0m\u001b[0;34m\u001b[0m\u001b[0;34m\u001b[0m\u001b[0m\n\u001b[0m\u001b[1;32m    131\u001b[0m                 \u001b[0;32mexcept\u001b[0m \u001b[0mValueError\u001b[0m \u001b[0;32mas\u001b[0m \u001b[0me\u001b[0m\u001b[0;34m:\u001b[0m\u001b[0;34m\u001b[0m\u001b[0;34m\u001b[0m\u001b[0m\n\u001b[1;32m    132\u001b[0m                     \u001b[0;31m# we want to transform an object array\u001b[0m\u001b[0;34m\u001b[0m\u001b[0;34m\u001b[0m\u001b[0;34m\u001b[0m\u001b[0m\n",
      "\u001b[0;32m~/anaconda3/lib/python3.7/site-packages/pandas/core/nanops.py\u001b[0m in \u001b[0;36mnanmean\u001b[0;34m(values, axis, skipna, mask)\u001b[0m\n\u001b[1;32m    477\u001b[0m         \u001b[0mdtype_count\u001b[0m \u001b[0;34m=\u001b[0m \u001b[0mdtype\u001b[0m\u001b[0;34m\u001b[0m\u001b[0;34m\u001b[0m\u001b[0m\n\u001b[1;32m    478\u001b[0m     \u001b[0mcount\u001b[0m \u001b[0;34m=\u001b[0m \u001b[0m_get_counts\u001b[0m\u001b[0;34m(\u001b[0m\u001b[0mmask\u001b[0m\u001b[0;34m,\u001b[0m \u001b[0maxis\u001b[0m\u001b[0;34m,\u001b[0m \u001b[0mdtype\u001b[0m\u001b[0;34m=\u001b[0m\u001b[0mdtype_count\u001b[0m\u001b[0;34m)\u001b[0m\u001b[0;34m\u001b[0m\u001b[0;34m\u001b[0m\u001b[0m\n\u001b[0;32m--> 479\u001b[0;31m     \u001b[0mthe_sum\u001b[0m \u001b[0;34m=\u001b[0m \u001b[0m_ensure_numeric\u001b[0m\u001b[0;34m(\u001b[0m\u001b[0mvalues\u001b[0m\u001b[0;34m.\u001b[0m\u001b[0msum\u001b[0m\u001b[0;34m(\u001b[0m\u001b[0maxis\u001b[0m\u001b[0;34m,\u001b[0m \u001b[0mdtype\u001b[0m\u001b[0;34m=\u001b[0m\u001b[0mdtype_sum\u001b[0m\u001b[0;34m)\u001b[0m\u001b[0;34m)\u001b[0m\u001b[0;34m\u001b[0m\u001b[0;34m\u001b[0m\u001b[0m\n\u001b[0m\u001b[1;32m    480\u001b[0m \u001b[0;34m\u001b[0m\u001b[0m\n\u001b[1;32m    481\u001b[0m     \u001b[0;32mif\u001b[0m \u001b[0maxis\u001b[0m \u001b[0;32mis\u001b[0m \u001b[0;32mnot\u001b[0m \u001b[0;32mNone\u001b[0m \u001b[0;32mand\u001b[0m \u001b[0mgetattr\u001b[0m\u001b[0;34m(\u001b[0m\u001b[0mthe_sum\u001b[0m\u001b[0;34m,\u001b[0m \u001b[0;34m'ndim'\u001b[0m\u001b[0;34m,\u001b[0m \u001b[0;32mFalse\u001b[0m\u001b[0;34m)\u001b[0m\u001b[0;34m:\u001b[0m\u001b[0;34m\u001b[0m\u001b[0;34m\u001b[0m\u001b[0m\n",
      "\u001b[0;32m~/anaconda3/lib/python3.7/site-packages/numpy/core/_methods.py\u001b[0m in \u001b[0;36m_sum\u001b[0;34m(a, axis, dtype, out, keepdims, initial)\u001b[0m\n\u001b[1;32m     34\u001b[0m def _sum(a, axis=None, dtype=None, out=None, keepdims=False,\n\u001b[1;32m     35\u001b[0m          initial=_NoValue):\n\u001b[0;32m---> 36\u001b[0;31m     \u001b[0;32mreturn\u001b[0m \u001b[0mumr_sum\u001b[0m\u001b[0;34m(\u001b[0m\u001b[0ma\u001b[0m\u001b[0;34m,\u001b[0m \u001b[0maxis\u001b[0m\u001b[0;34m,\u001b[0m \u001b[0mdtype\u001b[0m\u001b[0;34m,\u001b[0m \u001b[0mout\u001b[0m\u001b[0;34m,\u001b[0m \u001b[0mkeepdims\u001b[0m\u001b[0;34m,\u001b[0m \u001b[0minitial\u001b[0m\u001b[0;34m)\u001b[0m\u001b[0;34m\u001b[0m\u001b[0;34m\u001b[0m\u001b[0m\n\u001b[0m\u001b[1;32m     37\u001b[0m \u001b[0;34m\u001b[0m\u001b[0m\n\u001b[1;32m     38\u001b[0m def _prod(a, axis=None, dtype=None, out=None, keepdims=False,\n",
      "\u001b[0;31mTypeError\u001b[0m: ('can only concatenate str (not \"float\") to str', 'occurred at index 0')"
     ]
    }
   ],
   "source": [
    "df.apply(np.mean, axis=1)"
   ]
  },
  {
   "cell_type": "markdown",
   "metadata": {},
   "source": [
    "## Calculate proportion correct by applying a conditional count method.\n",
    "\n"
   ]
  },
  {
   "cell_type": "code",
   "execution_count": 53,
   "metadata": {},
   "outputs": [
    {
     "name": "stdout",
     "output_type": "stream",
     "text": [
      "Incongruent Response    0.76\n",
      "Congruent Response      0.76\n",
      "Incongruent RT          0.76\n",
      "Congruent RT            0.76\n",
      "dtype: float64 Incongruent Response    0.26\n",
      "Congruent Response      0.26\n",
      "Incongruent RT          0.26\n",
      "Congruent RT            0.26\n",
      "dtype: float64\n"
     ]
    }
   ],
   "source": [
    "proportion_correct_incongruent = df[df[\"Incongruent Response\"] == \"correct\"].count(axis=0) / 50\n",
    "proportion_correct_congruent = df[df[\"Congruent Response\"] == \"correct\"].count(axis=0) / 50\n",
    "print(proportion_correct_incongruent, proportion_correct_congruent)"
   ]
  },
  {
   "cell_type": "markdown",
   "metadata": {},
   "source": [
    "`proportion_correct_incongruent = df[df[\"Incongruent Response\"]==\"correct\"].count(axis=0) / 50`  is a complicated statment.  Let's break it down.\n",
    "\n",
    "`50` is the number of trials.  When we divide the count by the number of items how we get a proportion.\n",
    "The numerator is the count of times that cells in `df` where we match the pattern that cells inside `df[\"Incongruent Response\"]` contain exactly the text `correct`.\n"
   ]
  }
 ],
 "metadata": {
  "kernelspec": {
   "display_name": "Python 3",
   "language": "python",
   "name": "python3"
  },
  "language_info": {
   "codemirror_mode": {
    "name": "ipython",
    "version": 3
   },
   "file_extension": ".py",
   "mimetype": "text/x-python",
   "name": "python",
   "nbconvert_exporter": "python",
   "pygments_lexer": "ipython3",
   "version": "3.7.3"
  },
  "toc": {
   "base_numbering": 1,
   "nav_menu": {},
   "number_sections": false,
   "sideBar": false,
   "skip_h1_title": false,
   "title_cell": "Table of Contents",
   "title_sidebar": "Contents",
   "toc_cell": false,
   "toc_position": {},
   "toc_section_display": false,
   "toc_window_display": false
  }
 },
 "nbformat": 4,
 "nbformat_minor": 2
}
