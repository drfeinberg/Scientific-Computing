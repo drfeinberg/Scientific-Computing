{
 "cells": [
  {
   "cell_type": "markdown",
   "metadata": {
    "slideshow": {
     "slide_type": "slide"
    }
   },
   "source": [
    "# Collections"
   ]
  },
  {
   "cell_type": "markdown",
   "metadata": {
    "collapsed": true,
    "slideshow": {
     "slide_type": "slide"
    }
   },
   "source": [
    "## Collections: Lists "
   ]
  },
  {
   "cell_type": "markdown",
   "metadata": {
    "slideshow": {
     "slide_type": "fragment"
    }
   },
   "source": [
    "<div class=\"alert alert-success\">\n",
    "A list is a mutable collection of ordered items, that can be of mixed type. Lists are created using square brackets.\n",
    "</div>\n",
    "\n",
    "Mutable means that you can change things around after you make it. Think of the word 'mutate'.\n",
    "Immutable means that you cannot change things after you make them."
   ]
  },
  {
   "cell_type": "markdown",
   "metadata": {
    "slideshow": {
     "slide_type": "slide"
    }
   },
   "source": [
    "### List examples"
   ]
  },
  {
   "cell_type": "code",
   "execution_count": 17,
   "metadata": {
    "slideshow": {
     "slide_type": "fragment"
    }
   },
   "outputs": [],
   "source": [
    "# Lists can be a mix of different objects\n",
    "words = \"it's kind of dangerour to be an\"\n",
    "blackstar = [1, 2, 3, words, \"MC\"]"
   ]
  },
  {
   "cell_type": "code",
   "execution_count": 18,
   "metadata": {
    "slideshow": {
     "slide_type": "fragment"
    }
   },
   "outputs": [
    {
     "name": "stdout",
     "output_type": "stream",
     "text": [
      "[1, 2, 3, \"it's kind of dangerour to be an\", 'MC']\n"
     ]
    }
   ],
   "source": [
    "# Print out the contents of a list\n",
    "print(blackstar)"
   ]
  },
  {
   "cell_type": "code",
   "execution_count": 19,
   "metadata": {
    "slideshow": {
     "slide_type": "fragment"
    }
   },
   "outputs": [
    {
     "data": {
      "text/plain": [
       "type"
      ]
     },
     "execution_count": 19,
     "metadata": {},
     "output_type": "execute_result"
    }
   ],
   "source": [
    "# Check the type of a list\n",
    "type(list)"
   ]
  },
  {
   "cell_type": "markdown",
   "metadata": {},
   "source": [
    "#### You can lists together. This adds one list to the end of another list"
   ]
  },
  {
   "cell_type": "code",
   "execution_count": 20,
   "metadata": {},
   "outputs": [
    {
     "data": {
      "text/plain": [
       "[1,\n",
       " 2,\n",
       " 3,\n",
       " \"it's kind of dangerour to be an\",\n",
       " 'MC',\n",
       " 'They shot Tupac',\n",
       " 'and',\n",
       " 'Biggie',\n",
       " 'Too much violence in hip hop']"
      ]
     },
     "execution_count": 20,
     "metadata": {},
     "output_type": "execute_result"
    }
   ],
   "source": [
    "lyrics2 = [\"They shot Tupac\", \"and\", \"Biggie\"]\n",
    "lyrics3 = [\"Too much violence in hip hop\"]\n",
    "\n",
    "blackstar = blackstar + lyrics2 + lyrics3\n",
    "blackstar"
   ]
  },
  {
   "cell_type": "markdown",
   "metadata": {},
   "source": [
    "### You can also make an empty list and append it later on.  This is handy when using a loop, which we will learn about after Data Types."
   ]
  },
  {
   "cell_type": "code",
   "execution_count": 4,
   "metadata": {},
   "outputs": [
    {
     "data": {
      "text/plain": [
       "['With the lights out',\n",
       " \"It's less dangerous\",\n",
       " 'Here we are now',\n",
       " 'Entertain us']"
      ]
     },
     "execution_count": 4,
     "metadata": {},
     "output_type": "execute_result"
    }
   ],
   "source": [
    "# Define an empty list\n",
    "smells_like_teen_spirit = []\n",
    "\n",
    "# Add stuff to that list\n",
    "smells_like_teen_spirit.append(\"With the lights out\")  \n",
    "smells_like_teen_spirit.append(\"It's less dangerous\")\n",
    "smells_like_teen_spirit.append(\"Here we are now\")\n",
    "smells_like_teen_spirit.append(\"Entertain us\")\n",
    "\n",
    "smells_like_teen_spirit"
   ]
  },
  {
   "cell_type": "markdown",
   "metadata": {
    "collapsed": true,
    "slideshow": {
     "slide_type": "slide"
    }
   },
   "source": [
    "### Indexing"
   ]
  },
  {
   "cell_type": "markdown",
   "metadata": {
    "slideshow": {
     "slide_type": "fragment"
    }
   },
   "source": [
    "<div class=\"alert alert-success\">\n",
    "Indexing refers to selecting an item from within a collection. Indexing is done with square brackets.\n",
    "</div>"
   ]
  },
  {
   "cell_type": "code",
   "execution_count": 11,
   "metadata": {
    "slideshow": {
     "slide_type": "fragment"
    }
   },
   "outputs": [],
   "source": [
    "# Define a list \n",
    "my_grocery_list = ['Bananas', 'Berries', 'Waffles', 'Yogurt', 'Low Fat Shredded Cheese']"
   ]
  },
  {
   "cell_type": "code",
   "execution_count": 12,
   "metadata": {
    "slideshow": {
     "slide_type": "fragment"
    }
   },
   "outputs": [
    {
     "name": "stdout",
     "output_type": "stream",
     "text": [
      "Waffles\n"
     ]
    }
   ],
   "source": [
    "# Indexing: Count forward, starting at 0, with positive numbers\n",
    "print(my_grocery_list[2])"
   ]
  },
  {
   "cell_type": "code",
   "execution_count": 13,
   "metadata": {
    "slideshow": {
     "slide_type": "fragment"
    }
   },
   "outputs": [
    {
     "name": "stdout",
     "output_type": "stream",
     "text": [
      "Low Fat Shredded Cheese\n"
     ]
    }
   ],
   "source": [
    "# Indexing: Count backward, starting at -1, with negative numbers\n",
    "print(my_grocery_list[-1])"
   ]
  },
  {
   "cell_type": "code",
   "execution_count": 14,
   "metadata": {
    "slideshow": {
     "slide_type": "fragment"
    }
   },
   "outputs": [
    {
     "name": "stdout",
     "output_type": "stream",
     "text": [
      "['Waffles', 'Yogurt']\n"
     ]
    }
   ],
   "source": [
    "# Indexing: Grab a group of adjacent items using `start:stop`, called a slice\n",
    "print(my_grocery_list[2:4])"
   ]
  },
  {
   "cell_type": "markdown",
   "metadata": {
    "slideshow": {
     "slide_type": "slide"
    }
   },
   "source": [
    "### Index Practices\n",
    "#### Let's make up some data and put it into lists"
   ]
  },
  {
   "cell_type": "code",
   "execution_count": 9,
   "metadata": {
    "slideshow": {
     "slide_type": "fragment"
    }
   },
   "outputs": [],
   "source": [
    "# Define a list for the examples\n",
    "years = [2000, 2011, 2012, 2013, 2014, 2015, 2016, 2017, 2018, 2019]\n",
    "class_average = [0.79, 0.81, 0.81, 0.80, 0.79, 0.81, 0.85, 0.86, 0.99, 0.95]"
   ]
  },
  {
   "cell_type": "code",
   "execution_count": 10,
   "metadata": {
    "slideshow": {
     "slide_type": "fragment"
    }
   },
   "outputs": [
    {
     "name": "stdout",
     "output_type": "stream",
     "text": [
      "In 2012 the class average was: 0.81\n"
     ]
    }
   ],
   "source": [
    "print(\"In\",years[2], \"the class average was:\", class_average[2])"
   ]
  },
  {
   "cell_type": "code",
   "execution_count": 11,
   "metadata": {
    "slideshow": {
     "slide_type": "fragment"
    }
   },
   "outputs": [
    {
     "name": "stdout",
     "output_type": "stream",
     "text": [
      "In 2019 the class average was: 0.95\n"
     ]
    }
   ],
   "source": [
    "print(\"In\",years[-1], \"the class average was:\", class_average[-1])"
   ]
  },
  {
   "cell_type": "code",
   "execution_count": 13,
   "metadata": {
    "slideshow": {
     "slide_type": "fragment"
    }
   },
   "outputs": [
    {
     "data": {
      "text/plain": [
       "[2011, 2012]"
      ]
     },
     "execution_count": 13,
     "metadata": {},
     "output_type": "execute_result"
    }
   ],
   "source": [
    "years[1:3]"
   ]
  },
  {
   "cell_type": "markdown",
   "metadata": {
    "slideshow": {
     "slide_type": "slide"
    }
   },
   "source": [
    "### Clicker Question #1\n",
    "\n",
    "What will be the output of the following piece of code:"
   ]
  },
  {
   "cell_type": "code",
   "execution_count": 12,
   "metadata": {
    "slideshow": {
     "slide_type": "fragment"
    }
   },
   "outputs": [
    {
     "data": {
      "text/plain": [
       "['b', 'c']"
      ]
     },
     "execution_count": 12,
     "metadata": {},
     "output_type": "execute_result"
    }
   ],
   "source": [
    "q1_lst = ['a', 'b', 'c','d']\n",
    "q1_lst[-3:-1]"
   ]
  },
  {
   "cell_type": "markdown",
   "metadata": {
    "slideshow": {
     "slide_type": "fragment"
    }
   },
   "source": [
    "- a) 'a', 'b', 'c'\n",
    "- b) 'c', 'b', 'a'\n",
    "- c) 'c', 'b'\n",
    "- d) 'b', 'c', 'd'\n",
    "- e) 'b', 'c'"
   ]
  },
  {
   "cell_type": "markdown",
   "metadata": {
    "slideshow": {
     "slide_type": "slide"
    }
   },
   "source": [
    "### Reminders"
   ]
  },
  {
   "cell_type": "markdown",
   "metadata": {
    "slideshow": {
     "slide_type": "fragment"
    }
   },
   "source": [
    "- Negative indices index backwards through a collection\n",
    "- A sequence of indices (called a slice) can be accessed using start:stop\n",
    "    - In this contstruction, `start` is included then every element until `stop`, not including `stop` itself"
   ]
  },
  {
   "cell_type": "markdown",
   "metadata": {},
   "source": [
    "<div class=\"alert alert-info\">\n",
    "    I often forget how to index parts of a list. I look it up on the web almost every time, and I have been programming since 1986.  It's okay to look things up on the web if you don't remember them.  In fact, it's a critical programming skill!"
   ]
  },
  {
   "cell_type": "markdown",
   "metadata": {
    "slideshow": {
     "slide_type": "slide"
    }
   },
   "source": [
    "### Why do you start at 0, and not 1?  Normally people start counting from 1, and this makes everything more confusing!"
   ]
  },
  {
   "cell_type": "markdown",
   "metadata": {
    "slideshow": {
     "slide_type": "fragment"
    }
   },
   "source": [
    "Starting at zero is a convention (some) languages use that comes from how variables are stored in memory, and 'pointers' to those locations.  Don't shoot the messanger. I didn't write the rules. Once you get used to it, it will make sense and be better."
   ]
  },
  {
   "cell_type": "markdown",
   "metadata": {
    "slideshow": {
     "slide_type": "slide"
    }
   },
   "source": [
    "### Length of a collection\n",
    "\n",
    "Remember our lists from before...\n"
   ]
  },
  {
   "cell_type": "code",
   "execution_count": 5,
   "metadata": {
    "slideshow": {
     "slide_type": "fragment"
    }
   },
   "outputs": [
    {
     "name": "stdout",
     "output_type": "stream",
     "text": [
      "There were 10 years recorded.\n",
      "There were 10 class averages recorded.\n"
     ]
    }
   ],
   "source": [
    "years = [2000, 2011, 2012, 2013, 2014, 2015, 2016, 2017, 2018, 2019]\n",
    "class_average = [0.79, 0.81, 0.81, 0.80, 0.79, 0.81, 0.85, 0.86, 0.99, 0.95]\n",
    "# Get the length of the list, and print it out\n",
    "number_of_years = len(years)\n",
    "number_of_class_averages = len(class_average)\n",
    "\n",
    "print('There were', number_of_years, 'years recorded.')\n",
    "print('There were', number_of_class_averages, 'class averages recorded.')"
   ]
  },
  {
   "cell_type": "markdown",
   "metadata": {
    "slideshow": {
     "slide_type": "slide"
    }
   },
   "source": [
    "## The `in` Operator"
   ]
  },
  {
   "cell_type": "markdown",
   "metadata": {
    "slideshow": {
     "slide_type": "fragment"
    }
   },
   "source": [
    "<div class=\"alert alert-success\">\n",
    "    The <code>in</code> operator asks whether an element is present inside a collection, and returns a boolean answer. \n",
    "</div>"
   ]
  },
  {
   "cell_type": "markdown",
   "metadata": {},
   "source": [
    "### Define a new list to work with"
   ]
  },
  {
   "cell_type": "code",
   "execution_count": 7,
   "metadata": {
    "slideshow": {
     "slide_type": "slide"
    }
   },
   "outputs": [],
   "source": [
    "grateful_dead = ['Jerry', 'Phil', 'Pigpen', 'Bill', 'Mickey', 'Bobby']"
   ]
  },
  {
   "cell_type": "code",
   "execution_count": 8,
   "metadata": {
    "slideshow": {
     "slide_type": "fragment"
    }
   },
   "outputs": [
    {
     "data": {
      "text/plain": [
       "True"
      ]
     },
     "execution_count": 8,
     "metadata": {},
     "output_type": "execute_result"
    }
   ],
   "source": [
    "# Check if a particular element is present in the list\n",
    "\"Bobby\" in grateful_dead"
   ]
  },
  {
   "cell_type": "code",
   "execution_count": 9,
   "metadata": {},
   "outputs": [
    {
     "data": {
      "text/plain": [
       "False"
      ]
     },
     "execution_count": 9,
     "metadata": {},
     "output_type": "execute_result"
    }
   ],
   "source": [
    "# Check if a particular element is present in the list\n",
    "\"John Mayer\" in grateful_dead"
   ]
  },
  {
   "cell_type": "code",
   "execution_count": 10,
   "metadata": {
    "slideshow": {
     "slide_type": "fragment"
    }
   },
   "outputs": [
    {
     "data": {
      "text/plain": [
       "True"
      ]
     },
     "execution_count": 10,
     "metadata": {},
     "output_type": "execute_result"
    }
   ],
   "source": [
    "# The `in` operator can also be combined with the `not` operator\n",
    "\"John Mayer\" not in grateful_dead"
   ]
  },
  {
   "cell_type": "markdown",
   "metadata": {
    "slideshow": {
     "slide_type": "slide"
    }
   },
   "source": [
    "### Practice with `in`"
   ]
  },
  {
   "cell_type": "code",
   "execution_count": 16,
   "metadata": {
    "slideshow": {
     "slide_type": "fragment"
    }
   },
   "outputs": [],
   "source": [
    "# Define a list to practice with\n",
    "practice_list = [1, True, 'alpha', 13, 'pnb2A03']"
   ]
  },
  {
   "cell_type": "code",
   "execution_count": 17,
   "metadata": {
    "slideshow": {
     "slide_type": "fragment"
    }
   },
   "outputs": [
    {
     "data": {
      "text/plain": [
       "True"
      ]
     },
     "execution_count": 17,
     "metadata": {},
     "output_type": "execute_result"
    }
   ],
   "source": [
    "13 in practice_list"
   ]
  },
  {
   "cell_type": "code",
   "execution_count": 18,
   "metadata": {
    "slideshow": {
     "slide_type": "fragment"
    }
   },
   "outputs": [
    {
     "data": {
      "text/plain": [
       "False"
      ]
     },
     "execution_count": 18,
     "metadata": {},
     "output_type": "execute_result"
    }
   ],
   "source": [
    "False in practice_list"
   ]
  },
  {
   "cell_type": "code",
   "execution_count": 19,
   "metadata": {
    "slideshow": {
     "slide_type": "fragment"
    }
   },
   "outputs": [
    {
     "data": {
      "text/plain": [
       "False"
      ]
     },
     "execution_count": 19,
     "metadata": {},
     "output_type": "execute_result"
    }
   ],
   "source": [
    "'True' in practice_list"
   ]
  },
  {
   "cell_type": "code",
   "execution_count": 20,
   "metadata": {},
   "outputs": [
    {
     "data": {
      "text/plain": [
       "True"
      ]
     },
     "execution_count": 20,
     "metadata": {},
     "output_type": "execute_result"
    }
   ],
   "source": [
    "True in practice_list"
   ]
  },
  {
   "cell_type": "code",
   "execution_count": 21,
   "metadata": {
    "slideshow": {
     "slide_type": "fragment"
    }
   },
   "outputs": [
    {
     "data": {
      "text/plain": [
       "True"
      ]
     },
     "execution_count": 21,
     "metadata": {},
     "output_type": "execute_result"
    }
   ],
   "source": [
    "'pnb19' not in practice_list"
   ]
  },
  {
   "cell_type": "markdown",
   "metadata": {
    "collapsed": true,
    "slideshow": {
     "slide_type": "slide"
    }
   },
   "source": [
    "### Clicker #2\n",
    "\n",
    "After executing the following code, what will be the value of `output`?"
   ]
  },
  {
   "cell_type": "code",
   "execution_count": 25,
   "metadata": {
    "slideshow": {
     "slide_type": "fragment"
    }
   },
   "outputs": [
    {
     "name": "stdout",
     "output_type": "stream",
     "text": [
      "True\n"
     ]
    }
   ],
   "source": [
    "example2_list = [0, False, 'ten', None]\n",
    "\n",
    "boolean_1 = False in example2_list\n",
    "boolean_2 = 10 not in example2_list\n",
    "\n",
    "output = boolean_1 and boolean_2\n",
    "\n",
    "print(output)"
   ]
  },
  {
   "cell_type": "markdown",
   "metadata": {
    "collapsed": true,
    "slideshow": {
     "slide_type": "fragment"
    }
   },
   "source": [
    "- a) True\n",
    "- b) False\n",
    "- c) This code will fail\n",
    "- d) I don't know"
   ]
  },
  {
   "cell_type": "markdown",
   "metadata": {
    "slideshow": {
     "slide_type": "slide"
    }
   },
   "source": [
    "### Reminder"
   ]
  },
  {
   "cell_type": "markdown",
   "metadata": {
    "slideshow": {
     "slide_type": "fragment"
    }
   },
   "source": [
    "- The `in` operator checks whether an element is present in a collection, and can be negated with `not`"
   ]
  },
  {
   "cell_type": "markdown",
   "metadata": {
    "slideshow": {
     "slide_type": "slide"
    }
   },
   "source": [
    "## Mutating a List"
   ]
  },
  {
   "cell_type": "markdown",
   "metadata": {
    "slideshow": {
     "slide_type": "fragment"
    }
   },
   "source": [
    "<div class=\"alert alert-success\">\n",
    "Lists are mutable, meaning after definition, you can update and change things about the list.\n",
    "    Think of the word 'mutable' like 'mutate'. When you mutate, you change. A mutable list can mutate or change.\n",
    "</div>"
   ]
  },
  {
   "cell_type": "markdown",
   "metadata": {
    "slideshow": {
     "slide_type": "slide"
    }
   },
   "source": [
    "### Remember my grocery list?"
   ]
  },
  {
   "cell_type": "code",
   "execution_count": 23,
   "metadata": {
    "slideshow": {
     "slide_type": "fragment"
    }
   },
   "outputs": [
    {
     "name": "stdout",
     "output_type": "stream",
     "text": [
      "['Bananas', 'Berries', 'Waffles', 'Yogurt', 'Low Fat Shredded Cheese']\n"
     ]
    }
   ],
   "source": [
    "my_grocery_list = ['Bananas', 'Berries', 'Waffles', 'Yogurt', 'Low Fat Shredded Cheese']\n",
    "print(my_grocery_list)"
   ]
  },
  {
   "cell_type": "markdown",
   "metadata": {
    "slideshow": {
     "slide_type": "fragment"
    }
   },
   "source": [
    "### My wife called.  She checked the fridge, and we already have Waffles, but we need Popcorn."
   ]
  },
  {
   "cell_type": "code",
   "execution_count": 24,
   "metadata": {
    "slideshow": {
     "slide_type": "fragment"
    }
   },
   "outputs": [],
   "source": [
    "# Redefine a particular element of the list\n",
    "my_grocery_list[2] = \"Popcorn\""
   ]
  },
  {
   "cell_type": "code",
   "execution_count": 25,
   "metadata": {
    "slideshow": {
     "slide_type": "fragment"
    }
   },
   "outputs": [
    {
     "name": "stdout",
     "output_type": "stream",
     "text": [
      "['Bananas', 'Berries', 'Popcorn', 'Yogurt', 'Low Fat Shredded Cheese']\n"
     ]
    }
   ],
   "source": [
    "# Check the contents of the list\n",
    "print(my_grocery_list)"
   ]
  },
  {
   "cell_type": "markdown",
   "metadata": {
    "slideshow": {
     "slide_type": "slide"
    }
   },
   "source": [
    "### Sorting Lists\n"
   ]
  },
  {
   "cell_type": "markdown",
   "metadata": {
    "slideshow": {
     "slide_type": "fragment"
    }
   },
   "source": [
    "### Let's say for some odd reason I like my grocery list alphabetized.  How do I do that?"
   ]
  },
  {
   "cell_type": "markdown",
   "metadata": {
    "slideshow": {
     "slide_type": "slide"
    }
   },
   "source": [
    "#### There are at least 2 ways to sort lists\n",
    "- The first way is to call the sorted function\n",
    "    - This shows what a sorted list would look like, but doesn't sort the list\n",
    "- The second way is to call the sort method\n",
    "    - This actuall sorts the list\n"
   ]
  },
  {
   "cell_type": "code",
   "execution_count": 26,
   "metadata": {
    "slideshow": {
     "slide_type": "fragment"
    }
   },
   "outputs": [
    {
     "data": {
      "text/plain": [
       "['Bananas', 'Berries', 'Low Fat Shredded Cheese', 'Popcorn', 'Yogurt']"
      ]
     },
     "execution_count": 26,
     "metadata": {},
     "output_type": "execute_result"
    }
   ],
   "source": [
    "sorted(my_grocery_list)"
   ]
  },
  {
   "cell_type": "code",
   "execution_count": 27,
   "metadata": {
    "slideshow": {
     "slide_type": "fragment"
    }
   },
   "outputs": [
    {
     "name": "stdout",
     "output_type": "stream",
     "text": [
      "['Bananas', 'Berries', 'Popcorn', 'Yogurt', 'Low Fat Shredded Cheese']\n"
     ]
    }
   ],
   "source": [
    "print(my_grocery_list)"
   ]
  },
  {
   "cell_type": "code",
   "execution_count": 28,
   "metadata": {
    "slideshow": {
     "slide_type": "fragment"
    }
   },
   "outputs": [
    {
     "name": "stdout",
     "output_type": "stream",
     "text": [
      "['Bananas', 'Berries', 'Low Fat Shredded Cheese', 'Popcorn', 'Yogurt']\n"
     ]
    }
   ],
   "source": [
    "my_grocery_list.sort()\n",
    "print(my_grocery_list)"
   ]
  },
  {
   "cell_type": "markdown",
   "metadata": {
    "slideshow": {
     "slide_type": "subslide"
    }
   },
   "source": [
    "<div class=\"alert alert-info\">\n",
    "Recall that there is a difference between functions and methods.  \n",
    "    \n",
    "For now, we can use sorting lists to illustrate this.  \n",
    "\n",
    "**The original list stays the same.**  \n",
    "`sorted` is a function.  To return a sorted list here, do: `my_sorted_grocery_list = sorted(my_grocery_list)`.  \n",
    "\n",
    "**The original list changes.**  \n",
    "`sort` is a method.  To return a sorted list here, do: `my_grocery_list.sort()`. \n",
    "\n",
    "</div>\n",
    "\n",
    "\n",
    "The difference is that a *method* is part of a *class*, and we run it on an instance of that *class*. What that means here is that because `sort` is a *method*, it can alter the list, which is why it stays sorted.  On the other hand `sorted` is a *function*, and can't change what's stored inside the list.  In the end, which you choose is up to you. In programming we typically look for the fastest, most efficient solution.  You'll see methods come up a lot when we move into more advanced programming.  This can be confusing, so we'll come back to this a few more times in the course. If you forget what to do, try trial and error, look it up online, or ask for help.\n"
   ]
  },
  {
   "cell_type": "markdown",
   "metadata": {
    "slideshow": {
     "slide_type": "slide"
    }
   },
   "source": [
    "### What about randomizing lists?"
   ]
  },
  {
   "cell_type": "markdown",
   "metadata": {
    "slideshow": {
     "slide_type": "fragment"
    }
   },
   "source": [
    "There's no built in randomization function in Python, so we imported the random module and used the `shuffle` method.  Since it is a method, `shuffle` changes the orignal list, or does it -\"in place\".  \n",
    "\n",
    "It can be confusing whether or not to call a method or function like this `list.sort()`.  \n",
    "or like this: `random.shuffle(list)`.\n",
    "\n",
    "How to figure out which to do can be tricky, and perhaps beyond the scope of this course.  In general you would use `instance.method()` when you do not have parameters to pass. This isn't always true, so you can always do trial and error to see what works.  Whenever possible the Pythonic way is to do: `list.sort()`.  \n"
   ]
  },
  {
   "cell_type": "markdown",
   "metadata": {},
   "source": [
    "### Let's make a Psychology example here.\n",
    "In an experiment about reading, we might ask people to to read some words on the screen and speak them aloud. We might measure how quickly they respond (i.e. their reaction time).  If we wanted to present some words in a random order, we could make a `word_list` and use the `random.shuffle` function to randomize the order of elements in the list.  This command works `in-place`, meaning it overwrites the original order with the new randomized order automatically.\n",
    "\n",
    "In order to randomize our data, we'll need to `import` code from another Python library. The `random` library helps randomize lists, and comes with Python.  In order to use the code in the `random` library, we type `import random`.  Then, when calling functions and methods from `random`, we let Python know by typing `random.` before the funtion or method name like this: `random.shuffle(list)`."
   ]
  },
  {
   "cell_type": "code",
   "execution_count": 14,
   "metadata": {},
   "outputs": [
    {
     "data": {
      "text/plain": [
       "['basketball', 'elbow', 'syrup', 'apple', 'remote', 'computer', 'ameoba']"
      ]
     },
     "execution_count": 14,
     "metadata": {},
     "output_type": "execute_result"
    }
   ],
   "source": [
    "word_list = [\n",
    "    'basketball',\n",
    "    'elbow',\n",
    "    'syrup',\n",
    "    'apple',\n",
    "    'remote',\n",
    "    'computer',\n",
    "    'ameoba'\n",
    "]\n",
    "word_list"
   ]
  },
  {
   "cell_type": "markdown",
   "metadata": {},
   "source": [
    "Notice that the list I typed is vertical instead of horizontal... That's totallly cool to do in lists and it makes it more like a list in real life and easier to read."
   ]
  },
  {
   "cell_type": "code",
   "execution_count": 15,
   "metadata": {
    "slideshow": {
     "slide_type": "fragment"
    }
   },
   "outputs": [
    {
     "data": {
      "text/plain": [
       "['apple', 'syrup', 'ameoba', 'basketball', 'remote', 'computer', 'elbow']"
      ]
     },
     "execution_count": 15,
     "metadata": {},
     "output_type": "execute_result"
    }
   ],
   "source": [
    "import random\n",
    "\n",
    "random.shuffle(word_list)\n",
    "word_list"
   ]
  },
  {
   "cell_type": "markdown",
   "metadata": {
    "slideshow": {
     "slide_type": "slide"
    }
   },
   "source": [
    "## Collections: Tuples "
   ]
  },
  {
   "cell_type": "markdown",
   "metadata": {
    "slideshow": {
     "slide_type": "fragment"
    }
   },
   "source": [
    "<div class=\"alert alert-success\">\n",
    "A tuple is an immutable collection of ordered items, that can be of mixed type. Tuples are created using parentheses.\n",
    "</div>\n",
    "Tuples are immutable, so unlike a list, you can't change the values once you create the tuple."
   ]
  },
  {
   "cell_type": "markdown",
   "metadata": {
    "slideshow": {
     "slide_type": "slide"
    }
   },
   "source": [
    "### Tuple Examples"
   ]
  },
  {
   "cell_type": "code",
   "execution_count": 70,
   "metadata": {
    "slideshow": {
     "slide_type": "fragment"
    }
   },
   "outputs": [],
   "source": [
    "# Define a tuple\n",
    "tup = (2, 'b', False)"
   ]
  },
  {
   "cell_type": "code",
   "execution_count": 71,
   "metadata": {
    "slideshow": {
     "slide_type": "fragment"
    }
   },
   "outputs": [
    {
     "name": "stdout",
     "output_type": "stream",
     "text": [
      "(2, 'b', False)\n"
     ]
    }
   ],
   "source": [
    "# Print out the contents of a tuple\n",
    "print(tup)"
   ]
  },
  {
   "cell_type": "code",
   "execution_count": 72,
   "metadata": {
    "slideshow": {
     "slide_type": "fragment"
    }
   },
   "outputs": [
    {
     "data": {
      "text/plain": [
       "tuple"
      ]
     },
     "execution_count": 72,
     "metadata": {},
     "output_type": "execute_result"
    }
   ],
   "source": [
    "# Check the type of a tuple\n",
    "type(tup)"
   ]
  },
  {
   "cell_type": "code",
   "execution_count": 73,
   "metadata": {
    "slideshow": {
     "slide_type": "fragment"
    }
   },
   "outputs": [
    {
     "data": {
      "text/plain": [
       "2"
      ]
     },
     "execution_count": 73,
     "metadata": {},
     "output_type": "execute_result"
    }
   ],
   "source": [
    "# Index into a tuple\n",
    "tup[0]"
   ]
  },
  {
   "cell_type": "code",
   "execution_count": 74,
   "metadata": {
    "slideshow": {
     "slide_type": "fragment"
    }
   },
   "outputs": [
    {
     "data": {
      "text/plain": [
       "3"
      ]
     },
     "execution_count": 74,
     "metadata": {},
     "output_type": "execute_result"
    }
   ],
   "source": [
    "# Get the length of a tuple\n",
    "len(tup)"
   ]
  },
  {
   "cell_type": "markdown",
   "metadata": {
    "slideshow": {
     "slide_type": "slide"
    }
   },
   "source": [
    "### Tuples are Immutable"
   ]
  },
  {
   "cell_type": "code",
   "execution_count": 8,
   "metadata": {
    "slideshow": {
     "slide_type": "fragment"
    }
   },
   "outputs": [
    {
     "ename": "TypeError",
     "evalue": "'tuple' object does not support item assignment",
     "output_type": "error",
     "traceback": [
      "\u001b[0;31m---------------------------------------------------------------------------\u001b[0m",
      "\u001b[0;31mTypeError\u001b[0m                                 Traceback (most recent call last)",
      "\u001b[0;32m<ipython-input-8-f3cf3fcad4b2>\u001b[0m in \u001b[0;36m<module>\u001b[0;34m\u001b[0m\n\u001b[1;32m      1\u001b[0m \u001b[0;31m# Tuples are immutable - meaning after they defined, you can't change them\u001b[0m\u001b[0;34m\u001b[0m\u001b[0;34m\u001b[0m\u001b[0;34m\u001b[0m\u001b[0m\n\u001b[0;32m----> 2\u001b[0;31m \u001b[0mtup\u001b[0m\u001b[0;34m[\u001b[0m\u001b[0;36m2\u001b[0m\u001b[0;34m]\u001b[0m \u001b[0;34m=\u001b[0m \u001b[0;36m1\u001b[0m\u001b[0;34m\u001b[0m\u001b[0;34m\u001b[0m\u001b[0m\n\u001b[0m",
      "\u001b[0;31mTypeError\u001b[0m: 'tuple' object does not support item assignment"
     ]
    }
   ],
   "source": [
    "# Tuples are immutable - meaning after they defined, you can't change them\n",
    "tup[2] = 1"
   ]
  },
  {
   "cell_type": "markdown",
   "metadata": {
    "slideshow": {
     "slide_type": "slide"
    }
   },
   "source": [
    "## When would you use a tuple instead of a list?"
   ]
  },
  {
   "cell_type": "markdown",
   "metadata": {
    "slideshow": {
     "slide_type": "fragment"
    }
   },
   "source": [
    "Use tuples instead of lists when you do not want the values to be mutable/changable.\n",
    "\n",
    "- You are using the `return` statement in a function  \n",
    "- Using a tuple instead of a list can give the programmer and the interpreter a hint that the data should not be changed.\n",
    "    - You might think of storing raw data in tuples for this reason\n",
    "- Tuples are commonly used as the equivalent of a dictionary without keys to store data. e.g.\n",
    "    - `[('Swordfish', 'Dominic Sena', 2001), ('Snowden', ' Oliver Stone', 2016), ('Taxi Driver', 'Martin Scorsese', 1976)]`  \n",
    "- Reading data is simpler when tuples are stored inside a list. \n",
    "- For example,\n",
    "\n",
    "    - `[(2,4), (5,7), (3,8), (5,9)]`\n",
    "\n",
    "        - is easier to read than\n",
    "\n",
    "    - `[[2,4], [5,7], [3,8], [5,9]]`\n",
    "\n",
    "Tuple can also be used as key in dictionary due to their hashable and immutable nature whereas Lists are not used as key in a dictionary because list can’t handle `hash()` and have mutable nature.\n",
    "\n",
    "In programming, hash isn't about tagging on instagram, corned beef, or cannabis, it's a cryptographic function.\n",
    "\n",
    "\n",
    "\n",
    "Reference: https://www.programiz.com/python-programming/list-vs-tuples"
   ]
  },
  {
   "cell_type": "markdown",
   "metadata": {
    "slideshow": {
     "slide_type": "slide"
    }
   },
   "source": [
    "## Strings as Collections"
   ]
  },
  {
   "cell_type": "markdown",
   "metadata": {
    "slideshow": {
     "slide_type": "fragment"
    }
   },
   "source": [
    "<div class=\"alert alert-success\">\n",
    "Strings act like mutable, ordered collections of homogenous elements - specifically characters.\n",
    "</div>"
   ]
  },
  {
   "cell_type": "code",
   "execution_count": 76,
   "metadata": {
    "slideshow": {
     "slide_type": "slide"
    }
   },
   "outputs": [],
   "source": [
    "# Define a string\n",
    "my_str = 'Feinberg'"
   ]
  },
  {
   "cell_type": "code",
   "execution_count": 77,
   "metadata": {
    "slideshow": {
     "slide_type": "fragment"
    }
   },
   "outputs": [
    {
     "data": {
      "text/plain": [
       "'i'"
      ]
     },
     "execution_count": 77,
     "metadata": {},
     "output_type": "execute_result"
    }
   ],
   "source": [
    "# Index into a string\n",
    "my_str[2]"
   ]
  },
  {
   "cell_type": "code",
   "execution_count": 78,
   "metadata": {
    "slideshow": {
     "slide_type": "fragment"
    }
   },
   "outputs": [
    {
     "data": {
      "text/plain": [
       "True"
      ]
     },
     "execution_count": 78,
     "metadata": {},
     "output_type": "execute_result"
    }
   ],
   "source": [
    "# Ask if an item is in a string\n",
    "'be' in my_str"
   ]
  },
  {
   "cell_type": "code",
   "execution_count": 79,
   "metadata": {
    "slideshow": {
     "slide_type": "fragment"
    }
   },
   "outputs": [
    {
     "data": {
      "text/plain": [
       "8"
      ]
     },
     "execution_count": 79,
     "metadata": {},
     "output_type": "execute_result"
    }
   ],
   "source": [
    "# Check the length of a string\n",
    "len(my_str)"
   ]
  },
  {
   "cell_type": "markdown",
   "metadata": {
    "slideshow": {
     "slide_type": "slide"
    }
   },
   "source": [
    "## String Methods\n",
    "\n",
    "<div class=\"alert alert-success\">\n",
    "You can use string methods to do lots of important things to strings.\n",
    "</div>\n",
    "\n",
    "Let's define string `name` with value \"feinberg\""
   ]
  },
  {
   "cell_type": "code",
   "execution_count": 4,
   "metadata": {
    "slideshow": {
     "slide_type": "fragment"
    }
   },
   "outputs": [
    {
     "data": {
      "text/plain": [
       "'feinberg'"
      ]
     },
     "execution_count": 4,
     "metadata": {},
     "output_type": "execute_result"
    }
   ],
   "source": [
    "name = \"feinberg\"\n",
    "name"
   ]
  },
  {
   "cell_type": "markdown",
   "metadata": {
    "slideshow": {
     "slide_type": "fragment"
    }
   },
   "source": [
    "<div class=\"alert alert-warning\">\n",
    "Whoops, I forgot to capitalize the \"f\" in \"Feinberg\"....\n",
    "</div>"
   ]
  },
  {
   "cell_type": "code",
   "execution_count": 5,
   "metadata": {
    "slideshow": {
     "slide_type": "fragment"
    }
   },
   "outputs": [
    {
     "data": {
      "text/plain": [
       "'Feinberg'"
      ]
     },
     "execution_count": 5,
     "metadata": {},
     "output_type": "execute_result"
    }
   ],
   "source": [
    "name.capitalize()"
   ]
  },
  {
   "cell_type": "markdown",
   "metadata": {
    "slideshow": {
     "slide_type": "fragment"
    }
   },
   "source": [
    "<div class=\"alert alert-info\">\n",
    "    Notice that I didn't have to write <code>name = name.capitalize()</code>.  Python changed it <code>in-place</code>.  Also, instead of typing <code>capitalize(name)</code>, I typed <code>name.capitalize()</code>.  This is because methods are functions associated with objects or classes.  We haven't gone over objects and classes yet, so don't panic if that doesn't make sense yet. For now, just know that it's hard to know which to use, so you can always do trial and error, check documentation, google it, or ask online.\n",
    "</div>\n",
    "\n",
    "Next is a list of lots of different string methods."
   ]
  },
  {
   "cell_type": "markdown",
   "metadata": {
    "slideshow": {
     "slide_type": "subslide"
    }
   },
   "source": [
    "<h2><center>String Methods in Python</center></h2>\n",
    "<table>\n",
    "<tr>\n",
    "<th>Method</th>\n",
    "<th>Description</th>\n",
    "</tr>\n",
    "  <tr>\n",
    "    <td>capitalize()</td><td>Converts the first \n",
    "    character to upper case</td>\n",
    "  </tr>\n",
    "  <tr>\n",
    "    <td>casefold()</td><td>Converts string into \n",
    "    lower case</td>\n",
    "  </tr>\n",
    "  <tr>\n",
    "    <td>center()</td><td>Returns a centered \n",
    "    string</td>\n",
    "  </tr>\n",
    "  <tr>\n",
    "    <td>count()</td><td>Returns the number of \n",
    "    times a specified value occurs in a string</td>\n",
    "  </tr>\n",
    "  <tr>\n",
    "    <td>encode()</td><td>Returns an encoded \n",
    "    version of the string</td>\n",
    "  </tr>\n",
    "  <tr>\n",
    "    <td>endswith()</td><td>Returns true if the \n",
    "    string ends with the specified value</td>\n",
    "  </tr>\n",
    "  <tr>\n",
    "    <td>expandtabs()</td><td>Sets the \n",
    "    tab size of the string</td>\n",
    "  </tr>\n",
    "  <tr>\n",
    "    <td>find()</td><td>Searches the string for a \n",
    "    specified value and returns the position of where it was found</td>\n",
    "  </tr>\n",
    "  <tr>\n",
    "    <td>format()</td><td>Formats specified \n",
    "    values in a string</td>\n",
    "  </tr>\n",
    "  <tr>\n",
    "    <td>format_map()</td><td>Formats specified \n",
    "    values in a string</td>\n",
    "  </tr>\n",
    "  <tr>\n",
    "    <td>index()</td><td>Searches the string \n",
    "    for a specified value and returns the position of where it was found</td>\n",
    "  </tr>\n",
    "  <tr>\n",
    "    <td>isalnum()</td><td>Returns True if all \n",
    "    characters in the string are alphanumeric</td>\n",
    "  </tr>\n",
    "  <tr>\n",
    "    <td>isalpha()</td><td>Returns True if all \n",
    "    characters in the string are in the alphabet</td>\n",
    "  </tr>\n",
    "  <tr>\n",
    "    <td>isdecimal()</td><td>Returns True if all \n",
    "    characters in the string are decimals</td>\n",
    "  </tr>\n",
    "  <tr>\n",
    "    <td>isdigit()</td><td>Returns True if all \n",
    "    characters in the string are digits</td>\n",
    "  </tr>\n",
    "  <tr>\n",
    "    <td>isidentifier()</td><td>Returns True if \n",
    "    the string is an identifier</td>\n",
    "  </tr>\n",
    "  <tr>\n",
    "    <td>islower()</td><td>Returns True if all \n",
    "    characters in the string are lower case</td>\n",
    "  </tr>\n",
    "  <tr>\n",
    "    <td>isnumeric()</td><td>Returns True if \n",
    "    all characters in the string are numeric</td>\n",
    "  </tr>\n",
    "  <tr>\n",
    "    <td>isprintable()</td><td>Returns True if \n",
    "    all characters in the string are printable</td>\n",
    "  </tr>\n",
    "  <tr>\n",
    "    <td>isspace()</td><td>Returns True if all \n",
    "    characters in the string are whitespaces</td>\n",
    "  </tr>\n",
    "  <tr>\n",
    "    <td>istitle()</td>\n",
    "    <td>Returns True if the string follows the rules of a \n",
    "    title</td>\n",
    "  </tr>\n",
    "  <tr>\n",
    "    <td>isupper()</td><td>Returns True if all \n",
    "    characters in the string are upper case</td>\n",
    "  </tr>\n",
    "  <tr>\n",
    "    <td>join()</td><td>Joins the elements of \n",
    "    an iterable to the end of the string</td>\n",
    "  </tr>\n",
    "  <tr>\n",
    "    <td>ljust()</td><td>Returns a left justified \n",
    "    version of the string</td>\n",
    "  </tr>\n",
    "  <tr>\n",
    "    <td>lower()</td><td>Converts a string into \n",
    "    lower case</td>\n",
    "  </tr>\n",
    "  <tr>\n",
    "    <td>lstrip()</td><td>Returns a left trim \n",
    "    version of the string</td>\n",
    "  </tr>\n",
    "  <tr>\n",
    "    <td>maketrans()</td><td>Returns a \n",
    "    translation table to be used in translations</td>\n",
    "  </tr>\n",
    "  <tr>\n",
    "    <td>partition()</td><td>Returns a tuple \n",
    "    where the string is parted into three parts</td>\n",
    "  </tr>\n",
    "  <tr>\n",
    "    <td>replace()</td><td>Returns a string \n",
    "    where a specified value is replaced with a specified value</td>\n",
    "  </tr>\n",
    "  <tr>\n",
    "    <td>rfind()</td><td>Searches the string for \n",
    "    a specified value and returns the last position of where it was found</td>\n",
    "  </tr>\n",
    "  <tr>\n",
    "    <td>rindex()</td><td>Searches the string for \n",
    "    a specified value and returns the last position of where it was found</td>\n",
    "  </tr>\n",
    "  <tr>\n",
    "    <td>rjust()</td><td>Returns a right justified \n",
    "    version of the string</td>\n",
    "  </tr>\n",
    "  <tr>\n",
    "    <td>rpartition()</td><td>Returns a tuple \n",
    "    where the string is parted into three parts</td>\n",
    "  </tr>\n",
    "  <tr>\n",
    "    <td>rsplit()</td><td>Splits the string at \n",
    "    the specified separator, and returns a list</td>\n",
    "  </tr>\n",
    "  <tr>\n",
    "    <td>rstrip()</td><td>Returns a right trim \n",
    "    version of the string</td>\n",
    "  </tr>\n",
    "  <tr>\n",
    "    <td>split()</td><td>Splits the string at \n",
    "    the specified separator, and returns a list</td>\n",
    "  </tr>\n",
    "  <tr>\n",
    "    <td>splitlines()</td><td>Splits the string \n",
    "    at line breaks and returns a list</td>\n",
    "  </tr>\n",
    "  <tr>\n",
    "    <td>startswith()</td><td>Returns true if \n",
    "    the string starts with the specified value</td>\n",
    "  </tr>\n",
    "  <tr>\n",
    "    <td>strip()</td><td>Returns a trimmed version of the string</td>\n",
    "  </tr>\n",
    "  <tr>\n",
    "    <td>swapcase()</td><td>Swaps cases, lower \n",
    "    case becomes upper case and vice versa</td>\n",
    "  </tr>\n",
    "  <tr>\n",
    "    <td>title()</td><td>Converts the first \n",
    "    character of each word to upper case</td>\n",
    "  </tr>\n",
    "  <tr>\n",
    "    <td>translate()</td><td>Returns a \n",
    "    translated string</td>\n",
    "  </tr>\n",
    "  <tr>\n",
    "    <td>upper()</td><td>Converts a string \n",
    "    into upper case</td>\n",
    "  </tr>\n",
    "<tr><td>zfill()</td><td>Fills the string with \n",
    "  a specified number of 0 values at the beginning</td></tr>\n",
    "</table>\n",
    "\n",
    "https://www.w3schools.com/python/python_ref_string.asp"
   ]
  },
  {
   "cell_type": "markdown",
   "metadata": {
    "collapsed": true,
    "slideshow": {
     "slide_type": "slide"
    }
   },
   "source": [
    "### SideNote: using counters"
   ]
  },
  {
   "cell_type": "code",
   "execution_count": 13,
   "metadata": {
    "slideshow": {
     "slide_type": "fragment"
    }
   },
   "outputs": [],
   "source": [
    "# Initialize a counter variable\n",
    "counter = 0"
   ]
  },
  {
   "cell_type": "code",
   "execution_count": 14,
   "metadata": {
    "slideshow": {
     "slide_type": "fragment"
    }
   },
   "outputs": [
    {
     "name": "stdout",
     "output_type": "stream",
     "text": [
      "1\n"
     ]
    }
   ],
   "source": [
    "counter = counter + 1\n",
    "print(counter)"
   ]
  },
  {
   "cell_type": "code",
   "execution_count": 15,
   "metadata": {
    "slideshow": {
     "slide_type": "fragment"
    }
   },
   "outputs": [
    {
     "name": "stdout",
     "output_type": "stream",
     "text": [
      "2\n"
     ]
    }
   ],
   "source": [
    "counter = counter + 1\n",
    "print(counter)"
   ]
  },
  {
   "cell_type": "markdown",
   "metadata": {
    "collapsed": true,
    "slideshow": {
     "slide_type": "slide"
    }
   },
   "source": [
    "## Pulling it Together: Collections, Membership & Conditionals"
   ]
  },
  {
   "cell_type": "markdown",
   "metadata": {
    "collapsed": true,
    "slideshow": {
     "slide_type": "slide"
    }
   },
   "source": [
    "### Clicker Question #3\n",
    "\n",
    "What will be the value of `counter` after this code is run?"
   ]
  },
  {
   "cell_type": "code",
   "execution_count": 16,
   "metadata": {
    "slideshow": {
     "slide_type": "fragment"
    }
   },
   "outputs": [
    {
     "name": "stdout",
     "output_type": "stream",
     "text": [
      "2\n"
     ]
    }
   ],
   "source": [
    "things_that_are_good = ['python', 'data', 'science', 'tacos']\n",
    "\n",
    "counter = 0\n",
    "\n",
    "if 'python' in things_that_are_good:\n",
    "    counter = counter + 1\n",
    "\n",
    "if len(things_that_are_good) == 4:\n",
    "    counter = counter + 1\n",
    "    \n",
    "if things_that_are_good[2] == 'data':\n",
    "    counter = counter + 1 \n",
    "    \n",
    "print(counter)"
   ]
  },
  {
   "cell_type": "markdown",
   "metadata": {
    "slideshow": {
     "slide_type": "fragment"
    }
   },
   "source": [
    "<pre> a) 0   b) 1   c) 2   d) 3   e) 4 </pre>"
   ]
  },
  {
   "cell_type": "markdown",
   "metadata": {},
   "source": [
    "Remember that python starts counting at 0"
   ]
  },
  {
   "cell_type": "markdown",
   "metadata": {
    "slideshow": {
     "slide_type": "slide"
    }
   },
   "source": [
    "## Clicker Question #4\n",
    "\n",
    "What will be printed out from running this code?"
   ]
  },
  {
   "cell_type": "code",
   "execution_count": 17,
   "metadata": {
    "slideshow": {
     "slide_type": "fragment"
    }
   },
   "outputs": [
    {
     "name": "stdout",
     "output_type": "stream",
     "text": [
      "Overlap\n"
     ]
    }
   ],
   "source": [
    "lst = ['a', 'b', 'c']\n",
    "tup = ('b', 'c', 'd')\n",
    "\n",
    "if lst[-1] == tup[-1]:\n",
    "    print('EndMatch')\n",
    "elif tup[1] in lst:\n",
    "    print('Overlap')\n",
    "elif len(lst) == tup:\n",
    "    print('Length')\n",
    "else:\n",
    "    print('None')"
   ]
  },
  {
   "cell_type": "markdown",
   "metadata": {
    "slideshow": {
     "slide_type": "fragment"
    }
   },
   "source": [
    "<pre> a) EndMatch   b) Overlap   c) Length   d) Overlap & Match   e) None </pre>"
   ]
  }
 ],
 "metadata": {
  "kernelspec": {
   "display_name": "Python 3",
   "language": "python",
   "name": "python3"
  },
  "language_info": {
   "codemirror_mode": {
    "name": "ipython",
    "version": 3
   },
   "file_extension": ".py",
   "mimetype": "text/x-python",
   "name": "python",
   "nbconvert_exporter": "python",
   "pygments_lexer": "ipython3",
   "version": "3.7.3"
  },
  "toc": {
   "base_numbering": 1,
   "nav_menu": {},
   "number_sections": false,
   "sideBar": false,
   "skip_h1_title": false,
   "title_cell": "Table of Contents",
   "title_sidebar": "Contents",
   "toc_cell": false,
   "toc_position": {},
   "toc_section_display": false,
   "toc_window_display": false
  }
 },
 "nbformat": 4,
 "nbformat_minor": 2
}
