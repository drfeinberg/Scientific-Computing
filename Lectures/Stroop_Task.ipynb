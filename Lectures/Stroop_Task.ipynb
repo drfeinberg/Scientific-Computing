{
 "cells": [
  {
   "cell_type": "markdown",
   "metadata": {},
   "source": [
    "# Experiment  example -  Stroop task.\n",
    "In the stroop task, we are investigating how incongruent stimuli interfere with processing.  We present letters that spell colours, but they are in a font that is either the same or a different colour than what the letters spell.\n",
    "\n",
    "- Stimuli  \n",
    "    - Coloured Letters\n",
    "    - Congruent or incongruent colour and text\n",
    "- Response\n",
    "    - Button Press\n",
    "    - Measure Reaction time \n",
    "- Trial\n",
    "    - congruent\n",
    "        - red/red\n",
    "        - green/green\n",
    "        - blue/blue\n",
    "    - incongruent\n",
    "        - red/green\n",
    "        - red/blue\n",
    "        - green/blue\n",
    "        - \n",
    "- Save Data\n",
    "    - Experiment info\n",
    "    - Trial info\n",
    "    - Key presses\n",
    "    - Correct/Incorrect\n",
    "    - Reaction Time"
   ]
  },
  {
   "cell_type": "markdown",
   "metadata": {},
   "source": [
    "# Dissect the problem\n",
    "- We can't code all of this at once\n",
    "- We can code a little bit at a time and build something as we go\n",
    "- PsychoPy breaks it's code down into routines\n",
    "    - Routines are sections of code that are broken down so it's easier to understand what's happening.\n",
    "    - Outside of PsychoPy, don't use routines in Python\n",
    "        - It's not the Pythonic way"
   ]
  },
  {
   "cell_type": "markdown",
   "metadata": {},
   "source": [
    "### Load the Modules\n",
    "We'll load `visual` and `core` like we did before. We'll also add `gui` to make the participant ID window. We'll load a few more before we're done."
   ]
  },
  {
   "cell_type": "code",
   "execution_count": 71,
   "metadata": {},
   "outputs": [],
   "source": [
    "from psychopy import locale_setup, sound, gui, visual, core, data, event, logging, clock"
   ]
  },
  {
   "cell_type": "markdown",
   "metadata": {},
   "source": [
    "### Store info about the experiment session"
   ]
  },
  {
   "cell_type": "markdown",
   "metadata": {},
   "source": [
    "#### Store The Experiment Name"
   ]
  },
  {
   "cell_type": "code",
   "execution_count": 57,
   "metadata": {},
   "outputs": [],
   "source": [
    "expName = 'stroop_task'"
   ]
  },
  {
   "cell_type": "markdown",
   "metadata": {},
   "source": [
    "#### Create a dictionary to store the participant ID number and age\n",
    "\n",
    "Here you could also store any other info that you want the participant to type in.  It could be their age, gender, session number, etc.  All you would do is add another key/value pair to the expInfo dictionary.  We'll use a dialog box to get that info from the participant.  \n",
    "\n",
    "<div class=\"alert alert-warning\" role=\"alert\">\n",
    "Remember that this is a dictionary, so Python will display the contents in alphabetical order rather than the order you put them in.\n",
    "</div>"
   ]
  },
  {
   "cell_type": "code",
   "execution_count": 58,
   "metadata": {},
   "outputs": [],
   "source": [
    "expInfo = {'participant': '', 'age': ''}"
   ]
  },
  {
   "cell_type": "markdown",
   "metadata": {},
   "source": [
    "#### Here's that dialog box\n",
    "A dialog box is a box you create that has a little dialog with the participant. It asks some questions and gets some answers."
   ]
  },
  {
   "cell_type": "code",
   "execution_count": 59,
   "metadata": {},
   "outputs": [],
   "source": [
    "dlg = gui.DlgFromDict(dictionary=expInfo, title=expName)"
   ]
  },
  {
   "cell_type": "markdown",
   "metadata": {},
   "source": [
    "##### Hey -- now it looks like we're programing something real.  Awesome!"
   ]
  },
  {
   "cell_type": "markdown",
   "metadata": {},
   "source": [
    "#### Cancel\n",
    "I hit cancel.  We'll need to make sure we quit the program if the user hits cancel."
   ]
  },
  {
   "cell_type": "code",
   "execution_count": 60,
   "metadata": {},
   "outputs": [],
   "source": [
    "if dlg.OK == False:\n",
    "    core.quit() # this quits the program"
   ]
  },
  {
   "cell_type": "markdown",
   "metadata": {},
   "source": [
    "#### Now we'll store all the data by adding the date and the experiment name to the expInfo dictionary."
   ]
  },
  {
   "cell_type": "code",
   "execution_count": 63,
   "metadata": {},
   "outputs": [],
   "source": [
    "expInfo['date'] = data.getDateStr()  # add a simple timestamp\n",
    "expInfo['expName'] = expName"
   ]
  },
  {
   "cell_type": "code",
   "execution_count": 67,
   "metadata": {},
   "outputs": [],
   "source": [
    "import os\n",
    "filename = u'data' + os.sep + '%s_%s' % (expInfo['participant'], expInfo['date'])  \n",
    "\n",
    "# u'data' + os.sep puts the data in the data folder\n",
    "# %s_%s' %  ensures that we turn the contents of participant into a string\n"
   ]
  },
  {
   "cell_type": "code",
   "execution_count": 65,
   "metadata": {},
   "outputs": [
    {
     "data": {
      "text/plain": [
       "'data/tjghk_2019_Aug_16_1403'"
      ]
     },
     "execution_count": 65,
     "metadata": {},
     "output_type": "execute_result"
    }
   ],
   "source": [
    "filename"
   ]
  },
  {
   "cell_type": "markdown",
   "metadata": {},
   "source": [
    "#### Make a file name to store the data\n",
    "We record the participant ID and a timestamp on the file to ensure we know which participant it is, and when they did it, in order to help resolve duplicate ID numbers from human error or multiple sessions."
   ]
  },
  {
   "cell_type": "markdown",
   "metadata": {},
   "source": [
    "## Experiment Handler"
   ]
  },
  {
   "cell_type": "markdown",
   "metadata": {},
   "source": [
    "The experiment handler helps save the data.  There are various settings that you can adjust.  That's a bit advanced, so for now, let's just put it here nad move on.  You can see we instantiated a classes and `data.ExperimentHandler` and `logging.LogFile`.  We set a logging level in the log file also."
   ]
  },
  {
   "cell_type": "code",
   "execution_count": 74,
   "metadata": {},
   "outputs": [],
   "source": [
    "# An ExperimentHandler isn't essential but helps with data saving\n",
    "thisExp = data.ExperimentHandler(name=expName, version='',\n",
    "    extraInfo=expInfo, runtimeInfo=None,\n",
    "    originPath='/path/where/your/python/file/is/file.py',\n",
    "    savePickle=True, saveWideText=True,\n",
    "    dataFileName=filename)\n",
    "# save a log file for detail verbose info\n",
    "logFile = logging.LogFile(filename+'.log', level=logging.WARNING)\n",
    "logging.console.setLevel(logging.WARNING)  # this outputs to the screen, not a file\n",
    "\n",
    "endExpNow = False  # flag for 'escape' or other condition => quit the exp"
   ]
  },
  {
   "cell_type": "markdown",
   "metadata": {},
   "source": [
    "### Create a window\n",
    "- set the `size` of the screen to be 800 x 600.  This is a low resolution, but it should work on most screens.  \n",
    "- set `fullscr` to be `False`\n",
    "    - `fullscr` is the fullscreen asset.  \n",
    "    - After we build our experiment, we'll set it to be `True`.\n",
    "    - For now it's easier to see what we're doing if we can see the code and our window on screen at the same time."
   ]
  },
  {
   "cell_type": "code",
   "execution_count": 27,
   "metadata": {},
   "outputs": [],
   "source": [
    "win = visual.Window(size=[800, 600], fullscr=False)  "
   ]
  },
  {
   "cell_type": "markdown",
   "metadata": {},
   "source": [
    "## Initialize timers\n",
    "We're measuring reaction time, so we need to keep track of time in 3 different places:\n",
    "\n",
    "- Trial\n",
    "- Global\n",
    "- Routine\n",
    "\n",
    "Timers are an object that's the result of instantiating the `Clock` class in the core module. The routineTimer is a `CountdownTimer`"
   ]
  },
  {
   "cell_type": "code",
   "execution_count": 76,
   "metadata": {},
   "outputs": [],
   "source": [
    "# Initialize components for Routine \"trial\"\n",
    "trialClock = core.Clock() # to track the time since the trial started\n"
   ]
  },
  {
   "cell_type": "code",
   "execution_count": 77,
   "metadata": {},
   "outputs": [],
   "source": [
    "# set up non-trial timers\n",
    "globalClock = core.Clock()  # to track the time since experiment started\n",
    "routineTimer = core.CountdownTimer()  # to track time remaining of each routine"
   ]
  },
  {
   "cell_type": "markdown",
   "metadata": {},
   "source": [
    "## Stimuli  \n",
    "In the previous example we created a stimulus with red text.  We can use that code to help use here when we are creating our stimuli.\n"
   ]
  },
  {
   "cell_type": "markdown",
   "metadata": {},
   "source": [
    "### Create our stimuli\n",
    "- Our basic stimulus is a `word`\n",
    "- Like in our previous example, word is an instance of the TextStim class, which is found in the visual module of the PsychoPy package.\n",
    "- We are setting several attributes in the instance:\n",
    "    - win\n",
    "        - the name of the window instance\n",
    "    - name\n",
    "        - the name of the stimulus\n",
    "    - text\n",
    "        - the text to present\n",
    "    - color\n",
    "        - we're setting this to white so that there's a default value.\n",
    "\n",
    "We'll update the text and the color later when we figure out what condition each trial is.\n",
    "        "
   ]
  },
  {
   "cell_type": "code",
   "execution_count": 78,
   "metadata": {},
   "outputs": [],
   "source": [
    "word = visual.TextStim(win=win, \n",
    "                       name='word',\n",
    "                       text='default text',\n",
    "                       color='white')"
   ]
  },
  {
   "cell_type": "markdown",
   "metadata": {},
   "source": [
    "#### Set up parameters for each condition by making  a tuple  of lists of tuples"
   ]
  },
  {
   "cell_type": "code",
   "execution_count": 80,
   "metadata": {},
   "outputs": [],
   "source": [
    "([('text', 'red'), ('letterColor', 'red'), ('corrAns', 'left'), ('congruent', 1)])\n",
    "\n",
    "trialList = (\n",
    "    [('text', 'red'), ('letterColor', 'red'), ('corrAns', 'left'), ('congruent', 1)],\n",
    "    [('text', 'red'), ('letterColor', 'green'), ('corrAns', 'down'), ('congruent', 0)],\n",
    "    [('text', 'green'), ('letterColor', 'green'), ('corrAns', 'down'), ('congruent', 1)],\n",
    "    [('text', 'green'), ('letterColor', 'blue'), ('corrAns', 'right'), ('congruent', 0)],\n",
    "    [('text', 'blue'), ('letterColor', 'blue'), ('corrAns', 'right'), ('congruent', 1)],\n",
    "    [('text', 'blue'), ('letterColor', 'red'), ('corrAns', 'left'), ('congruent', 0)]\n",
    ")"
   ]
  },
  {
   "cell_type": "markdown",
   "metadata": {},
   "source": [
    "### Prepare to begin the trial"
   ]
  },
  {
   "cell_type": "markdown",
   "metadata": {},
   "source": [
    "The trial has several components. Let's walk through what we have to do to prepare to run a trial"
   ]
  },
  {
   "cell_type": "markdown",
   "metadata": {},
   "source": [
    "The variable `t` will store the time when the trial starts.  \n",
    "- Initialize `t` to `0`  \n",
    "- reset the trial clock\n",
    "- Initialize the frame number `frameN` to `-1`\n",
    "    - We'll add 1 to this number when we start the trial so it's 0 the first time"
   ]
  },
  {
   "cell_type": "code",
   "execution_count": 81,
   "metadata": {},
   "outputs": [],
   "source": [
    "# ------Prepare to start Routine \"trial\"-------\n",
    "t = 0\n",
    "trialClock.reset()\n",
    "frameN = -1 # "
   ]
  },
  {
   "cell_type": "markdown",
   "metadata": {},
   "source": [
    "We're using a `while` loop to run the trials over and over again unitl continueRoutine is no longer `True`.\n",
    "- Set `continueRoutine` to `True`"
   ]
  },
  {
   "cell_type": "code",
   "execution_count": 82,
   "metadata": {},
   "outputs": [],
   "source": [
    "continueRoutine = True"
   ]
  },
  {
   "cell_type": "markdown",
   "metadata": {},
   "source": [
    "Every time we go through the `while` loop, we set the colour and text of the `word`"
   ]
  },
  {
   "cell_type": "code",
   "execution_count": 83,
   "metadata": {},
   "outputs": [
    {
     "ename": "NameError",
     "evalue": "name 'letterColor' is not defined",
     "output_type": "error",
     "traceback": [
      "\u001b[0;31m---------------------------------------------------------------------------\u001b[0m",
      "\u001b[0;31mNameError\u001b[0m                                 Traceback (most recent call last)",
      "\u001b[0;32m<ipython-input-83-3c7cd8438505>\u001b[0m in \u001b[0;36m<module>\u001b[0;34m\u001b[0m\n\u001b[0;32m----> 1\u001b[0;31m \u001b[0mword\u001b[0m\u001b[0;34m.\u001b[0m\u001b[0msetColor\u001b[0m\u001b[0;34m(\u001b[0m\u001b[0mletterColor\u001b[0m\u001b[0;34m,\u001b[0m \u001b[0mcolorSpace\u001b[0m\u001b[0;34m=\u001b[0m\u001b[0;34m'rgb'\u001b[0m\u001b[0;34m)\u001b[0m\u001b[0;34m\u001b[0m\u001b[0;34m\u001b[0m\u001b[0m\n\u001b[0m\u001b[1;32m      2\u001b[0m \u001b[0mword\u001b[0m\u001b[0;34m.\u001b[0m\u001b[0msetText\u001b[0m\u001b[0;34m(\u001b[0m\u001b[0mtext\u001b[0m\u001b[0;34m)\u001b[0m\u001b[0;34m\u001b[0m\u001b[0;34m\u001b[0m\u001b[0m\n",
      "\u001b[0;31mNameError\u001b[0m: name 'letterColor' is not defined"
     ]
    }
   ],
   "source": [
    "word.setColor(letterColor, colorSpace='rgb')\n",
    "word.setText(text)"
   ]
  },
  {
   "cell_type": "markdown",
   "metadata": {},
   "source": [
    "We also need to instantiate a `KeyResponse` class in order to get PsychoPy to record which buttons the participant presses when they respond to the stimuli"
   ]
  },
  {
   "cell_type": "code",
   "execution_count": 84,
   "metadata": {},
   "outputs": [],
   "source": [
    "from psychopy import event"
   ]
  },
  {
   "cell_type": "code",
   "execution_count": 85,
   "metadata": {},
   "outputs": [],
   "source": [
    "resp = event.BuilderKeyResponse()"
   ]
  },
  {
   "cell_type": "markdown",
   "metadata": {},
   "source": [
    "Keep track of which components have finished.\n",
    "- Make a list of trial components\n",
    "    - the word and the response\n",
    "- Go through the list of trial components\n",
    "    - set their status as NOT_STARTED\n",
    "    - we'll update this later when we start"
   ]
  },
  {
   "cell_type": "code",
   "execution_count": 86,
   "metadata": {},
   "outputs": [
    {
     "ename": "NameError",
     "evalue": "name 'NOT_STARTED' is not defined",
     "output_type": "error",
     "traceback": [
      "\u001b[0;31m---------------------------------------------------------------------------\u001b[0m",
      "\u001b[0;31mNameError\u001b[0m                                 Traceback (most recent call last)",
      "\u001b[0;32m<ipython-input-86-3d416470ba86>\u001b[0m in \u001b[0;36m<module>\u001b[0;34m\u001b[0m\n\u001b[1;32m      2\u001b[0m \u001b[0;32mfor\u001b[0m \u001b[0mthisComponent\u001b[0m \u001b[0;32min\u001b[0m \u001b[0mtrialComponents\u001b[0m\u001b[0;34m:\u001b[0m\u001b[0;34m\u001b[0m\u001b[0;34m\u001b[0m\u001b[0m\n\u001b[1;32m      3\u001b[0m     \u001b[0;32mif\u001b[0m \u001b[0mhasattr\u001b[0m\u001b[0;34m(\u001b[0m\u001b[0mthisComponent\u001b[0m\u001b[0;34m,\u001b[0m \u001b[0;34m'status'\u001b[0m\u001b[0;34m)\u001b[0m\u001b[0;34m:\u001b[0m\u001b[0;34m\u001b[0m\u001b[0;34m\u001b[0m\u001b[0m\n\u001b[0;32m----> 4\u001b[0;31m         \u001b[0mthisComponent\u001b[0m\u001b[0;34m.\u001b[0m\u001b[0mstatus\u001b[0m \u001b[0;34m=\u001b[0m \u001b[0mNOT_STARTED\u001b[0m\u001b[0;34m\u001b[0m\u001b[0;34m\u001b[0m\u001b[0m\n\u001b[0m",
      "\u001b[0;31mNameError\u001b[0m: name 'NOT_STARTED' is not defined"
     ]
    }
   ],
   "source": [
    "trialComponents = [word, resp]\n",
    "for thisComponent in trialComponents:\n",
    "    if hasattr(thisComponent, 'status'):\n",
    "        thisComponent.status = NOT_STARTED"
   ]
  },
  {
   "cell_type": "code",
   "execution_count": null,
   "metadata": {},
   "outputs": [],
   "source": [
    "# -------Start Routine \"trial\"-------\n",
    "while continueRoutine:\n",
    "    # get current time\n",
    "    t = trialClock.getTime()\n",
    "    frameN = frameN + 1  # number of completed frames (so 0 is the first frame)\n",
    "    # update/draw components on each frame\n",
    "\n",
    "    # *word* updates\n",
    "    if t >= 0.5 and word.status == NOT_STARTED:\n",
    "        # keep track of start time/frame for later\n",
    "        word.tStart = t\n",
    "        word.frameNStart = frameN  # exact frame index\n",
    "        word.setAutoDraw(True)\n",
    "\n",
    "    # *resp* updates\n",
    "    if t >= 0.5 and resp.status == NOT_STARTED:\n",
    "        # keep track of start time/frame for later\n",
    "        resp.tStart = t\n",
    "        resp.frameNStart = frameN  # exact frame index\n",
    "        resp.status = STARTED\n",
    "        # keyboard checking is just starting\n",
    "        win.callOnFlip(resp.clock.reset)  # t=0 on next screen flip\n",
    "        event.clearEvents(eventType='keyboard')\n",
    "    if resp.status == STARTED:\n",
    "        theseKeys = event.getKeys(keyList=['left', 'down', 'right'])\n",
    "\n",
    "        # check for quit:\n",
    "        if \"escape\" in theseKeys:\n",
    "            endExpNow = True\n",
    "        if len(theseKeys) > 0:  # at least one key was pressed\n",
    "            resp.keys = theseKeys[-1]  # just the last key pressed\n",
    "            resp.rt = resp.clock.getTime()\n",
    "            # was this 'correct'?\n",
    "            if (resp.keys == str(corrAns)) or (resp.keys == corrAns):\n",
    "                resp.corr = 1\n",
    "            else:\n",
    "                resp.corr = 0\n",
    "            # a response ends the routine\n",
    "            continueRoutine = False\n",
    "\n",
    "    # check for quit (typically the Esc key)\n",
    "    if endExpNow or event.getKeys(keyList=[\"escape\"]):\n",
    "        core.quit()\n",
    "\n",
    "    # check if all components have finished\n",
    "    if not continueRoutine:  # a component has requested a forced-end of Routine\n",
    "        break\n",
    "    continueRoutine = False  # will revert to True if at least one component still running\n",
    "    for thisComponent in trialComponents:\n",
    "        if hasattr(thisComponent, \"status\") and thisComponent.status != FINISHED:\n",
    "            continueRoutine = True\n",
    "            break  # at least one component has not yet finished\n",
    "\n",
    "    # refresh the screen\n",
    "    if continueRoutine:  # don't flip if this routine is over or we'll get a blank screen\n",
    "        win.flip()"
   ]
  }
 ],
 "metadata": {
  "kernelspec": {
   "display_name": "Python 3",
   "language": "python",
   "name": "python3"
  },
  "language_info": {
   "codemirror_mode": {
    "name": "ipython",
    "version": 3
   },
   "file_extension": ".py",
   "mimetype": "text/x-python",
   "name": "python",
   "nbconvert_exporter": "python",
   "pygments_lexer": "ipython3",
   "version": "3.7.3"
  },
  "toc": {
   "base_numbering": 1,
   "nav_menu": {},
   "number_sections": false,
   "sideBar": false,
   "skip_h1_title": false,
   "title_cell": "Table of Contents",
   "title_sidebar": "Contents",
   "toc_cell": false,
   "toc_position": {},
   "toc_section_display": false,
   "toc_window_display": false
  }
 },
 "nbformat": 4,
 "nbformat_minor": 2
}
