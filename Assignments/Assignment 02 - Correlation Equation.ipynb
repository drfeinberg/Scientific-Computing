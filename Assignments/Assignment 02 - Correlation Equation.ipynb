{
 "cells": [
  {
   "cell_type": "markdown",
   "metadata": {},
   "source": [
    "# Coding Assigment 2\n"
   ]
  },
  {
   "cell_type": "markdown",
   "metadata": {},
   "source": [
    "## Part 1 - The Fibbonacci Sequence\n"
   ]
  },
  {
   "cell_type": "markdown",
   "metadata": {},
   "source": [
    "<img src=\"img/fibonacci-sequence.jpg\" width=25%>\n",
    "\n",
    "<center>The Fibbonacci Sequrence is defined as: </center>\n",
    "    \n",
    "<center>$F_n = F_{n-1} + F_{n-2}$</center>"
   ]
  },
  {
   "cell_type": "markdown",
   "metadata": {},
   "source": [
    "<div class=\"alert alert-success\">  \n",
    "\"\n",
    "    \n",
    "- Fibonacci numbers are named after Italian mathematician Leonardo of Pisa, later known as Fibonacci. They appear to have first arisen as early as 200 BC in work by Pingala on enumerating possible patterns of poetry formed from syllables of two lengths. In his 1202 book Liber Abaci, Fibonacci introduced the sequence to Western European mathematics,although the sequence had been described earlier in Indian mathematics.\n",
    "\n",
    "- Fibonacci numbers appear unexpectedly often in mathematics, so much so that there is an entire journal dedicated to their study, the Fibonacci Quarterly. Applications of Fibonacci numbers include computer algorithms such as the Fibonacci search technique and the Fibonacci heap data structure, and graphs called Fibonacci cubes used for interconnecting parallel and distributed systems.\n",
    "\n",
    "- They also appear in biological settings, such as branching in trees, the arrangement of leaves on a stem, the fruit sprouts of a pineapple, the flowering of an artichoke, an uncurling fern and the arrangement of a pine cone's bracts. \"\n",
    "\n",
    "-https://en.wikipedia.org/wiki/Fibonacci_number</div>"
   ]
  },
  {
   "cell_type": "markdown",
   "metadata": {},
   "source": [
    "Using `while` loop(s), write a statement that calculates and prints out the first 20 numbers in the Fibbonacci Sequence"
   ]
  },
  {
   "cell_type": "code",
   "execution_count": null,
   "metadata": {},
   "outputs": [],
   "source": [
    "# YOUR CODE HERE\n"
   ]
  },
  {
   "cell_type": "markdown",
   "metadata": {},
   "source": [
    "## Part 2 - The Pearson Correlation"
   ]
  },
  {
   "cell_type": "markdown",
   "metadata": {},
   "source": [
    "### A correlation is a statistical procedure that tests for a mutual linear relationship between two lists of data."
   ]
  },
  {
   "cell_type": "markdown",
   "metadata": {},
   "source": [
    "<div class=\"alert alert-success\">\n",
    "    \n",
    "- Let's test for a linear relationship between Cannabis use, glutamate, and functional connectivity to cortical brain areas. We'll answer the question, \"Does how high you are correlate with functional connectivity between areas of the brain?\".  \n",
    "\n",
    "- If you are interested, you can read the complete paper here:\n",
    "    - Mason, Natasha L., Eef L. Theunissen, Nadia RPW Hutten, H. Y. Desmond, Stefan W. Toennes, Peter Stiers, and Johannes G. Ramaekers. \"Cannabis induced increase in striatal glutamate associated with loss of functional corticostriatal connectivity.\" European Neuropsychopharmacology 29, no. 2 (2019): 247-256.\n",
    "</div>"
   ]
  },
  {
   "cell_type": "markdown",
   "metadata": {},
   "source": [
    "<div class=\"alert alert-warning\">\n",
    "\n",
    "The study has two groups. Full dose (300 μg/kg) group and placebo group in a double-blind crossover design.  After administering treatment, participants performed an attention task in the fMRI scanner. Blood tests measured THC levels and neurotransmitter levels. A questionnaire assessed 'subjective high' scores.  \n",
    "\n",
    "Our variables of interest for this analysis are 'subjective high' and functional connectiveity in the left NAc (Nucleus Accumbans) in the test group.\n",
    "\n",
    "First we'll simulate some data....\n",
    "</div>"
   ]
  },
  {
   "cell_type": "code",
   "execution_count": 1,
   "metadata": {},
   "outputs": [
    {
     "data": {
      "text/plain": [
       "array([ 0.87213233,  1.62024531,  1.8803731 , -0.66648055,  1.7459034 ])"
      ]
     },
     "execution_count": 1,
     "metadata": {},
     "output_type": "execute_result"
    }
   ],
   "source": [
    "import numpy as np\n",
    "import matplotlib.pyplot as plt\n",
    "from matplotlib.offsetbox import OffsetImage, AnnotationBbox\n",
    "\n",
    "## Let's pretend that the subjective high is on average is 4.20 on a scale from 1-7.\n",
    "## Let's pretend that on average the NAc has 18.7 units of functional connectivity\n",
    "\n",
    "mean = [4.20, 18.7]  # These are the means we wrote above\n",
    "cov = [[1, -0.975], [-0.975, 1]] # This is a covariance matrix. # Here we specify the correlation between subjective\n",
    "                                 # high and NAc functional connectivityas noted in Mason et al (2019)\n",
    "\n",
    "## Let's pick a sample size of 100\n",
    "num_samples = 100\n",
    "\n",
    "## Simulate the data\n",
    "subjective_high, functional_connectivity = np.random.multivariate_normal(mean, cov, size=num_samples).T # we give the function the means, \n",
    "                                                                                                        # the covariance matrix,\n",
    "                                                                                                        # and the sample size\n",
    "print('Subjective High', subjective_high[:10])\n",
    "print('Functional Connectivity', functional_connectivity[:10])"
   ]
  },
  {
   "cell_type": "code",
   "execution_count": 3,
   "metadata": {},
   "outputs": [
    {
     "data": {
      "image/png": "[encoded data removed]",
      "text/plain": [
       "<Figure size 432x288 with 1 Axes>"
      ]
     },
     "metadata": {
      "needs_background": "light"
     },
     "output_type": "display_data"
    }
   ],
   "source": [
    "## Plot the data to see if it looks right\n",
    "fig = plt.figure()\n",
    "plt.plot(subjective_high, functional_connectivity, 'o')\n",
    "fig.suptitle('Simulated data', fontsize=20)\n",
    "plt.xlabel('Subjective High', fontsize=18)\n",
    "plt.ylabel('Functional Connectivity', fontsize=18)\n",
    "plt.show()"
   ]
  },
  {
   "cell_type": "markdown",
   "metadata": {},
   "source": [
    "## Now the challenge begins.  Here is the formula for a correlation:\n",
    "\n",
    "$\n",
    "r = \\frac{{}n\\sum (xy)-\\sum(x)\\sum(y)}\n",
    "\t{\\sqrt{[n\\sum (x^2) -  (\\sum x)^2] [n\\sum (y^2) -  (\\sum y)^2]}}\n",
    "$\n",
    "\n",
    "Recall that $\\sum$ symbol means sum, so $\\sum (x)$ means add up all of the items in the list caled x.  $\\sum (xy)$ means add up all of the products of each x and corresponding y value in the x and y lists.  Here x is `subjective_high` and y is `functional_connectivity`"
   ]
  },
  {
   "cell_type": "markdown",
   "metadata": {},
   "source": [
    "### Use `for` loops to calculate the following variables:\n",
    "- sumx = sum of x\n",
    "- sumy = sum of y"
   ]
  },
  {
   "cell_type": "code",
   "execution_count": 21,
   "metadata": {},
   "outputs": [],
   "source": [
    "## Your code here\n",
    "\n"
   ]
  },
  {
   "cell_type": "markdown",
   "metadata": {},
   "source": [
    "### Using `for` loop(s), calculate:\n",
    "- sum_xy = sum of $xy$\n",
    "- sum_xsquared = sum of $x^2$\n",
    "- sum_ysquared = sum of $y^2$"
   ]
  },
  {
   "cell_type": "code",
   "execution_count": 23,
   "metadata": {},
   "outputs": [],
   "source": [
    "## Your code here\n",
    "\n"
   ]
  },
  {
   "cell_type": "markdown",
   "metadata": {},
   "source": [
    "### Now plug all those numbers into the equation in these 3 steps:"
   ]
  },
  {
   "cell_type": "markdown",
   "metadata": {},
   "source": [
    "1) numerator = $n(sum(xy)) - sum(x)*sum(y)  $  \n",
    "2) denominator = $[(n(sum(x^2)) - (sum(x))^2) * (n(sum(y^2)) - (sum(y))^2)]^\\frac{1}{2}  $  \n",
    "3) r = $numerator / denominator$  "
   ]
  },
  {
   "cell_type": "code",
   "execution_count": 24,
   "metadata": {},
   "outputs": [],
   "source": [
    "## Your code here\n"
   ]
  },
  {
   "cell_type": "markdown",
   "metadata": {},
   "source": [
    "### Use this table and `if` and `print` statements to calculate how strong the relationship is and display it to the user\n",
    "\n",
    "r value = \t\n",
    "+.70 or higher: \tVery strong positive relationship  \n",
    "+.40 to +.69: \tStrong positive relationship  \n",
    "+.30 to +.39: \tModerate positive relationship  \n",
    "+.20 to +.29: \tweak positive relationship  \n",
    "+.01 to +.19: \tNo or negligible relationship  \n",
    "0: \tNo relationship [zero correlation]  \n",
    "-.01 to -.19: \tNo or negligible relationship  \n",
    "-.20 to -.29: \tweak negative relationship  \n",
    "-.30 to -.39: \tModerate negative relationship  \n",
    "-.40 to -.69: \tStrong negative relationship  \n",
    "-.70 or higher: \tVery strong negative relationship  "
   ]
  },
  {
   "cell_type": "code",
   "execution_count": 25,
   "metadata": {},
   "outputs": [],
   "source": [
    "## Your code here\n"
   ]
  }
 ],
 "metadata": {
  "kernelspec": {
   "display_name": "Python 3",
   "language": "python",
   "name": "python3"
  },
  "language_info": {
   "codemirror_mode": {
    "name": "ipython",
    "version": 3
   },
   "file_extension": ".py",
   "mimetype": "text/x-python",
   "name": "python",
   "nbconvert_exporter": "python",
   "pygments_lexer": "ipython3",
   "version": "3.7.3"
  },
  "toc": {
   "base_numbering": 1,
   "nav_menu": {},
   "number_sections": false,
   "sideBar": false,
   "skip_h1_title": false,
   "title_cell": "Table of Contents",
   "title_sidebar": "Contents",
   "toc_cell": false,
   "toc_position": {},
   "toc_section_display": false,
   "toc_window_display": false
  }
 },
 "nbformat": 4,
 "nbformat_minor": 2
}
