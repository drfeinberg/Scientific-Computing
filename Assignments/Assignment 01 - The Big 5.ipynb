{
 "cells": [
  {
   "cell_type": "markdown",
   "metadata": {},
   "source": [
    "# The Big 5 Questionnaire\n",
    "\n",
    "<div class=\"alert alert-warning\">\n",
    "The Big 5 is a model of personality that has 5 independent dimensions: Extraversion, Agreeableness, Conscientiousness, Neuroticism, Openness.  We're going to write a program that asks the user to rate themselves on these dimenstion on a 7-point Likert scale.  Then write code that figures out their total score across all 5 dimensions. \n",
    "\n",
    "Costa, P. T., & McCrae, R. R. (1980). Influence of extraversion and neuroticism on subjective well-being: happy and unhappy people. Journal of personality and social psychology, 38(4), 668.\n",
    "</div>\n",
    "\n",
    "1) Write a statement that prints, `Hello participant!`  \n",
    "\n",
    "2) Write a statement that prints the question, `What is your name?`  \n",
    "\n",
    "3) Use the `input()` function to assign your name to the variable `my_name`  \n",
    "\n",
    "4) Write a statement that prints `It is good to meet you my_name`, where `my_name` is the `my_name` variable.  \n",
    "\n",
    "    1) For example, for me, it would print: `It's good to meet you Dr. Feinberg.`  \n",
    "    \n",
    "5) Write a statement that prints `On a scale from 1-7; 1=\"Not at all\"; 7=\"Very Much\", how extraverted are you?`\n",
    "\n",
    "6) Use the `input()` function to assign a rating to the variable `extraverted`  \n",
    "\n",
    "7) Write a statement that prints `On a scale from 1-7; 1=\"Not at all\"; 7=\"Very Much\", how agreeable are you?`\n",
    "\n",
    "8) Use the `input()` function to assign a rating to the variable `agreeable`  \n",
    "\n",
    "9) Write a statement that prints `On a scale from 1-7; 1=\"Not at all\"; 7=\"Very Much\", how conscientious are you?`\n",
    "\n",
    "10) Use the `input()` function to assign a rating to the variable `conscientious`  \n",
    "    \n",
    "11) Write a statement that prints `On a scale from 1-7; 1=\"Not at all\"; 7=\"Very Much\", how neurotic are you?`\n",
    "\n",
    "12) Use the `input()` function to assign a rating to the variable `neurotic`  \n",
    "\n",
    "13) Write a statement that prints `On a scale from 1-7; 1=\"Not at all\"; 7=\"Very Much\", how open are you?`\n",
    "\n",
    "14) Use the `input()` function to assign a rating to the variable `open`  \n",
    "\n",
    "15) Write a statement that prints `What is your age?`\n",
    "\n",
    "16) 14) Use the `input()` function to assign an age to the variable `age`  \n",
    "    \n",
    "17) Write a statement that calculates the total score across all 5 dimensions\n",
    "\n",
    "18) Write a statement that prints `Your total Big-5 personality score is X`, where `X` displays the total score\n"
   ]
  },
  {
   "cell_type": "code",
   "execution_count": 1,
   "metadata": {},
   "outputs": [],
   "source": [
    "## YOUR CODE HERE\n"
   ]
  }
 ],
 "metadata": {
  "kernelspec": {
   "display_name": "Python 3",
   "language": "python",
   "name": "python3"
  },
  "language_info": {
   "codemirror_mode": {
    "name": "ipython",
    "version": 3
   },
   "file_extension": ".py",
   "mimetype": "text/x-python",
   "name": "python",
   "nbconvert_exporter": "python",
   "pygments_lexer": "ipython3",
   "version": "3.7.3"
  },
  "toc": {
   "base_numbering": 1,
   "nav_menu": {},
   "number_sections": false,
   "sideBar": false,
   "skip_h1_title": false,
   "title_cell": "Table of Contents",
   "title_sidebar": "Contents",
   "toc_cell": false,
   "toc_position": {},
   "toc_section_display": false,
   "toc_window_display": false
  }
 },
 "nbformat": 4,
 "nbformat_minor": 2
}
